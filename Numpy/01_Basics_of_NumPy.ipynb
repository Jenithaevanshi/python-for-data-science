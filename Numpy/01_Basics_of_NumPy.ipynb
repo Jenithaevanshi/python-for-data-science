{
 "cells": [
  {
   "cell_type": "markdown",
   "metadata": {},
   "source": [
    "# Introduction to NumPy"
   ]
  },
  {
   "cell_type": "markdown",
   "metadata": {},
   "source": [
    "**NumPy** is a library written for scientific computing and data analysis. It stands for numerical python.\n",
    "\n",
    "The most basic object in NumPy is the ```array```, which is **homogenous** in nature. By homogenous, we mean that all the elements in a numpy array have to be of the **same data type**, which is commonly numeric (float or integer). "
   ]
  },
  {
   "cell_type": "markdown",
   "metadata": {},
   "source": [
    "### Numpy vs Lists "
   ]
  },
  {
   "cell_type": "code",
   "execution_count": 5,
   "metadata": {},
   "outputs": [
    {
     "ename": "TypeError",
     "evalue": "can't multiply sequence by non-int of type 'float'",
     "output_type": "error",
     "traceback": [
      "\u001b[1;31m---------------------------------------------------------------------------\u001b[0m",
      "\u001b[1;31mTypeError\u001b[0m                                 Traceback (most recent call last)",
      "Cell \u001b[1;32mIn[5], line 7\u001b[0m\n\u001b[0;32m      3\u001b[0m lst\n\u001b[0;32m      5\u001b[0m \u001b[38;5;66;03m# try to multiply 2.5 directly to the created list\u001b[39;00m\n\u001b[1;32m----> 7\u001b[0m lst\u001b[38;5;241m=\u001b[39m[\u001b[38;5;241m1\u001b[39m, \u001b[38;5;241m2\u001b[39m, \u001b[38;5;241m3\u001b[39m, \u001b[38;5;241m4\u001b[39m, \u001b[38;5;241m5\u001b[39m]\u001b[38;5;241m*\u001b[39m\u001b[38;5;241m2.5\u001b[39m\n\u001b[0;32m      8\u001b[0m lst\n",
      "\u001b[1;31mTypeError\u001b[0m: can't multiply sequence by non-int of type 'float'"
     ]
    }
   ],
   "source": [
    "# intialise a list with the following elements: 1, 2, 3, 4, 5\n",
    "lst=[1, 2, 3, 4, 5]\n",
    "lst\n",
    "\n",
    "# try to multiply 2.5 directly to the created list\n",
    "\n",
    "lst=[1, 2, 3, 4, 5]*2.5\n",
    "lst"
   ]
  },
  {
   "cell_type": "markdown",
   "metadata": {},
   "source": [
    " multiply a list directly by a number in Python, it doesn't perform element-wise multiplication as you might expect.This will raise a TypeError because you can't multiply a list by a float - list repetition only works with integers.\n",
    "you might want to use NumPy arrays which support element-wise operations:\n"
   ]
  },
  {
   "cell_type": "markdown",
   "metadata": {},
   "source": [
    "Lists cannot operate over the entire data together. You need to run _map_ or _apply_ functions to multiply each element with 2.5. Let's try to perform this using a NumPy array."
   ]
  },
  {
   "cell_type": "markdown",
   "metadata": {},
   "source": [
    "### Creating NumPy Arrays \n",
    "\n",
    "There are multiple ways to create numpy arrays, the most commmon ones being:\n",
    "* Convert lists or tuples to arrays using ```np.array()```\n",
    "* Initialise arrays of fixed size (when the size is known) "
   ]
  },
  {
   "cell_type": "code",
   "execution_count": 7,
   "metadata": {},
   "outputs": [],
   "source": [
    "# Import the numpy library\n",
    "# np is simply an alias, you may use any other alias, though np is quite standard\n",
    "import numpy as np\n"
   ]
  },
  {
   "cell_type": "code",
   "execution_count": 11,
   "metadata": {},
   "outputs": [
    {
     "data": {
      "text/plain": [
       "array([1, 2, 3, 4, 5])"
      ]
     },
     "execution_count": 11,
     "metadata": {},
     "output_type": "execute_result"
    }
   ],
   "source": [
    "# Creating a 1-D array using a list\n",
    "# np.array() takes in a list or a tuple as argument, and converts into an array\n",
    "\n",
    "np_l = np.array([1, 2, 3, 4, 5])\n",
    "np_l"
   ]
  },
  {
   "cell_type": "code",
   "execution_count": 13,
   "metadata": {},
   "outputs": [],
   "source": [
    "# Multiply each element with 2.5 \n",
    "\n",
    "mul=np_l*2.5"
   ]
  },
  {
   "cell_type": "code",
   "execution_count": 15,
   "metadata": {},
   "outputs": [
    {
     "name": "stdout",
     "output_type": "stream",
     "text": [
      "[ 2.5  5.   7.5 10.  12.5]\n"
     ]
    }
   ],
   "source": [
    "# Print the result using the print command. Compare the structure of list and array.\n",
    "print(mul)"
   ]
  },
  {
   "cell_type": "code",
   "execution_count": 31,
   "metadata": {},
   "outputs": [
    {
     "name": "stdout",
     "output_type": "stream",
     "text": [
      "[1 'abc' True]\n"
     ]
    }
   ],
   "source": [
    "# Create a 1-D array using with the elements (1, abc, True)\n",
    "#my_list = [1, \"abc\", True]\n",
    "#print(my_list)  #---> generl python approach\n",
    "#Using a NumPy Array (For Numerical Work, but Mixed Types are Stored as Objects)\n",
    "import numpy as np\n",
    "\n",
    "my_array = np.array([1, \"abc\", True], dtype=object)\n",
    "print(my_array)  # Output: [1 'abc' True]\n",
    "\n",
    "#import pandas as pd\n",
    "\n",
    "#my_series = pd.Series([1, \"abc\", True])\n",
    "#print(my_series)\n",
    "\n",
    "#Pandas Series is like a 1-D array but with more functionality, and it handles mixed types naturally."
   ]
  },
  {
   "cell_type": "markdown",
   "metadata": {},
   "source": [
    "You can see above that the elements are of single data type. The numerical and the boolean value is converted to string. "
   ]
  },
  {
   "cell_type": "markdown",
   "metadata": {},
   "source": [
    "### Operations over Arrays\n",
    "One thing to note here is that NumPy comes with its own set of methods and operations. You should not assume that the operators will work in the same way as lists. Look at the example below."
   ]
  },
  {
   "cell_type": "code",
   "execution_count": 33,
   "metadata": {},
   "outputs": [
    {
     "name": "stdout",
     "output_type": "stream",
     "text": [
      "(1, 2, 3, 4, 5, 6)\n"
     ]
    }
   ],
   "source": [
    "# Create 2 lists with elements (1, 2, 3) and (4, 5, 6)\n",
    "list1 = (1, 2, 3)\n",
    "list2 = (4, 5, 6)\n",
    "sum=list1+list2\n",
    "\n",
    "# Use the '+' operator and print the results\n",
    "print(sum)\n"
   ]
  },
  {
   "cell_type": "code",
   "execution_count": 35,
   "metadata": {},
   "outputs": [
    {
     "data": {
      "text/plain": [
       "array([5, 7, 9])"
      ]
     },
     "execution_count": 35,
     "metadata": {},
     "output_type": "execute_result"
    }
   ],
   "source": [
    "# Convert the above lists to arrays and use the '+' operator\n",
    "\n",
    "np_1 = np.array((1, 2, 3))\n",
    "np_2 =np.array((4, 5, 6)) \n",
    "sum=np_1+np_2\n",
    "sum\n"
   ]
  },
  {
   "cell_type": "markdown",
   "metadata": {},
   "source": [
    "You can look at the difference between the two outputs. We will look at different operations over NumPy arrays in detail in the coming segments."
   ]
  }
 ],
 "metadata": {
  "kernelspec": {
   "display_name": "Python [conda env:base] *",
   "language": "python",
   "name": "conda-base-py"
  },
  "language_info": {
   "codemirror_mode": {
    "name": "ipython",
    "version": 3
   },
   "file_extension": ".py",
   "mimetype": "text/x-python",
   "name": "python",
   "nbconvert_exporter": "python",
   "pygments_lexer": "ipython3",
   "version": "3.12.7"
  }
 },
 "nbformat": 4,
 "nbformat_minor": 4
}
