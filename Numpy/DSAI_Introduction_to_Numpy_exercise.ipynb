{
  "cells": [
    {
      "cell_type": "markdown",
      "metadata": {
        "id": "RQiU9w7CHB7k"
      },
      "source": [
        "# Introduction to NumPy\n",
        "In this session, we will learn about the basics of NumPy, which is the fundamental package for mathematical computing in Python. **NumPy** stands for **Numerical Python**. The primary use of NumPy is efficient data handling and manipulation.\n",
        "\n",
        "NumPy has inbuilt function for working with `numpy` objects. Here you will learn mainly about NumPy arrays which are a key class within NumPy. You will be introduced to some of it at the end of this session but will learn more about it in the coming weeks."
      ]
    },
    {
      "cell_type": "markdown",
      "source": [
        "To access `numpy` and its function, import it in your Python code like this: `import numpy as np`."
      ],
      "metadata": {
        "id": "Gz0ysde5IUaL"
      }
    },
    {
      "cell_type": "code",
      "execution_count": null,
      "metadata": {
        "id": "IS7aa_rkKqgz"
      },
      "outputs": [],
      "source": [
        "import numpy as np"
      ]
    },
    {
      "cell_type": "markdown",
      "metadata": {
        "id": "nvxmgaDCNLg_"
      },
      "source": [
        "# NumPy arrays\n",
        "Arrays are the main ways of storing data when using the `numpy` library. We create these arrays using the `array()` method that instantiates an object of the `ndarray` class."
      ]
    },
    {
      "cell_type": "markdown",
      "metadata": {
        "id": "3GjNTaOwPSLK"
      },
      "source": [
        "### Example\n",
        "Creating empty arrays"
      ]
    },
    {
      "cell_type": "code",
      "execution_count": null,
      "metadata": {
        "id": "1QTyOzbAPU0L"
      },
      "outputs": [],
      "source": [
        "#np_arr = np.array()"
      ]
    },
    {
      "cell_type": "code",
      "execution_count": null,
      "metadata": {
        "colab": {
          "base_uri": "https://localhost:8080/"
        },
        "id": "HbQ_iyp4Qi0A",
        "outputId": "d7c0e743-14ae-44da-c14f-a715985526c6"
      },
      "outputs": [
        {
          "output_type": "execute_result",
          "data": {
            "text/plain": [
              "array([], dtype=float64)"
            ]
          },
          "metadata": {},
          "execution_count": 152
        }
      ],
      "source": [
        "np_arr = np.array(object = [])\n",
        "np_arr"
      ]
    },
    {
      "cell_type": "code",
      "execution_count": null,
      "metadata": {
        "id": "H8hhNLe68ZPm",
        "outputId": "d6ed62bc-f89f-42dd-bd5a-80cb1b095804",
        "colab": {
          "base_uri": "https://localhost:8080/"
        }
      },
      "outputs": [
        {
          "output_type": "execute_result",
          "data": {
            "text/plain": [
              "array([], dtype=float64)"
            ]
          },
          "metadata": {},
          "execution_count": 153
        }
      ],
      "source": [
        "np_arr = np.array([])\n",
        "np_arr"
      ]
    },
    {
      "cell_type": "code",
      "execution_count": null,
      "metadata": {
        "colab": {
          "base_uri": "https://localhost:8080/"
        },
        "id": "ypfAAarfQnB-",
        "outputId": "ecc63a98-658d-4243-a2f2-455cb1f17d37"
      },
      "outputs": [
        {
          "output_type": "execute_result",
          "data": {
            "text/plain": [
              "numpy.ndarray"
            ]
          },
          "metadata": {},
          "execution_count": 154
        }
      ],
      "source": [
        "type(np_arr)"
      ]
    },
    {
      "cell_type": "code",
      "execution_count": null,
      "metadata": {
        "colab": {
          "base_uri": "https://localhost:8080/"
        },
        "id": "bT6nET7lQqOE",
        "outputId": "4e31bdd1-828d-4b24-b80d-fe75046d3093"
      },
      "outputs": [
        {
          "output_type": "stream",
          "name": "stdout",
          "text": [
            "[]\n"
          ]
        }
      ],
      "source": [
        "print(np_arr)"
      ]
    },
    {
      "cell_type": "code",
      "execution_count": null,
      "metadata": {
        "colab": {
          "base_uri": "https://localhost:8080/"
        },
        "id": "75lKpeeDAd3h",
        "outputId": "48caae22-d062-454a-c87e-4d4c0412c081"
      },
      "outputs": [
        {
          "output_type": "execute_result",
          "data": {
            "text/plain": [
              "0"
            ]
          },
          "metadata": {},
          "execution_count": 156
        }
      ],
      "source": [
        "len(np_arr)"
      ]
    },
    {
      "cell_type": "markdown",
      "metadata": {
        "id": "_DVKAQHuRg4y"
      },
      "source": [
        "### Example\n",
        "Creating arrays from lists"
      ]
    },
    {
      "cell_type": "code",
      "execution_count": null,
      "metadata": {
        "colab": {
          "base_uri": "https://localhost:8080/"
        },
        "id": "cpwkYSONHMCG",
        "outputId": "b8d924d8-7ee8-478b-c0e6-d9a72a0fc166"
      },
      "outputs": [
        {
          "output_type": "execute_result",
          "data": {
            "text/plain": [
              "[1, 4, 5, 6]"
            ]
          },
          "metadata": {},
          "execution_count": 157
        }
      ],
      "source": [
        "some_list = [1, 4, 5, 6]\n",
        "some_list"
      ]
    },
    {
      "cell_type": "code",
      "execution_count": null,
      "metadata": {
        "colab": {
          "base_uri": "https://localhost:8080/"
        },
        "id": "l7u90sBlRvlb",
        "outputId": "203d56d2-afbb-43c6-929f-c0f159437cba"
      },
      "outputs": [
        {
          "output_type": "execute_result",
          "data": {
            "text/plain": [
              "list"
            ]
          },
          "metadata": {},
          "execution_count": 158
        }
      ],
      "source": [
        "type(some_list)"
      ]
    },
    {
      "cell_type": "code",
      "execution_count": null,
      "metadata": {
        "colab": {
          "base_uri": "https://localhost:8080/"
        },
        "id": "fn7iyzerRqqn",
        "outputId": "5b981115-2f65-47e6-acd6-e7bc4eee4d7c"
      },
      "outputs": [
        {
          "output_type": "execute_result",
          "data": {
            "text/plain": [
              "array([1, 4, 5, 6])"
            ]
          },
          "metadata": {},
          "execution_count": 159
        }
      ],
      "source": [
        "np_arr = np.array(object = some_list)\n",
        "np_arr"
      ]
    },
    {
      "cell_type": "code",
      "execution_count": null,
      "metadata": {
        "colab": {
          "base_uri": "https://localhost:8080/"
        },
        "id": "ooSJIO3NP2CF",
        "outputId": "97ffd156-08d0-44cb-f180-7a79fc25f533"
      },
      "outputs": [
        {
          "output_type": "execute_result",
          "data": {
            "text/plain": [
              "numpy.ndarray"
            ]
          },
          "metadata": {},
          "execution_count": 160
        }
      ],
      "source": [
        "type(np_arr)"
      ]
    },
    {
      "cell_type": "code",
      "execution_count": null,
      "metadata": {
        "id": "blUpa7ts8ZQJ",
        "outputId": "0565299f-0715-4068-d199-7440140cba91",
        "colab": {
          "base_uri": "https://localhost:8080/"
        }
      },
      "outputs": [
        {
          "output_type": "execute_result",
          "data": {
            "text/plain": [
              "1"
            ]
          },
          "metadata": {},
          "execution_count": 161
        }
      ],
      "source": [
        "np_arr[0]"
      ]
    },
    {
      "cell_type": "code",
      "execution_count": null,
      "metadata": {
        "id": "upH2IhVT8ZQJ",
        "outputId": "88e52562-2796-4848-9773-0a736f1de8ee",
        "colab": {
          "base_uri": "https://localhost:8080/"
        }
      },
      "outputs": [
        {
          "output_type": "execute_result",
          "data": {
            "text/plain": [
              "numpy.int64"
            ]
          },
          "metadata": {},
          "execution_count": 162
        }
      ],
      "source": [
        "type(np_arr[0])"
      ]
    },
    {
      "cell_type": "code",
      "execution_count": null,
      "metadata": {
        "colab": {
          "base_uri": "https://localhost:8080/"
        },
        "id": "ir6h4afWAd3k",
        "outputId": "07b1a212-0b98-46fa-83b5-1f6b257ac070"
      },
      "outputs": [
        {
          "output_type": "execute_result",
          "data": {
            "text/plain": [
              "dtype('int64')"
            ]
          },
          "metadata": {},
          "execution_count": 163
        }
      ],
      "source": [
        "np_arr.dtype"
      ]
    },
    {
      "cell_type": "code",
      "execution_count": null,
      "metadata": {
        "colab": {
          "base_uri": "https://localhost:8080/"
        },
        "id": "GN4B46iNP8vy",
        "outputId": "6216a0d6-d623-4ee0-b5c6-9ece5bc2b830"
      },
      "outputs": [
        {
          "output_type": "execute_result",
          "data": {
            "text/plain": [
              "array(['apple', 'orange', 'banana', 'watermelon', 'jackfruit'],\n",
              "      dtype='<U10')"
            ]
          },
          "metadata": {},
          "execution_count": 164
        }
      ],
      "source": [
        "np_arr = np.array(['apple', 'orange', 'banana', 'watermelon', 'jackfruit'])\n",
        "np_arr"
      ]
    },
    {
      "cell_type": "code",
      "execution_count": null,
      "metadata": {
        "colab": {
          "base_uri": "https://localhost:8080/"
        },
        "id": "Zmme70I_P72_",
        "outputId": "675bd105-2624-4e26-b719-966fc2949485"
      },
      "outputs": [
        {
          "output_type": "execute_result",
          "data": {
            "text/plain": [
              "numpy.ndarray"
            ]
          },
          "metadata": {},
          "execution_count": 165
        }
      ],
      "source": [
        "type(np_arr)"
      ]
    },
    {
      "cell_type": "code",
      "execution_count": null,
      "metadata": {
        "id": "502-pAm08ZQM",
        "outputId": "f39f3e8f-d5cb-4220-b81b-39690fafb34e",
        "colab": {
          "base_uri": "https://localhost:8080/",
          "height": 35
        }
      },
      "outputs": [
        {
          "output_type": "execute_result",
          "data": {
            "text/plain": [
              "'apple'"
            ],
            "application/vnd.google.colaboratory.intrinsic+json": {
              "type": "string"
            }
          },
          "metadata": {},
          "execution_count": 166
        }
      ],
      "source": [
        "np_arr[0]"
      ]
    },
    {
      "cell_type": "code",
      "execution_count": null,
      "metadata": {
        "id": "FXIw8jzb8ZQM",
        "outputId": "bdfe4b65-6588-4ea6-afec-49b59b747487",
        "colab": {
          "base_uri": "https://localhost:8080/"
        }
      },
      "outputs": [
        {
          "output_type": "execute_result",
          "data": {
            "text/plain": [
              "numpy.str_"
            ]
          },
          "metadata": {},
          "execution_count": 167
        }
      ],
      "source": [
        "type(np_arr[0])"
      ]
    },
    {
      "cell_type": "code",
      "execution_count": null,
      "metadata": {
        "colab": {
          "base_uri": "https://localhost:8080/"
        },
        "id": "GpWV-JrrAd3l",
        "outputId": "c6487e9d-c428-4dec-ebe6-70edfb2c4fb2"
      },
      "outputs": [
        {
          "output_type": "execute_result",
          "data": {
            "text/plain": [
              "dtype('<U10')"
            ]
          },
          "metadata": {},
          "execution_count": 168
        }
      ],
      "source": [
        "np_arr.dtype"
      ]
    },
    {
      "cell_type": "markdown",
      "source": [
        "The datatype `<U10` represents a **Unicode** string with a maximum length of 10 characters. To learn more about Unicode strings, you can checkout the official [documentation](https://https://docs.python.org/3/howto/unicode.html)."
      ],
      "metadata": {
        "id": "SBHDoWiXINmO"
      }
    },
    {
      "cell_type": "code",
      "execution_count": null,
      "metadata": {
        "colab": {
          "base_uri": "https://localhost:8080/"
        },
        "id": "iT2od0MuAd3m",
        "outputId": "b3ea5d2c-6be3-4543-ae68-8e116706348c"
      },
      "outputs": [
        {
          "output_type": "execute_result",
          "data": {
            "text/plain": [
              "array([1, 2, 3])"
            ]
          },
          "metadata": {},
          "execution_count": 169
        }
      ],
      "source": [
        "np_arr = np.array(object = [1, 2, 3], dtype = 'int')\n",
        "np_arr"
      ]
    },
    {
      "cell_type": "code",
      "execution_count": null,
      "metadata": {
        "colab": {
          "base_uri": "https://localhost:8080/"
        },
        "id": "FIjeFeT_Ad3m",
        "outputId": "58a70374-8aeb-402c-b497-065c70f97f5f"
      },
      "outputs": [
        {
          "output_type": "execute_result",
          "data": {
            "text/plain": [
              "array([1., 2., 3.])"
            ]
          },
          "metadata": {},
          "execution_count": 170
        }
      ],
      "source": [
        "np_arr = np.array(object = [1, 2, 3], dtype = 'float')\n",
        "np_arr"
      ]
    },
    {
      "cell_type": "code",
      "execution_count": null,
      "metadata": {
        "colab": {
          "base_uri": "https://localhost:8080/"
        },
        "id": "nfGs_oTtAd3n",
        "outputId": "0ad7a133-309d-4f01-eb5a-f3f5ae426987"
      },
      "outputs": [
        {
          "output_type": "execute_result",
          "data": {
            "text/plain": [
              "array([-1. ,  5.5,  2. ,  3.5])"
            ]
          },
          "metadata": {},
          "execution_count": 171
        }
      ],
      "source": [
        "np_arr = np.array([-1, 5.5, 2, 3.5])\n",
        "np_arr"
      ]
    },
    {
      "cell_type": "markdown",
      "metadata": {
        "id": "emHRjIYyAd3o"
      },
      "source": [
        "Note that the integers have been converted to floats. Arrays cannot be of composite data types."
      ]
    },
    {
      "cell_type": "code",
      "execution_count": null,
      "metadata": {
        "colab": {
          "base_uri": "https://localhost:8080/"
        },
        "id": "UR-22PCcQ8WQ",
        "outputId": "1b0ff1cb-02a0-416a-8115-f592a74926f1"
      },
      "outputs": [
        {
          "output_type": "execute_result",
          "data": {
            "text/plain": [
              "array(['apple', '2', 'banana', '4.5'], dtype='<U32')"
            ]
          },
          "metadata": {},
          "execution_count": 172
        }
      ],
      "source": [
        "np_arr = np.array(['apple', 2, 'banana', 4.5])\n",
        "np_arr"
      ]
    },
    {
      "cell_type": "markdown",
      "metadata": {
        "id": "bo1iW4JyAd3p"
      },
      "source": [
        "Note that the numbers have been converted to strings. Arrays cannot be of composite data types."
      ]
    },
    {
      "cell_type": "markdown",
      "metadata": {
        "id": "QAiGV_sEVIoE"
      },
      "source": [
        "Learners are encouraged to study and experiment with the `dtype` parameter further."
      ]
    },
    {
      "cell_type": "markdown",
      "metadata": {
        "id": "NGrRnPS7SGcE"
      },
      "source": [
        "### Example\n",
        "Creating arrays from tuples"
      ]
    },
    {
      "cell_type": "code",
      "execution_count": null,
      "metadata": {
        "colab": {
          "base_uri": "https://localhost:8080/"
        },
        "id": "jDk5UY7YSMVy",
        "outputId": "e4561188-dcf2-49a1-deee-b0e0025ada86"
      },
      "outputs": [
        {
          "output_type": "stream",
          "name": "stdout",
          "text": [
            "(-5, 1, -4, 7, 2) <class 'tuple'>\n"
          ]
        }
      ],
      "source": [
        "some_tuple = (-5, 1, -4, 7, 2)\n",
        "print(some_tuple, type(some_tuple))"
      ]
    },
    {
      "cell_type": "code",
      "execution_count": null,
      "metadata": {
        "colab": {
          "base_uri": "https://localhost:8080/"
        },
        "id": "AolGgDUaSMSh",
        "outputId": "b2d9a0ba-aa00-42fc-c26f-fa0c04b36825"
      },
      "outputs": [
        {
          "output_type": "stream",
          "name": "stdout",
          "text": [
            "[-5  1 -4  7  2] <class 'numpy.ndarray'>\n"
          ]
        }
      ],
      "source": [
        "np_arr = np.array(some_tuple)\n",
        "print(np_arr, type(np_arr))"
      ]
    },
    {
      "cell_type": "markdown",
      "metadata": {
        "id": "gJ6R4ojDSzAI"
      },
      "source": [
        "### Example\n",
        "Creating arrays from sets"
      ]
    },
    {
      "cell_type": "code",
      "execution_count": null,
      "metadata": {
        "colab": {
          "base_uri": "https://localhost:8080/"
        },
        "id": "8Jy1MKUqS45W",
        "outputId": "60f98420-0645-4583-b7d1-434dbd00c6bd"
      },
      "outputs": [
        {
          "output_type": "stream",
          "name": "stdout",
          "text": [
            "{1.3, 2.8, 8.4, -6.2, -5.6} <class 'set'>\n"
          ]
        }
      ],
      "source": [
        "some_set = {1.3, -5.6, 2.8, -6.2, 8.4}\n",
        "print(some_set, type(some_set))"
      ]
    },
    {
      "cell_type": "code",
      "execution_count": null,
      "metadata": {
        "colab": {
          "base_uri": "https://localhost:8080/"
        },
        "id": "XXcYeaAES4qg",
        "outputId": "9d997c67-7baa-446f-f940-b31641d20e48"
      },
      "outputs": [
        {
          "output_type": "execute_result",
          "data": {
            "text/plain": [
              "array({1.3, 2.8, 8.4, -6.2, -5.6}, dtype=object)"
            ]
          },
          "metadata": {},
          "execution_count": 176
        }
      ],
      "source": [
        "np_arr = np.array(some_set)\n",
        "np_arr"
      ]
    },
    {
      "cell_type": "markdown",
      "metadata": {
        "id": "uismT6plRYTY"
      },
      "source": [
        "Sets have no inherent ordering. So, it makes little sense to generate arrays from sets."
      ]
    },
    {
      "cell_type": "code",
      "execution_count": null,
      "metadata": {
        "id": "Lzx_5N53Tifs"
      },
      "outputs": [],
      "source": [
        "# some_set[0]"
      ]
    },
    {
      "cell_type": "code",
      "execution_count": null,
      "metadata": {
        "id": "9CnKEuYOTlBG"
      },
      "outputs": [],
      "source": [
        "# np_arr[0]"
      ]
    },
    {
      "cell_type": "markdown",
      "metadata": {
        "id": "-HyLcqaWdEb4"
      },
      "source": [
        "In this section, we looked at an introduction to NumPy arrays and how we can create them from other data structures such as lists."
      ]
    },
    {
      "cell_type": "markdown",
      "metadata": {
        "id": "UYxldePKGo65"
      },
      "source": [
        "# Multidimensional arrays\n",
        "One of NumPy's fundamental features is its ability to handle multidimensional arrays efficiently. A multidimensional array is an array with more than one dimension or axis."
      ]
    },
    {
      "cell_type": "markdown",
      "metadata": {
        "id": "6kK6mwiDufcy"
      },
      "source": [
        "### Example\n",
        "Creating 2D arrays"
      ]
    },
    {
      "cell_type": "code",
      "execution_count": null,
      "metadata": {
        "colab": {
          "base_uri": "https://localhost:8080/"
        },
        "id": "U4honlBZHgcI",
        "outputId": "7b2e5f97-adc1-43f0-d8f2-15b66b516bbc"
      },
      "outputs": [
        {
          "output_type": "execute_result",
          "data": {
            "text/plain": [
              "array([[1, 2, 3],\n",
              "       [4, 5, 6]])"
            ]
          },
          "metadata": {},
          "execution_count": 179
        }
      ],
      "source": [
        "arr_2d = np.array([[1, 2, 3], [4, 5, 6]])\n",
        "arr_2d"
      ]
    },
    {
      "cell_type": "markdown",
      "metadata": {
        "id": "dhuIp2dcXQn3"
      },
      "source": [
        "Note that the object here is a list within a list, that is, a nested list with two levels."
      ]
    },
    {
      "cell_type": "markdown",
      "source": [
        "Creating 3D arrays"
      ],
      "metadata": {
        "id": "wOOO8wL_kM2w"
      }
    },
    {
      "cell_type": "code",
      "execution_count": null,
      "metadata": {
        "id": "HDvUctlW8ZQj",
        "outputId": "162f8d6c-7283-4665-83cd-365b59a3aee9",
        "colab": {
          "base_uri": "https://localhost:8080/"
        }
      },
      "outputs": [
        {
          "output_type": "execute_result",
          "data": {
            "text/plain": [
              "array([[[ 1,  5],\n",
              "        [ 2,  7],\n",
              "        [ 3,  9]],\n",
              "\n",
              "       [[ 4,  8],\n",
              "        [ 5, 11],\n",
              "        [ 6, 13]]])"
            ]
          },
          "metadata": {},
          "execution_count": 180
        }
      ],
      "source": [
        "arr_3d = np.array([[[1, 5], [2, 7], [3, 9]], [[4, 8], [5, 11], [6, 13]]])\n",
        "arr_3d"
      ]
    },
    {
      "cell_type": "markdown",
      "metadata": {
        "id": "cdbQ1v8q8ZQk"
      },
      "source": [
        "Note that the object here is a list within a list within a list, that is, a nested list with three levels."
      ]
    },
    {
      "cell_type": "markdown",
      "metadata": {
        "id": "yNPd3Qw7E7EI"
      },
      "source": [
        "### Quiz\n",
        "Consider the list `[[0.4, 1.2, 0.5, 0.8, 2.1], [2.1, 2.2, 9.4, 3.1]]`. What happens when you convert it to a NumPy array?"
      ]
    },
    {
      "cell_type": "code",
      "execution_count": null,
      "metadata": {
        "id": "U6uZaVHePDVd"
      },
      "outputs": [],
      "source": [
        "##### CODE HERE #####"
      ]
    },
    {
      "cell_type": "markdown",
      "metadata": {
        "id": "E6hxbsopifHw"
      },
      "source": [
        "What was the problem?"
      ]
    },
    {
      "cell_type": "markdown",
      "metadata": {
        "id": "Svb7g43bk8Ld"
      },
      "source": [
        "# NumPy array attributes\n",
        "NumPy arrays are well-structured, well-designed, and complex data structures. It is important to study and look at these data structures through the lens of their attributes."
      ]
    },
    {
      "cell_type": "markdown",
      "metadata": {
        "id": "onq-Q1C9thP3"
      },
      "source": [
        "### Example\n",
        "Looking at the number of dimensions or axes in arrays"
      ]
    },
    {
      "cell_type": "code",
      "execution_count": null,
      "metadata": {
        "colab": {
          "base_uri": "https://localhost:8080/"
        },
        "id": "mImdey3gqc_9",
        "outputId": "3dcb8469-be17-42ba-a051-739a0ae85d9a"
      },
      "outputs": [
        {
          "output_type": "execute_result",
          "data": {
            "text/plain": [
              "array([[ 1, -1],\n",
              "       [ 0,  1]])"
            ]
          },
          "metadata": {},
          "execution_count": 182
        }
      ],
      "source": [
        "np_arr = np.array([[1, -1], [0, 1]])\n",
        "np_arr"
      ]
    },
    {
      "cell_type": "code",
      "execution_count": null,
      "metadata": {
        "colab": {
          "base_uri": "https://localhost:8080/"
        },
        "id": "J_XG3YaZtrDs",
        "outputId": "05dcf4a9-28b0-4054-ab91-0e827c2ec08c"
      },
      "outputs": [
        {
          "output_type": "execute_result",
          "data": {
            "text/plain": [
              "2"
            ]
          },
          "metadata": {},
          "execution_count": 183
        }
      ],
      "source": [
        "np_arr.ndim"
      ]
    },
    {
      "cell_type": "markdown",
      "metadata": {
        "id": "tZDJSEzSqtSM"
      },
      "source": [
        "The `ndim` attribute tells you the number of dimensions in the array."
      ]
    },
    {
      "cell_type": "code",
      "execution_count": null,
      "metadata": {
        "colab": {
          "base_uri": "https://localhost:8080/"
        },
        "id": "962kA3ivcTpV",
        "outputId": "6a6192c1-b591-4738-8071-b08146fcb8da"
      },
      "outputs": [
        {
          "output_type": "execute_result",
          "data": {
            "text/plain": [
              "1"
            ]
          },
          "metadata": {},
          "execution_count": 184
        }
      ],
      "source": [
        "np_arr = np.array([22, -19, 45, 'John', 'Dwivedi'])\n",
        "np_arr.ndim"
      ]
    },
    {
      "cell_type": "markdown",
      "metadata": {
        "id": "F5qIL7aHtKoP"
      },
      "source": [
        "### Example\n",
        "Looking at the shape of arrays"
      ]
    },
    {
      "cell_type": "code",
      "execution_count": null,
      "metadata": {
        "id": "lnuKR0wn8ZQu",
        "outputId": "869535cd-543a-443c-dc80-2c2e92058e6b",
        "colab": {
          "base_uri": "https://localhost:8080/"
        }
      },
      "outputs": [
        {
          "output_type": "execute_result",
          "data": {
            "text/plain": [
              "array(['apple', 'banana', 'cherry'], dtype='<U6')"
            ]
          },
          "metadata": {},
          "execution_count": 185
        }
      ],
      "source": [
        "np_arr = np.array(['apple', 'banana', 'cherry'])\n",
        "np_arr"
      ]
    },
    {
      "cell_type": "code",
      "execution_count": null,
      "metadata": {
        "id": "w6VyDUEs8ZQu",
        "outputId": "331bfefd-50c8-45f5-9955-e06f8a9fddcd",
        "colab": {
          "base_uri": "https://localhost:8080/"
        }
      },
      "outputs": [
        {
          "output_type": "execute_result",
          "data": {
            "text/plain": [
              "(3,)"
            ]
          },
          "metadata": {},
          "execution_count": 186
        }
      ],
      "source": [
        "np_arr.shape"
      ]
    },
    {
      "cell_type": "markdown",
      "source": [
        "The `shape` attribute in NumPy returns a tuple that represents the dimensions of the array. It shows the size of the array along each dimension."
      ],
      "metadata": {
        "id": "Nc6XM9TctpAn"
      }
    },
    {
      "cell_type": "code",
      "execution_count": null,
      "metadata": {
        "id": "UtsjfscQ8ZQv",
        "outputId": "f47877af-0962-4895-8aa9-bd97ce46f0d9",
        "colab": {
          "base_uri": "https://localhost:8080/"
        }
      },
      "outputs": [
        {
          "output_type": "execute_result",
          "data": {
            "text/plain": [
              "1"
            ]
          },
          "metadata": {},
          "execution_count": 187
        }
      ],
      "source": [
        "len(np_arr.shape)"
      ]
    },
    {
      "cell_type": "code",
      "execution_count": null,
      "metadata": {
        "id": "wKkusvVR8ZQv",
        "outputId": "9645177f-c9f6-4659-c0e9-a7fb1e10b234",
        "colab": {
          "base_uri": "https://localhost:8080/"
        }
      },
      "outputs": [
        {
          "output_type": "execute_result",
          "data": {
            "text/plain": [
              "1"
            ]
          },
          "metadata": {},
          "execution_count": 188
        }
      ],
      "source": [
        "np_arr.ndim"
      ]
    },
    {
      "cell_type": "code",
      "execution_count": null,
      "metadata": {
        "colab": {
          "base_uri": "https://localhost:8080/"
        },
        "id": "OjAnkukppdfT",
        "outputId": "8736f026-c4ce-471d-e816-1f5327c60e09"
      },
      "outputs": [
        {
          "output_type": "execute_result",
          "data": {
            "text/plain": [
              "array([['apple', 'banana'],\n",
              "       ['cherry', 'date']], dtype='<U6')"
            ]
          },
          "metadata": {},
          "execution_count": 189
        }
      ],
      "source": [
        "np_arr = np.array([['apple', 'banana'], ['cherry', 'date']])\n",
        "np_arr"
      ]
    },
    {
      "cell_type": "code",
      "execution_count": null,
      "metadata": {
        "colab": {
          "base_uri": "https://localhost:8080/"
        },
        "id": "xe9cmGdztHpX",
        "outputId": "f8f2badc-f78d-4d8b-9073-4c1480279fff"
      },
      "outputs": [
        {
          "output_type": "execute_result",
          "data": {
            "text/plain": [
              "(2, 2)"
            ]
          },
          "metadata": {},
          "execution_count": 190
        }
      ],
      "source": [
        "np_arr.shape"
      ]
    },
    {
      "cell_type": "code",
      "execution_count": null,
      "metadata": {
        "colab": {
          "base_uri": "https://localhost:8080/"
        },
        "id": "cbrGa39QcjxM",
        "outputId": "e21b33e9-c3cd-407c-df8a-db079405f7c8"
      },
      "outputs": [
        {
          "output_type": "execute_result",
          "data": {
            "text/plain": [
              "2"
            ]
          },
          "metadata": {},
          "execution_count": 191
        }
      ],
      "source": [
        "len(np_arr.shape)"
      ]
    },
    {
      "cell_type": "code",
      "execution_count": null,
      "metadata": {
        "colab": {
          "base_uri": "https://localhost:8080/"
        },
        "id": "0zSjPbG9cn-5",
        "outputId": "d691bd3c-74cf-41bc-9212-eeafaeea56e2"
      },
      "outputs": [
        {
          "output_type": "execute_result",
          "data": {
            "text/plain": [
              "2"
            ]
          },
          "metadata": {},
          "execution_count": 192
        }
      ],
      "source": [
        "np_arr.ndim"
      ]
    },
    {
      "cell_type": "markdown",
      "metadata": {
        "id": "Xl63Mong8ZQy"
      },
      "source": [
        "### Example\n",
        "Studying the lengths of arrays"
      ]
    },
    {
      "cell_type": "code",
      "execution_count": null,
      "metadata": {
        "id": "fKsiHOvk8ZQz",
        "outputId": "43ff5df5-c751-44aa-9758-04a1694467b0",
        "colab": {
          "base_uri": "https://localhost:8080/"
        }
      },
      "outputs": [
        {
          "output_type": "execute_result",
          "data": {
            "text/plain": [
              "array([0, 1, 2, 3, 4])"
            ]
          },
          "metadata": {},
          "execution_count": 193
        }
      ],
      "source": [
        "np_arr = np.array([0, 1, 2, 3, 4])\n",
        "np_arr"
      ]
    },
    {
      "cell_type": "code",
      "execution_count": null,
      "metadata": {
        "id": "gKUYMW2r8ZQz",
        "outputId": "d9002b42-3974-41e8-e7bf-de2752366fe3",
        "colab": {
          "base_uri": "https://localhost:8080/"
        }
      },
      "outputs": [
        {
          "output_type": "execute_result",
          "data": {
            "text/plain": [
              "5"
            ]
          },
          "metadata": {},
          "execution_count": 194
        }
      ],
      "source": [
        "len(np_arr)"
      ]
    },
    {
      "cell_type": "code",
      "execution_count": null,
      "metadata": {
        "id": "OYX101RI8ZQ0",
        "outputId": "031e97a1-6ed8-4401-8a39-01c4c7e3efda",
        "colab": {
          "base_uri": "https://localhost:8080/"
        }
      },
      "outputs": [
        {
          "output_type": "execute_result",
          "data": {
            "text/plain": [
              "5"
            ]
          },
          "metadata": {},
          "execution_count": 195
        }
      ],
      "source": [
        "np_arr.size"
      ]
    },
    {
      "cell_type": "code",
      "execution_count": null,
      "metadata": {
        "id": "KyZFFQ568ZQ0",
        "outputId": "f18ea891-f451-4239-9852-040fbe02418a",
        "colab": {
          "base_uri": "https://localhost:8080/"
        }
      },
      "outputs": [
        {
          "output_type": "execute_result",
          "data": {
            "text/plain": [
              "array([['0', '1', '2', '3', '4'],\n",
              "       ['A', 'B', 'C', 'D', 'E']], dtype='<U21')"
            ]
          },
          "metadata": {},
          "execution_count": 196
        }
      ],
      "source": [
        "np_arr = np.array([[0, 1, 2, 3, 4], ['A', 'B', 'C', 'D', 'E']])\n",
        "np_arr"
      ]
    },
    {
      "cell_type": "code",
      "execution_count": null,
      "metadata": {
        "id": "inR6hxOW8ZQ1",
        "outputId": "ec3cc09f-a800-4f47-e328-7c52e0af7048",
        "colab": {
          "base_uri": "https://localhost:8080/"
        }
      },
      "outputs": [
        {
          "output_type": "execute_result",
          "data": {
            "text/plain": [
              "2"
            ]
          },
          "metadata": {},
          "execution_count": 197
        }
      ],
      "source": [
        "len(np_arr)"
      ]
    },
    {
      "cell_type": "code",
      "execution_count": null,
      "metadata": {
        "id": "YHGZ1hvy8ZQ2",
        "outputId": "728fade8-4b06-4c8f-fc59-5ec3cdc766e3",
        "colab": {
          "base_uri": "https://localhost:8080/"
        }
      },
      "outputs": [
        {
          "output_type": "execute_result",
          "data": {
            "text/plain": [
              "10"
            ]
          },
          "metadata": {},
          "execution_count": 198
        }
      ],
      "source": [
        "np_arr.size"
      ]
    },
    {
      "cell_type": "markdown",
      "metadata": {
        "id": "81XOV4vV8ZQ2"
      },
      "source": [
        "The `len()` method returns only the number of elements in the highest level of the array whereas the `size` attribute returns the total number of elements in the array."
      ]
    },
    {
      "cell_type": "markdown",
      "metadata": {
        "id": "vp9wSd0Ody-9"
      },
      "source": [
        "### Quiz\n",
        "Extract the shape of the array `quiz_arr = np.array([[2, 5, 3, 4], [1, 6, 4, 2], [7, 8, 4,1]])`."
      ]
    },
    {
      "cell_type": "code",
      "source": [
        "##### CODE HERE #####"
      ],
      "metadata": {
        "id": "_ASMctkYlCmT"
      },
      "execution_count": 1,
      "outputs": []
    },
    {
      "cell_type": "markdown",
      "metadata": {
        "id": "lyY1iUA1E-yw"
      },
      "source": [
        "### Quiz\n",
        "What is the shape of the array `np.array([2, 5, 3, 4])`?"
      ]
    },
    {
      "cell_type": "code",
      "execution_count": 2,
      "metadata": {
        "id": "oajxTAUZDPnE"
      },
      "outputs": [],
      "source": [
        "##### CODE HERE #####"
      ]
    },
    {
      "cell_type": "markdown",
      "metadata": {
        "id": "YGBEI1c_v9ud"
      },
      "source": [
        "In this section, we looked at some basic attributes of NumPy arrays. We urge all learners to go through the documentations for more details. You are encouraged to explore this further."
      ]
    },
    {
      "cell_type": "markdown",
      "metadata": {
        "id": "NdiWIIGfF9st"
      },
      "source": [
        "# Accessing NumPy array elements\n",
        "Elements can be accessed from arrays in various ways."
      ]
    },
    {
      "cell_type": "markdown",
      "metadata": {
        "id": "1cS7ayhIIuGW"
      },
      "source": [
        "### Example\n",
        "Accessing elements from 1D arrays"
      ]
    },
    {
      "cell_type": "code",
      "execution_count": null,
      "metadata": {
        "colab": {
          "base_uri": "https://localhost:8080/"
        },
        "id": "39dVDNFUe3fl",
        "outputId": "221e38af-ab15-4ffa-da91-28d229d459fa"
      },
      "outputs": [
        {
          "output_type": "execute_result",
          "data": {
            "text/plain": [
              "array([ 22, -36,  32,  47,  71, -45])"
            ]
          },
          "metadata": {},
          "execution_count": 202
        }
      ],
      "source": [
        "np_arr = np.array([22, -36, 32, 47, 71, -45])\n",
        "np_arr"
      ]
    },
    {
      "cell_type": "code",
      "execution_count": null,
      "metadata": {
        "colab": {
          "base_uri": "https://localhost:8080/"
        },
        "id": "ec2Q79yvI1B4",
        "outputId": "7e1b5bd7-fa3c-4dda-956f-4576da011df1"
      },
      "outputs": [
        {
          "output_type": "execute_result",
          "data": {
            "text/plain": [
              "32"
            ]
          },
          "metadata": {},
          "execution_count": 203
        }
      ],
      "source": [
        "np_arr[2]"
      ]
    },
    {
      "cell_type": "code",
      "execution_count": null,
      "metadata": {
        "colab": {
          "base_uri": "https://localhost:8080/"
        },
        "id": "kJH6i8o1fnHH",
        "outputId": "4ddc0668-d1d8-4dee-a48a-9a0d2f7a2f35"
      },
      "outputs": [
        {
          "output_type": "execute_result",
          "data": {
            "text/plain": [
              "array([-36,  32,  47])"
            ]
          },
          "metadata": {},
          "execution_count": 204
        }
      ],
      "source": [
        "np_arr[1:4]"
      ]
    },
    {
      "cell_type": "code",
      "execution_count": null,
      "metadata": {
        "colab": {
          "base_uri": "https://localhost:8080/"
        },
        "id": "-5sM7ngQAd4K",
        "outputId": "adc20f6e-d536-45f1-da32-d3f9107428cf"
      },
      "outputs": [
        {
          "output_type": "execute_result",
          "data": {
            "text/plain": [
              "array([-36,  32,  47])"
            ]
          },
          "metadata": {},
          "execution_count": 205
        }
      ],
      "source": [
        "np_arr[[1, 2, 3]]"
      ]
    },
    {
      "cell_type": "code",
      "execution_count": null,
      "metadata": {
        "id": "ZcL7UI0_8ZRF",
        "outputId": "4e2b76f5-0e0f-400b-8857-70274bce18de",
        "colab": {
          "base_uri": "https://localhost:8080/"
        }
      },
      "outputs": [
        {
          "output_type": "execute_result",
          "data": {
            "text/plain": [
              "array([-36,  71, -45])"
            ]
          },
          "metadata": {},
          "execution_count": 206
        }
      ],
      "source": [
        "np_arr[[1, 4, 5]]"
      ]
    },
    {
      "cell_type": "code",
      "execution_count": null,
      "metadata": {
        "colab": {
          "base_uri": "https://localhost:8080/"
        },
        "id": "kPKqLhHyfi9G",
        "outputId": "c9e32ab0-9dbe-4522-aae5-5ceb0b30b2e4"
      },
      "outputs": [
        {
          "output_type": "execute_result",
          "data": {
            "text/plain": [
              "array([ 32,  47,  71, -45])"
            ]
          },
          "metadata": {},
          "execution_count": 207
        }
      ],
      "source": [
        "np_arr[2:]"
      ]
    },
    {
      "cell_type": "code",
      "execution_count": null,
      "metadata": {
        "colab": {
          "base_uri": "https://localhost:8080/"
        },
        "id": "SuDXJjggklJU",
        "outputId": "221baa9a-c192-4e59-ab2c-c8a4562de1b3"
      },
      "outputs": [
        {
          "output_type": "execute_result",
          "data": {
            "text/plain": [
              "array([ 32,  47,  71, -45])"
            ]
          },
          "metadata": {},
          "execution_count": 208
        }
      ],
      "source": [
        "np_arr[2:6]"
      ]
    },
    {
      "cell_type": "code",
      "execution_count": null,
      "metadata": {
        "colab": {
          "base_uri": "https://localhost:8080/"
        },
        "id": "mZtp8cYLkrMZ",
        "outputId": "0e02ad9c-2a4c-42a6-c105-90e323edb6dc"
      },
      "outputs": [
        {
          "output_type": "execute_result",
          "data": {
            "text/plain": [
              "array([ 32,  47,  71, -45])"
            ]
          },
          "metadata": {},
          "execution_count": 209
        }
      ],
      "source": [
        "np_arr[2:len(np_arr)]"
      ]
    },
    {
      "cell_type": "code",
      "execution_count": null,
      "metadata": {
        "colab": {
          "base_uri": "https://localhost:8080/"
        },
        "id": "IpzCJTiVfpJW",
        "outputId": "2d860ac5-1e47-48a3-e398-54abfa765f5f"
      },
      "outputs": [
        {
          "output_type": "execute_result",
          "data": {
            "text/plain": [
              "array([ 22, -36,  32])"
            ]
          },
          "metadata": {},
          "execution_count": 210
        }
      ],
      "source": [
        "np_arr[:3]"
      ]
    },
    {
      "cell_type": "code",
      "execution_count": null,
      "metadata": {
        "colab": {
          "base_uri": "https://localhost:8080/"
        },
        "id": "SeQB4YVBkubA",
        "outputId": "cdb72f7e-c3a1-4dac-d5bf-8f2a9ec3cc18"
      },
      "outputs": [
        {
          "output_type": "execute_result",
          "data": {
            "text/plain": [
              "array([ 22, -36,  32])"
            ]
          },
          "metadata": {},
          "execution_count": 211
        }
      ],
      "source": [
        "np_arr[0:3]"
      ]
    },
    {
      "cell_type": "code",
      "execution_count": null,
      "metadata": {
        "colab": {
          "base_uri": "https://localhost:8080/"
        },
        "id": "Ly-NJvCYf330",
        "outputId": "5d22543e-ff9f-4cef-b1c9-5c2d0b006490"
      },
      "outputs": [
        {
          "output_type": "execute_result",
          "data": {
            "text/plain": [
              "-45"
            ]
          },
          "metadata": {},
          "execution_count": 212
        }
      ],
      "source": [
        "np_arr[-1]"
      ]
    },
    {
      "cell_type": "code",
      "execution_count": null,
      "metadata": {
        "colab": {
          "base_uri": "https://localhost:8080/"
        },
        "id": "lUftiSd_KWXx",
        "outputId": "4d23c9c9-ce42-49ab-af10-cb2d98c89770"
      },
      "outputs": [
        {
          "output_type": "execute_result",
          "data": {
            "text/plain": [
              "array([ 22, -36,  32,  47,  71])"
            ]
          },
          "metadata": {},
          "execution_count": 213
        }
      ],
      "source": [
        "np_arr[:-1]"
      ]
    },
    {
      "cell_type": "code",
      "execution_count": null,
      "metadata": {
        "colab": {
          "base_uri": "https://localhost:8080/"
        },
        "id": "E1sXMqxtKYP2",
        "outputId": "f1cb8870-2383-4c64-e207-77137c23f4f3"
      },
      "outputs": [
        {
          "output_type": "execute_result",
          "data": {
            "text/plain": [
              "array([ 22, -36,  32,  47])"
            ]
          },
          "metadata": {},
          "execution_count": 214
        }
      ],
      "source": [
        "np_arr[:-2]"
      ]
    },
    {
      "cell_type": "markdown",
      "metadata": {
        "id": "kQSI8aNp8ZRJ"
      },
      "source": [
        "### Quiz\n",
        "Eextract the element `'Bob'` from `ex_arr = np.array(['Adil', 'Bob', 'Chandra', 'Dheeraj', 'Eashwar'])`."
      ]
    },
    {
      "cell_type": "code",
      "execution_count": 3,
      "metadata": {
        "id": "pk20CyVv8ZRJ"
      },
      "outputs": [],
      "source": [
        "##### CODE HERE #####"
      ]
    },
    {
      "cell_type": "markdown",
      "metadata": {
        "id": "Vc_5Li5l8ZRQ"
      },
      "source": [
        "### Quiz\n",
        "Print the array `exam_arr = np.array(['Adil', 'Bob', 'Chandra', 'Dheeraj', 'Eashwar'])` while skipping one element at a time."
      ]
    },
    {
      "cell_type": "code",
      "execution_count": 4,
      "metadata": {
        "id": "5EoCM-ia8ZRQ"
      },
      "outputs": [],
      "source": [
        "##### CODE HERE #####"
      ]
    },
    {
      "cell_type": "markdown",
      "metadata": {
        "id": "Qq8rzOGWGFLc"
      },
      "source": [
        "### Quiz\n",
        "Reverse the array `quiz_arr = np.array(['Adil', 'Bob', 'Chandra', 'Dheeraj', 'Eashwar'])`."
      ]
    },
    {
      "cell_type": "code",
      "execution_count": 5,
      "metadata": {
        "id": "xs4LxRCfhMSE"
      },
      "outputs": [],
      "source": [
        "##### CODE HERE #####"
      ]
    },
    {
      "cell_type": "markdown",
      "metadata": {
        "id": "2Y6cqRbvtbK6"
      },
      "source": [
        "### Example\n",
        "Accessing elements from 2D arrays"
      ]
    },
    {
      "cell_type": "code",
      "execution_count": null,
      "metadata": {
        "colab": {
          "base_uri": "https://localhost:8080/"
        },
        "id": "_l5xOSHuh6l_",
        "outputId": "05ae3296-7dfc-4c48-c05d-23bab186878b"
      },
      "outputs": [
        {
          "output_type": "execute_result",
          "data": {
            "text/plain": [
              "array([['Python', 'R', 'C++'],\n",
              "       ['6', '1', '3']], dtype='<U21')"
            ]
          },
          "metadata": {},
          "execution_count": 218
        }
      ],
      "source": [
        "np_arr = np.array([['Python', 'R', 'C++'], [len('Python'), len('R'), len('C++')]])\n",
        "np_arr"
      ]
    },
    {
      "cell_type": "code",
      "execution_count": null,
      "metadata": {
        "colab": {
          "base_uri": "https://localhost:8080/",
          "height": 35
        },
        "id": "QQp5USFguY5A",
        "outputId": "9f656dea-14ba-40da-b68c-aeb5abc62656"
      },
      "outputs": [
        {
          "output_type": "execute_result",
          "data": {
            "text/plain": [
              "'Python'"
            ],
            "application/vnd.google.colaboratory.intrinsic+json": {
              "type": "string"
            }
          },
          "metadata": {},
          "execution_count": 219
        }
      ],
      "source": [
        "np_arr[0][0]"
      ]
    },
    {
      "cell_type": "code",
      "execution_count": null,
      "metadata": {
        "colab": {
          "base_uri": "https://localhost:8080/",
          "height": 35
        },
        "id": "kJrCrLm3heHN",
        "outputId": "ca72d235-a7fb-46b6-ea78-32762172b3a5"
      },
      "outputs": [
        {
          "output_type": "execute_result",
          "data": {
            "text/plain": [
              "'Python'"
            ],
            "application/vnd.google.colaboratory.intrinsic+json": {
              "type": "string"
            }
          },
          "metadata": {},
          "execution_count": 220
        }
      ],
      "source": [
        "np_arr[0, 0]"
      ]
    },
    {
      "cell_type": "code",
      "execution_count": null,
      "metadata": {
        "colab": {
          "base_uri": "https://localhost:8080/",
          "height": 35
        },
        "id": "tu-acrjzhg6Q",
        "outputId": "8b016cdb-812e-41e8-b1eb-efb170ddfc04"
      },
      "outputs": [
        {
          "output_type": "execute_result",
          "data": {
            "text/plain": [
              "'3'"
            ],
            "application/vnd.google.colaboratory.intrinsic+json": {
              "type": "string"
            }
          },
          "metadata": {},
          "execution_count": 221
        }
      ],
      "source": [
        "np_arr[1][2]"
      ]
    },
    {
      "cell_type": "code",
      "execution_count": null,
      "metadata": {
        "colab": {
          "base_uri": "https://localhost:8080/",
          "height": 35
        },
        "id": "eCSEd5vzhlOn",
        "outputId": "7578e9e5-7270-4105-a730-2b83e903f2c9"
      },
      "outputs": [
        {
          "output_type": "execute_result",
          "data": {
            "text/plain": [
              "'3'"
            ],
            "application/vnd.google.colaboratory.intrinsic+json": {
              "type": "string"
            }
          },
          "metadata": {},
          "execution_count": 222
        }
      ],
      "source": [
        "np_arr[1, 2]"
      ]
    },
    {
      "cell_type": "code",
      "execution_count": null,
      "metadata": {
        "colab": {
          "base_uri": "https://localhost:8080/"
        },
        "id": "UZrTExRDhnDJ",
        "outputId": "d2310d15-d8b1-489d-b810-9c3a3df5021f"
      },
      "outputs": [
        {
          "output_type": "execute_result",
          "data": {
            "text/plain": [
              "array(['Python', 'R', 'C++'], dtype='<U21')"
            ]
          },
          "metadata": {},
          "execution_count": 223
        }
      ],
      "source": [
        "np_arr[0]"
      ]
    },
    {
      "cell_type": "code",
      "execution_count": null,
      "metadata": {
        "colab": {
          "base_uri": "https://localhost:8080/"
        },
        "id": "EunX-7X3Ad4N",
        "outputId": "e0d73fba-af73-44b7-aec0-f548437187ed"
      },
      "outputs": [
        {
          "output_type": "execute_result",
          "data": {
            "text/plain": [
              "(3,)"
            ]
          },
          "metadata": {},
          "execution_count": 224
        }
      ],
      "source": [
        "np_arr[0].shape"
      ]
    },
    {
      "cell_type": "code",
      "execution_count": null,
      "metadata": {
        "colab": {
          "base_uri": "https://localhost:8080/"
        },
        "id": "GgcmliybAd4N",
        "outputId": "137b6e88-7149-43e1-c511-71ec7a26c7a6"
      },
      "outputs": [
        {
          "output_type": "execute_result",
          "data": {
            "text/plain": [
              "array([['Python', 'R', 'C++']], dtype='<U21')"
            ]
          },
          "metadata": {},
          "execution_count": 225
        }
      ],
      "source": [
        "np_arr[[0]]"
      ]
    },
    {
      "cell_type": "code",
      "execution_count": null,
      "metadata": {
        "colab": {
          "base_uri": "https://localhost:8080/"
        },
        "id": "3sbvfN34Ad4N",
        "outputId": "fdb80a13-ed96-4706-c2e8-cb8fae2a01ba"
      },
      "outputs": [
        {
          "output_type": "execute_result",
          "data": {
            "text/plain": [
              "(1, 3)"
            ]
          },
          "metadata": {},
          "execution_count": 226
        }
      ],
      "source": [
        "np_arr[[0]].shape"
      ]
    },
    {
      "cell_type": "code",
      "execution_count": null,
      "metadata": {
        "colab": {
          "base_uri": "https://localhost:8080/"
        },
        "id": "L8NpKAS5hrK-",
        "outputId": "40490ead-aba4-43dc-baa4-51e16be8be8e"
      },
      "outputs": [
        {
          "output_type": "execute_result",
          "data": {
            "text/plain": [
              "array([['Python', 'R', 'C++'],\n",
              "       ['6', '1', '3']], dtype='<U21')"
            ]
          },
          "metadata": {},
          "execution_count": 227
        }
      ],
      "source": [
        "np_arr[0:]"
      ]
    },
    {
      "cell_type": "code",
      "execution_count": null,
      "metadata": {
        "colab": {
          "base_uri": "https://localhost:8080/"
        },
        "id": "i81MnRxYhtAe",
        "outputId": "e4f18e97-e4e6-46d0-cf4e-75bcecf25744"
      },
      "outputs": [
        {
          "output_type": "execute_result",
          "data": {
            "text/plain": [
              "array(['Python', 'R', 'C++'], dtype='<U21')"
            ]
          },
          "metadata": {},
          "execution_count": 228
        }
      ],
      "source": [
        "np_arr[0, :]"
      ]
    },
    {
      "cell_type": "code",
      "execution_count": null,
      "metadata": {
        "colab": {
          "base_uri": "https://localhost:8080/"
        },
        "id": "Vyd_SHmuhvIV",
        "outputId": "9b0e014f-c7f9-4eb6-a805-2b91525b3f03"
      },
      "outputs": [
        {
          "output_type": "execute_result",
          "data": {
            "text/plain": [
              "array(['Python', 'R', 'C++'], dtype='<U21')"
            ]
          },
          "metadata": {},
          "execution_count": 229
        }
      ],
      "source": [
        "np_arr[0, ]"
      ]
    },
    {
      "cell_type": "code",
      "execution_count": null,
      "metadata": {
        "colab": {
          "base_uri": "https://localhost:8080/"
        },
        "id": "rGADUb6ghx95",
        "outputId": "f781b346-afb9-4677-8a30-6a9f5192a7da"
      },
      "outputs": [
        {
          "output_type": "execute_result",
          "data": {
            "text/plain": [
              "array(['Python', 'R', 'C++'], dtype='<U21')"
            ]
          },
          "metadata": {},
          "execution_count": 230
        }
      ],
      "source": [
        "np_arr[0][:]"
      ]
    },
    {
      "cell_type": "code",
      "execution_count": null,
      "metadata": {
        "colab": {
          "base_uri": "https://localhost:8080/"
        },
        "id": "n0u6oRhEjtXT",
        "outputId": "558f8417-86b5-4cfc-a506-989a02c4c0bc"
      },
      "outputs": [
        {
          "output_type": "execute_result",
          "data": {
            "text/plain": [
              "array(['R', 'C++'], dtype='<U21')"
            ]
          },
          "metadata": {},
          "execution_count": 231
        }
      ],
      "source": [
        "np_arr[0][1:]"
      ]
    },
    {
      "cell_type": "code",
      "execution_count": null,
      "metadata": {
        "colab": {
          "base_uri": "https://localhost:8080/"
        },
        "id": "tewOa0D_jwEP",
        "outputId": "1c22ce1f-0651-4ce7-e599-398fc0fdac82"
      },
      "outputs": [
        {
          "output_type": "execute_result",
          "data": {
            "text/plain": [
              "array(['R', 'C++'], dtype='<U21')"
            ]
          },
          "metadata": {},
          "execution_count": 232
        }
      ],
      "source": [
        "np_arr[0, 1:]"
      ]
    },
    {
      "cell_type": "code",
      "execution_count": null,
      "metadata": {
        "colab": {
          "base_uri": "https://localhost:8080/"
        },
        "id": "VzA0d4HbjyTx",
        "outputId": "4461aca0-71a8-4fb7-f3e9-8ff6ae41708c"
      },
      "outputs": [
        {
          "output_type": "execute_result",
          "data": {
            "text/plain": [
              "array(['Python', 'R'], dtype='<U21')"
            ]
          },
          "metadata": {},
          "execution_count": 233
        }
      ],
      "source": [
        "np_arr[0][:2]"
      ]
    },
    {
      "cell_type": "code",
      "execution_count": null,
      "metadata": {
        "colab": {
          "base_uri": "https://localhost:8080/"
        },
        "id": "2R82X6zqj0wK",
        "outputId": "083d3977-1c04-4478-96d8-e20752dfd34b"
      },
      "outputs": [
        {
          "output_type": "execute_result",
          "data": {
            "text/plain": [
              "array(['Python', 'R'], dtype='<U21')"
            ]
          },
          "metadata": {},
          "execution_count": 234
        }
      ],
      "source": [
        "np_arr[0, :2]"
      ]
    },
    {
      "cell_type": "code",
      "execution_count": null,
      "metadata": {
        "colab": {
          "base_uri": "https://localhost:8080/"
        },
        "id": "-As-clo7Ad4O",
        "outputId": "7e647046-52b0-4845-9d9c-2a3fc5475cb3"
      },
      "outputs": [
        {
          "output_type": "execute_result",
          "data": {
            "text/plain": [
              "array(['Python', 'R'], dtype='<U21')"
            ]
          },
          "metadata": {},
          "execution_count": 235
        }
      ],
      "source": [
        "np_arr[0, [0, 1]]"
      ]
    },
    {
      "cell_type": "code",
      "execution_count": null,
      "metadata": {
        "id": "sdnzrGHK8ZRc",
        "outputId": "7809fad6-08ae-4bcd-b02b-6e4032e340a3",
        "colab": {
          "base_uri": "https://localhost:8080/"
        }
      },
      "outputs": [
        {
          "output_type": "execute_result",
          "data": {
            "text/plain": [
              "array(['Python', 'C++'], dtype='<U21')"
            ]
          },
          "metadata": {},
          "execution_count": 236
        }
      ],
      "source": [
        "np_arr[0, [0, 2]]"
      ]
    },
    {
      "cell_type": "markdown",
      "metadata": {
        "id": "EGK1-06ekCcY"
      },
      "source": [
        "### Example\n",
        "Printing `'fig'` from the following numpy array:\n",
        "```\n",
        "str_arr = np.array(object = [['apple', 'banana', 'cherry'],\n",
        "                             ['date', 'fig', 'grape'],\n",
        "                             ['kiwi', 'lemon', 'mango']])\n",
        "```"
      ]
    },
    {
      "cell_type": "code",
      "execution_count": null,
      "metadata": {
        "id": "mNFJyhSxiJhg"
      },
      "outputs": [],
      "source": [
        "str_arr = np.array(object = [['apple', 'banana', 'cherry'],\n",
        "                             ['date', 'fig', 'grape'],\n",
        "                             ['kiwi', 'lemon', 'mango']])"
      ]
    },
    {
      "cell_type": "code",
      "execution_count": null,
      "metadata": {
        "colab": {
          "base_uri": "https://localhost:8080/"
        },
        "id": "KFtuVVofkxxj",
        "outputId": "4a47a034-3f65-45b5-e046-446b42f6fe2a"
      },
      "outputs": [
        {
          "output_type": "stream",
          "name": "stdout",
          "text": [
            "fig\n"
          ]
        }
      ],
      "source": [
        "print(str_arr[1][1])"
      ]
    },
    {
      "cell_type": "code",
      "execution_count": null,
      "metadata": {
        "colab": {
          "base_uri": "https://localhost:8080/"
        },
        "id": "Vx2yVqD6i6bC",
        "outputId": "7776e59f-8838-414f-8919-f34567d3cb1b"
      },
      "outputs": [
        {
          "output_type": "stream",
          "name": "stdout",
          "text": [
            "fig\n"
          ]
        }
      ],
      "source": [
        "print(str_arr[1, 1])"
      ]
    },
    {
      "cell_type": "markdown",
      "metadata": {
        "id": "tdwzsHV6i_F9"
      },
      "source": [
        "### Example\n",
        "Printing `'lemon'` from the following numpy array:\n",
        "```\n",
        "str_arr = np.array(object = [['apple', 'banana', 'cherry'],\n",
        "                             ['date', 'fig', 'grape'],\n",
        "                             ['kiwi', 'lemon', 'mango']])            \n",
        "```"
      ]
    },
    {
      "cell_type": "code",
      "execution_count": null,
      "metadata": {
        "colab": {
          "base_uri": "https://localhost:8080/"
        },
        "id": "p-GJ2cBAjBaH",
        "outputId": "7646b0fd-76c4-49dc-e9ce-a0daf45c5e80"
      },
      "outputs": [
        {
          "output_type": "stream",
          "name": "stdout",
          "text": [
            "lemon\n"
          ]
        }
      ],
      "source": [
        "print(str_arr[2][1])"
      ]
    },
    {
      "cell_type": "code",
      "execution_count": null,
      "metadata": {
        "colab": {
          "base_uri": "https://localhost:8080/"
        },
        "id": "u-QKD4UnjBSl",
        "outputId": "1d9f68c0-c8fb-4fe4-8cef-687e3bca93a1"
      },
      "outputs": [
        {
          "output_type": "stream",
          "name": "stdout",
          "text": [
            "lemon\n"
          ]
        }
      ],
      "source": [
        "print(str_arr[2, 1])"
      ]
    },
    {
      "cell_type": "markdown",
      "metadata": {
        "id": "2h4BFd_klds3"
      },
      "source": [
        "### Example\n",
        "Printing `['kiwi', 'lemon', 'mango']` from the following numpy array:\n",
        "```\n",
        "str_arr = np.array(object = [['apple', 'banana', 'cherry'],\n",
        "                             ['date', 'fig', 'grape'],\n",
        "                             ['kiwi', 'lemon', 'mango']])\n",
        "```"
      ]
    },
    {
      "cell_type": "code",
      "execution_count": null,
      "metadata": {
        "colab": {
          "base_uri": "https://localhost:8080/"
        },
        "id": "_jSg3hiMlyvU",
        "outputId": "6f8f481f-7b3b-4ba3-91bd-ea308c3711e9"
      },
      "outputs": [
        {
          "output_type": "execute_result",
          "data": {
            "text/plain": [
              "array(['kiwi', 'lemon', 'mango'], dtype='<U6')"
            ]
          },
          "metadata": {},
          "execution_count": 242
        }
      ],
      "source": [
        "str_arr[2]"
      ]
    },
    {
      "cell_type": "code",
      "execution_count": null,
      "metadata": {
        "colab": {
          "base_uri": "https://localhost:8080/"
        },
        "id": "xMD6p-QqjSU5",
        "outputId": "b7284816-2890-4ed5-968a-bc2f8a1738fa"
      },
      "outputs": [
        {
          "output_type": "execute_result",
          "data": {
            "text/plain": [
              "array(['kiwi', 'lemon', 'mango'], dtype='<U6')"
            ]
          },
          "metadata": {},
          "execution_count": 243
        }
      ],
      "source": [
        "str_arr[2,]"
      ]
    },
    {
      "cell_type": "code",
      "execution_count": null,
      "metadata": {
        "colab": {
          "base_uri": "https://localhost:8080/"
        },
        "id": "_XUtQcWEjT0o",
        "outputId": "a601a5d9-08f9-4727-b450-49c12c0f59f3"
      },
      "outputs": [
        {
          "output_type": "execute_result",
          "data": {
            "text/plain": [
              "array(['kiwi', 'lemon', 'mango'], dtype='<U6')"
            ]
          },
          "metadata": {},
          "execution_count": 244
        }
      ],
      "source": [
        "str_arr[2, :]"
      ]
    },
    {
      "cell_type": "code",
      "execution_count": null,
      "metadata": {
        "colab": {
          "base_uri": "https://localhost:8080/"
        },
        "id": "6VHQ1-djjVG4",
        "outputId": "1c27ec05-9e9f-4ee8-ad9c-c71784facffa"
      },
      "outputs": [
        {
          "output_type": "execute_result",
          "data": {
            "text/plain": [
              "array(['kiwi', 'lemon', 'mango'], dtype='<U6')"
            ]
          },
          "metadata": {},
          "execution_count": 245
        }
      ],
      "source": [
        "str_arr[2][:]"
      ]
    },
    {
      "cell_type": "markdown",
      "metadata": {
        "id": "Ie72wb5SAd4V"
      },
      "source": [
        "### Example\n",
        "Accessing elements based on logical conditions"
      ]
    },
    {
      "cell_type": "code",
      "execution_count": null,
      "metadata": {
        "colab": {
          "base_uri": "https://localhost:8080/"
        },
        "id": "mew1RDccAd4V",
        "outputId": "ff557fd3-f292-411d-fefd-0c16f2e786b1"
      },
      "outputs": [
        {
          "output_type": "execute_result",
          "data": {
            "text/plain": [
              "array([[1, 2, 3],\n",
              "       [4, 5, 6]])"
            ]
          },
          "metadata": {},
          "execution_count": 246
        }
      ],
      "source": [
        "np_arr = np.array([[1, 2, 3], [4, 5, 6]])\n",
        "np_arr"
      ]
    },
    {
      "cell_type": "code",
      "execution_count": null,
      "metadata": {
        "colab": {
          "base_uri": "https://localhost:8080/"
        },
        "id": "RmRCsdHHAd4V",
        "outputId": "82e91574-a1f3-49a3-d5d7-f1667da715d2"
      },
      "outputs": [
        {
          "output_type": "execute_result",
          "data": {
            "text/plain": [
              "array([[False, False,  True],\n",
              "       [ True,  True,  True]])"
            ]
          },
          "metadata": {},
          "execution_count": 247
        }
      ],
      "source": [
        "np_arr > 2"
      ]
    },
    {
      "cell_type": "code",
      "execution_count": null,
      "metadata": {
        "colab": {
          "base_uri": "https://localhost:8080/"
        },
        "id": "R8YJ763aAd4V",
        "outputId": "9d0358d8-4d21-4d78-bbce-3acdbbcbd346"
      },
      "outputs": [
        {
          "output_type": "execute_result",
          "data": {
            "text/plain": [
              "array([3, 4, 5, 6])"
            ]
          },
          "metadata": {},
          "execution_count": 248
        }
      ],
      "source": [
        "np_arr[np_arr > 2]"
      ]
    },
    {
      "cell_type": "code",
      "execution_count": null,
      "metadata": {
        "colab": {
          "base_uri": "https://localhost:8080/"
        },
        "id": "bCeSbZeuAd4V",
        "outputId": "a5a54b39-4e20-4f3a-e524-3a8d9f358be5"
      },
      "outputs": [
        {
          "output_type": "execute_result",
          "data": {
            "text/plain": [
              "array([[1, 2, 3],\n",
              "       [4, 5, 6]])"
            ]
          },
          "metadata": {},
          "execution_count": 249
        }
      ],
      "source": [
        "np_arr"
      ]
    },
    {
      "cell_type": "code",
      "execution_count": null,
      "metadata": {
        "colab": {
          "base_uri": "https://localhost:8080/"
        },
        "id": "bSdyFo3_Ad4V",
        "outputId": "13291709-5955-461e-a5ea-42db18ba6448"
      },
      "outputs": [
        {
          "output_type": "execute_result",
          "data": {
            "text/plain": [
              "array([3, 4, 5, 6])"
            ]
          },
          "metadata": {},
          "execution_count": 250
        }
      ],
      "source": [
        "np_arr = np_arr[np_arr > 2]\n",
        "np_arr"
      ]
    },
    {
      "cell_type": "code",
      "execution_count": null,
      "metadata": {
        "colab": {
          "base_uri": "https://localhost:8080/"
        },
        "id": "RGSciilgAd4W",
        "outputId": "646b3064-7dc2-47ab-c47b-d9cf719aee4a"
      },
      "outputs": [
        {
          "output_type": "execute_result",
          "data": {
            "text/plain": [
              "array([[1, 2, 3],\n",
              "       [4, 5, 6]])"
            ]
          },
          "metadata": {},
          "execution_count": 251
        }
      ],
      "source": [
        "np_arr = np.array([[1, 2, 3], [4, 5, 6]])\n",
        "np_arr"
      ]
    },
    {
      "cell_type": "code",
      "execution_count": null,
      "metadata": {
        "colab": {
          "base_uri": "https://localhost:8080/"
        },
        "id": "MqkYLuGUAd4W",
        "outputId": "5b2b8567-c92f-469b-9b0d-f198f9065400"
      },
      "outputs": [
        {
          "output_type": "execute_result",
          "data": {
            "text/plain": [
              "array([[False, False,  True],\n",
              "       [ True,  True,  True]])"
            ]
          },
          "metadata": {},
          "execution_count": 252
        }
      ],
      "source": [
        "np_arr > 2"
      ]
    },
    {
      "cell_type": "code",
      "execution_count": null,
      "metadata": {
        "colab": {
          "base_uri": "https://localhost:8080/"
        },
        "id": "nFjwVQF7Ad4W",
        "outputId": "e5b67adf-eb13-4f14-8652-c5629001f34a"
      },
      "outputs": [
        {
          "output_type": "execute_result",
          "data": {
            "text/plain": [
              "array([[ True,  True,  True],\n",
              "       [ True, False, False]])"
            ]
          },
          "metadata": {},
          "execution_count": 253
        }
      ],
      "source": [
        "np_arr < 5"
      ]
    },
    {
      "cell_type": "code",
      "execution_count": null,
      "metadata": {
        "id": "-WhncgZD8ZSA"
      },
      "outputs": [],
      "source": [
        "# np_arr > 2 and np_arr < 5"
      ]
    },
    {
      "cell_type": "code",
      "execution_count": null,
      "metadata": {
        "id": "hzd811Bh8ZSA"
      },
      "outputs": [],
      "source": [
        "# (np_arr > 2) and (np_arr < 5)"
      ]
    },
    {
      "cell_type": "code",
      "execution_count": null,
      "metadata": {
        "id": "bj68swrc8ZSC"
      },
      "outputs": [],
      "source": [
        "# np_arr > 2 & np_arr < 5"
      ]
    },
    {
      "cell_type": "code",
      "execution_count": null,
      "metadata": {
        "colab": {
          "base_uri": "https://localhost:8080/"
        },
        "id": "6TQ49RpCAd4W",
        "outputId": "84989119-4349-439f-b1fd-b9d3baa0b1db"
      },
      "outputs": [
        {
          "output_type": "execute_result",
          "data": {
            "text/plain": [
              "array([[False, False,  True],\n",
              "       [ True, False, False]])"
            ]
          },
          "metadata": {},
          "execution_count": 257
        }
      ],
      "source": [
        "(np_arr > 2) & (np_arr < 5)"
      ]
    },
    {
      "cell_type": "code",
      "execution_count": null,
      "metadata": {
        "colab": {
          "base_uri": "https://localhost:8080/"
        },
        "id": "r4Eb1DW0Ad4W",
        "outputId": "0eb33fee-f12a-404c-e700-fec3d70a46bc"
      },
      "outputs": [
        {
          "output_type": "execute_result",
          "data": {
            "text/plain": [
              "array([3, 4])"
            ]
          },
          "metadata": {},
          "execution_count": 258
        }
      ],
      "source": [
        "np_arr[(np_arr > 2) & (np_arr < 5)]"
      ]
    },
    {
      "cell_type": "code",
      "execution_count": null,
      "metadata": {
        "colab": {
          "base_uri": "https://localhost:8080/"
        },
        "id": "xTs-X2_ZAd4W",
        "outputId": "bdeb176c-6923-47f0-eac4-b855a3ba2c30"
      },
      "outputs": [
        {
          "output_type": "execute_result",
          "data": {
            "text/plain": [
              "array([1, 2, 5, 6])"
            ]
          },
          "metadata": {},
          "execution_count": 259
        }
      ],
      "source": [
        "np_arr[(np_arr < 3) | (np_arr > 4)]"
      ]
    },
    {
      "cell_type": "markdown",
      "metadata": {
        "id": "Qx16DdedAd4W"
      },
      "source": [
        "### Example\n",
        "Let us see how to count the number of elements in the following array that are greater than 50:\n",
        "```\n",
        "num_arr = np.array([23, 56, 87, 25, 64, 82, 64, 36, 87, 56, 98, 15, 25, 35, 76, 36, 67, 89, 35, 67, 64, 45, 37, 78])\n",
        "```"
      ]
    },
    {
      "cell_type": "code",
      "execution_count": null,
      "metadata": {
        "colab": {
          "base_uri": "https://localhost:8080/"
        },
        "id": "sITfynPWAd4W",
        "outputId": "710d4420-f78e-44f2-9f51-fe7195bbd6f5"
      },
      "outputs": [
        {
          "output_type": "execute_result",
          "data": {
            "text/plain": [
              "14"
            ]
          },
          "metadata": {},
          "execution_count": 260
        }
      ],
      "source": [
        "num_arr = np.array([23, 56, 87, 25, 64, 82, 64, 36, 87, 56, 98, 15, 25, 35, 76, 36, 67, 89, 35, 67, 64, 45, 37, 78])\n",
        "len(num_arr[num_arr > 50])"
      ]
    },
    {
      "cell_type": "markdown",
      "metadata": {
        "id": "ESjG9juOAd4W"
      },
      "source": [
        "### Quiz\n",
        "Count the number of elements in the following array that lie in the range $[50,70]$ (both inclusive):\n",
        "```\n",
        "num_arr = np.array([23, 56, 87, 25, 64, 82, 64, 36, 87, 56, 98, 15, 25, 35, 76, 36, 67, 89, 35, 67, 64, 45, 37, 78])\n",
        "```"
      ]
    },
    {
      "cell_type": "code",
      "execution_count": 6,
      "metadata": {
        "id": "1WGqRZz-Ad4X"
      },
      "outputs": [],
      "source": [
        "##### CODE HERE #####"
      ]
    },
    {
      "cell_type": "markdown",
      "metadata": {
        "id": "fdJS5V7i8ZSU"
      },
      "source": [
        "### Example\n",
        "Finding indices of values in arrays"
      ]
    },
    {
      "cell_type": "code",
      "execution_count": null,
      "metadata": {
        "id": "dRUXM79I8ZSU",
        "outputId": "516c9dee-ffe3-412b-872c-9635b02cc966",
        "colab": {
          "base_uri": "https://localhost:8080/"
        }
      },
      "outputs": [
        {
          "output_type": "execute_result",
          "data": {
            "text/plain": [
              "array([2450.67, 1872.34, 1098.44, 2001.64, 2167.23])"
            ]
          },
          "metadata": {},
          "execution_count": 262
        }
      ],
      "source": [
        "company_revenue = np.array([2450.67, 1872.34, 1098.44, 2001.64, 2167.23])\n",
        "company_revenue"
      ]
    },
    {
      "cell_type": "code",
      "execution_count": null,
      "metadata": {
        "id": "_Uo0hx188ZSV",
        "outputId": "6f102a4f-9394-494a-c48f-fbcf8579026e",
        "colab": {
          "base_uri": "https://localhost:8080/"
        }
      },
      "outputs": [
        {
          "output_type": "execute_result",
          "data": {
            "text/plain": [
              "array([False,  True, False, False, False])"
            ]
          },
          "metadata": {},
          "execution_count": 263
        }
      ],
      "source": [
        "company_revenue == 1872.34"
      ]
    },
    {
      "cell_type": "code",
      "source": [
        "company_revenue[company_revenue == 1872.34]"
      ],
      "metadata": {
        "colab": {
          "base_uri": "https://localhost:8080/"
        },
        "id": "CdZ9U7Lz5ll2",
        "outputId": "557c64fd-2de2-4cba-846d-bbd95749ecb8"
      },
      "execution_count": null,
      "outputs": [
        {
          "output_type": "execute_result",
          "data": {
            "text/plain": [
              "array([1872.34])"
            ]
          },
          "metadata": {},
          "execution_count": 264
        }
      ]
    },
    {
      "cell_type": "code",
      "execution_count": null,
      "metadata": {
        "id": "PeZcoUaO8ZSY",
        "outputId": "e5e949d7-4267-4257-e453-cc81d166d82a",
        "colab": {
          "base_uri": "https://localhost:8080/"
        }
      },
      "outputs": [
        {
          "output_type": "execute_result",
          "data": {
            "text/plain": [
              "(array([1]),)"
            ]
          },
          "metadata": {},
          "execution_count": 265
        }
      ],
      "source": [
        "np.nonzero(company_revenue == 1872.34)"
      ]
    },
    {
      "cell_type": "code",
      "source": [
        "np.where(company_revenue == 1872.34)"
      ],
      "metadata": {
        "colab": {
          "base_uri": "https://localhost:8080/"
        },
        "id": "66JElfNY55K2",
        "outputId": "97a7dfd2-1576-4700-a291-7258c03655d9"
      },
      "execution_count": null,
      "outputs": [
        {
          "output_type": "execute_result",
          "data": {
            "text/plain": [
              "(array([1]),)"
            ]
          },
          "metadata": {},
          "execution_count": 266
        }
      ]
    },
    {
      "cell_type": "code",
      "execution_count": null,
      "metadata": {
        "id": "WtToWWwW8ZSY",
        "outputId": "ba3a1ec8-68f3-4a4c-fbf8-a7fc82c65671",
        "colab": {
          "base_uri": "https://localhost:8080/"
        }
      },
      "outputs": [
        {
          "output_type": "execute_result",
          "data": {
            "text/plain": [
              "array([ True, False, False,  True,  True])"
            ]
          },
          "metadata": {},
          "execution_count": 267
        }
      ],
      "source": [
        "company_revenue > 2000"
      ]
    },
    {
      "cell_type": "code",
      "execution_count": null,
      "metadata": {
        "id": "goAGu5aE8ZSZ",
        "outputId": "cb71b9e5-9190-4328-8eb4-1f908ca80d21",
        "colab": {
          "base_uri": "https://localhost:8080/"
        }
      },
      "outputs": [
        {
          "output_type": "execute_result",
          "data": {
            "text/plain": [
              "(array([0, 3, 4]),)"
            ]
          },
          "metadata": {},
          "execution_count": 268
        }
      ],
      "source": [
        "np.where(company_revenue > 2000)"
      ]
    },
    {
      "cell_type": "code",
      "execution_count": null,
      "metadata": {
        "id": "AXWg99x_8ZSZ",
        "outputId": "231669f8-8f83-4833-fc14-bc83b6f97f9f",
        "colab": {
          "base_uri": "https://localhost:8080/"
        }
      },
      "outputs": [
        {
          "output_type": "execute_result",
          "data": {
            "text/plain": [
              "array([False, False, False,  True, False])"
            ]
          },
          "metadata": {},
          "execution_count": 269
        }
      ],
      "source": [
        "(company_revenue > 2000) & (company_revenue < 2100)"
      ]
    },
    {
      "cell_type": "code",
      "execution_count": null,
      "metadata": {
        "id": "7RBuemEb8ZSa",
        "outputId": "b039815d-5662-4088-e912-7540f6c4e556",
        "colab": {
          "base_uri": "https://localhost:8080/"
        }
      },
      "outputs": [
        {
          "output_type": "execute_result",
          "data": {
            "text/plain": [
              "(array([3]),)"
            ]
          },
          "metadata": {},
          "execution_count": 270
        }
      ],
      "source": [
        "np.where((company_revenue > 2000) & (company_revenue < 2100))"
      ]
    },
    {
      "cell_type": "code",
      "execution_count": null,
      "metadata": {
        "id": "vi_RIx598ZSa",
        "outputId": "6b825e55-cf3c-41b6-82d7-53eb68300dde",
        "colab": {
          "base_uri": "https://localhost:8080/"
        }
      },
      "outputs": [
        {
          "output_type": "execute_result",
          "data": {
            "text/plain": [
              "array([[ 0, 25, 45],\n",
              "       [10, 16,  8],\n",
              "       [ 4,  2, 12]])"
            ]
          },
          "metadata": {},
          "execution_count": 271
        }
      ],
      "source": [
        "monthly_rates = np.array([[0, 25, 45], [10, 16, 8], [4, 2, 12]])\n",
        "monthly_rates"
      ]
    },
    {
      "cell_type": "code",
      "execution_count": null,
      "metadata": {
        "id": "BZKM-jMs8ZSa",
        "outputId": "0374a10c-fa9a-4f7d-c3d3-81d9e46bfaa5",
        "colab": {
          "base_uri": "https://localhost:8080/"
        }
      },
      "outputs": [
        {
          "output_type": "execute_result",
          "data": {
            "text/plain": [
              "array([[ True, False, False],\n",
              "       [False, False, False],\n",
              "       [False, False, False]])"
            ]
          },
          "metadata": {},
          "execution_count": 272
        }
      ],
      "source": [
        "monthly_rates == 0"
      ]
    },
    {
      "cell_type": "code",
      "execution_count": null,
      "metadata": {
        "id": "yXFDIV2Y8ZSb",
        "outputId": "5c423229-d935-447f-af19-f7281c27326c",
        "colab": {
          "base_uri": "https://localhost:8080/"
        }
      },
      "outputs": [
        {
          "output_type": "execute_result",
          "data": {
            "text/plain": [
              "(array([0]), array([0]))"
            ]
          },
          "metadata": {},
          "execution_count": 273
        }
      ],
      "source": [
        "np.where(monthly_rates == 0)"
      ]
    },
    {
      "cell_type": "code",
      "execution_count": null,
      "metadata": {
        "id": "dt9JMWbg8ZSc",
        "outputId": "3ca95deb-d0d5-4875-87bd-9cfd8f5444c8",
        "colab": {
          "base_uri": "https://localhost:8080/"
        }
      },
      "outputs": [
        {
          "output_type": "execute_result",
          "data": {
            "text/plain": [
              "array([[False, False, False],\n",
              "       [False, False,  True],\n",
              "       [False, False, False]])"
            ]
          },
          "metadata": {},
          "execution_count": 274
        }
      ],
      "source": [
        "monthly_rates == 8"
      ]
    },
    {
      "cell_type": "code",
      "execution_count": null,
      "metadata": {
        "id": "qamdCMfz8ZSd",
        "outputId": "96526393-dcff-49ec-9f14-06717b674100",
        "colab": {
          "base_uri": "https://localhost:8080/"
        }
      },
      "outputs": [
        {
          "output_type": "execute_result",
          "data": {
            "text/plain": [
              "(array([1]), array([2]))"
            ]
          },
          "metadata": {},
          "execution_count": 275
        }
      ],
      "source": [
        "np.where(monthly_rates == 8)"
      ]
    },
    {
      "cell_type": "code",
      "execution_count": null,
      "metadata": {
        "id": "2h_1sxo48ZSe",
        "outputId": "677484fe-b2f2-47ed-9927-43f39ba1684f",
        "colab": {
          "base_uri": "https://localhost:8080/"
        }
      },
      "outputs": [
        {
          "output_type": "execute_result",
          "data": {
            "text/plain": [
              "array([[False,  True,  True],\n",
              "       [False,  True, False],\n",
              "       [False, False,  True]])"
            ]
          },
          "metadata": {},
          "execution_count": 276
        }
      ],
      "source": [
        "monthly_rates > 10"
      ]
    },
    {
      "cell_type": "code",
      "execution_count": null,
      "metadata": {
        "id": "NkjTCuGW8ZSe",
        "outputId": "f5032914-4455-428a-d2d4-d0bc32388575",
        "colab": {
          "base_uri": "https://localhost:8080/"
        }
      },
      "outputs": [
        {
          "output_type": "execute_result",
          "data": {
            "text/plain": [
              "(array([0, 0, 1, 2]), array([1, 2, 1, 2]))"
            ]
          },
          "metadata": {},
          "execution_count": 277
        }
      ],
      "source": [
        "np.where(monthly_rates > 10)"
      ]
    },
    {
      "cell_type": "code",
      "execution_count": null,
      "metadata": {
        "id": "w_1sBSuL8ZSf",
        "outputId": "af076951-47d1-479d-95b4-dc8fe57ed07b",
        "colab": {
          "base_uri": "https://localhost:8080/"
        }
      },
      "outputs": [
        {
          "output_type": "execute_result",
          "data": {
            "text/plain": [
              "array([[False, False, False],\n",
              "       [False,  True, False],\n",
              "       [False, False,  True]])"
            ]
          },
          "metadata": {},
          "execution_count": 278
        }
      ],
      "source": [
        "(monthly_rates > 10) & (monthly_rates < 25)"
      ]
    },
    {
      "cell_type": "code",
      "execution_count": null,
      "metadata": {
        "id": "7g-VShAQ8ZSf",
        "outputId": "6f281c23-2ec4-48f3-ca7c-51565106ba06",
        "colab": {
          "base_uri": "https://localhost:8080/"
        }
      },
      "outputs": [
        {
          "output_type": "execute_result",
          "data": {
            "text/plain": [
              "(array([1, 2]), array([1, 2]))"
            ]
          },
          "metadata": {},
          "execution_count": 279
        }
      ],
      "source": [
        "np.where((monthly_rates > 10) & (monthly_rates < 25))"
      ]
    },
    {
      "cell_type": "code",
      "execution_count": null,
      "metadata": {
        "id": "SHFcOHjO8ZSg",
        "outputId": "3e196dbf-2555-4908-8157-201f40e547d4",
        "colab": {
          "base_uri": "https://localhost:8080/"
        }
      },
      "outputs": [
        {
          "output_type": "execute_result",
          "data": {
            "text/plain": [
              "array([[ 0, 25, 45],\n",
              "       [10, 16,  8],\n",
              "       [ 4,  2, 12]])"
            ]
          },
          "metadata": {},
          "execution_count": 280
        }
      ],
      "source": [
        "monthly_rates"
      ]
    },
    {
      "cell_type": "code",
      "execution_count": null,
      "metadata": {
        "id": "Czeic4SE8ZSg",
        "outputId": "d7d51791-070f-442a-aec5-f17d6437305f",
        "colab": {
          "base_uri": "https://localhost:8080/"
        }
      },
      "outputs": [
        {
          "output_type": "execute_result",
          "data": {
            "text/plain": [
              "(array([0]), array([0]))"
            ]
          },
          "metadata": {},
          "execution_count": 281
        }
      ],
      "source": [
        "np.where(monthly_rates == 0)"
      ]
    },
    {
      "cell_type": "code",
      "execution_count": null,
      "metadata": {
        "id": "vlQdX-LC8ZSh",
        "outputId": "acd8ea79-d42b-463c-b5f2-d5a9cc044d41",
        "colab": {
          "base_uri": "https://localhost:8080/"
        }
      },
      "outputs": [
        {
          "output_type": "execute_result",
          "data": {
            "text/plain": [
              "(array([0]), array([2]))"
            ]
          },
          "metadata": {},
          "execution_count": 282
        }
      ],
      "source": [
        "np.where(monthly_rates > 25)"
      ]
    },
    {
      "cell_type": "code",
      "execution_count": null,
      "metadata": {
        "id": "GXUdjoUX8ZSh",
        "outputId": "b82418e1-bddc-40f4-ecde-2266cd4a0597",
        "colab": {
          "base_uri": "https://localhost:8080/"
        }
      },
      "outputs": [
        {
          "output_type": "execute_result",
          "data": {
            "text/plain": [
              "(array([0, 0]), array([1, 2]))"
            ]
          },
          "metadata": {},
          "execution_count": 283
        }
      ],
      "source": [
        "np.where((monthly_rates >= 25) | (monthly_rates % 2 != 0))"
      ]
    },
    {
      "cell_type": "markdown",
      "metadata": {
        "id": "W6l98cx_qLCp"
      },
      "source": [
        "In this section, we learned how to access elements from arrays. Learners are encouraged to explore further on their own."
      ]
    }
  ],
  "metadata": {
    "colab": {
      "provenance": [],
      "toc_visible": true
    },
    "kernelspec": {
      "display_name": "Python 3 (ipykernel)",
      "language": "python",
      "name": "python3"
    },
    "language_info": {
      "codemirror_mode": {
        "name": "ipython",
        "version": 3
      },
      "file_extension": ".py",
      "mimetype": "text/x-python",
      "name": "python",
      "nbconvert_exporter": "python",
      "pygments_lexer": "ipython3",
      "version": "3.11.4"
    }
  },
  "nbformat": 4,
  "nbformat_minor": 0
}