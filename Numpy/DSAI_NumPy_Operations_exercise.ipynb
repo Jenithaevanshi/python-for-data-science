{
  "cells": [
    {
      "cell_type": "markdown",
      "metadata": {
        "id": "bQ-KMjmfe3wc"
      },
      "source": [
        "# Operations on NumPy Arrays\n",
        "One of NumPy's key features is the ability to perform efficient array or vector operations. These operations are crucial for scientific computing, data analysis, and machine learning tasks."
      ]
    },
    {
      "cell_type": "code",
      "execution_count": 98,
      "metadata": {
        "id": "IS7aa_rkKqgz"
      },
      "outputs": [],
      "source": [
        "import numpy as np"
      ]
    },
    {
      "cell_type": "markdown",
      "source": [
        "# Array Manipulation\n",
        "\n",
        "This section includes operations like adding, deleting, removing and replacing elements from an array."
      ],
      "metadata": {
        "id": "eIPfYgDjt3KF"
      }
    },
    {
      "cell_type": "markdown",
      "metadata": {
        "id": "AvRZE2cLLSG7"
      },
      "source": [
        "### Example\n",
        "Adding elements to 1D arrays"
      ]
    },
    {
      "cell_type": "code",
      "execution_count": 99,
      "metadata": {
        "colab": {
          "base_uri": "https://localhost:8080/"
        },
        "id": "HUd7__iALXAi",
        "outputId": "78a8ec38-542f-40e0-9294-d271e7081e69"
      },
      "outputs": [
        {
          "output_type": "execute_result",
          "data": {
            "text/plain": [
              "array([1, 2, 3])"
            ]
          },
          "metadata": {},
          "execution_count": 99
        }
      ],
      "source": [
        "np_arr = np.array([1, 2, 3])\n",
        "np_arr"
      ]
    },
    {
      "cell_type": "code",
      "execution_count": 100,
      "metadata": {
        "colab": {
          "base_uri": "https://localhost:8080/"
        },
        "id": "EocfGKUlLmF-",
        "outputId": "1a178d5a-1114-458a-94e4-a161094beb8e"
      },
      "outputs": [
        {
          "output_type": "execute_result",
          "data": {
            "text/plain": [
              "array([1, 2, 3, 4])"
            ]
          },
          "metadata": {},
          "execution_count": 100
        }
      ],
      "source": [
        "np.append(arr = np_arr, values = 4)"
      ]
    },
    {
      "cell_type": "code",
      "execution_count": 101,
      "metadata": {
        "colab": {
          "base_uri": "https://localhost:8080/"
        },
        "id": "L0XohHunAd4Z",
        "outputId": "d2a3e5d6-b4dd-447e-dd0c-a02743013041"
      },
      "outputs": [
        {
          "output_type": "execute_result",
          "data": {
            "text/plain": [
              "array([1, 2, 3])"
            ]
          },
          "metadata": {},
          "execution_count": 101
        }
      ],
      "source": [
        "np_arr"
      ]
    },
    {
      "cell_type": "markdown",
      "source": [
        "Notice that the operation did not persist in-place. Keep an eye out for operations that are in-place and those that are not-in-place."
      ],
      "metadata": {
        "id": "uU71Lu4zWD4d"
      }
    },
    {
      "cell_type": "code",
      "execution_count": 102,
      "metadata": {
        "colab": {
          "base_uri": "https://localhost:8080/"
        },
        "id": "Sxeu4hUIL5Wk",
        "outputId": "0598ec53-4a83-4219-c019-6b9c4dfb41e9"
      },
      "outputs": [
        {
          "output_type": "execute_result",
          "data": {
            "text/plain": [
              "array([1, 2, 3, 4])"
            ]
          },
          "metadata": {},
          "execution_count": 102
        }
      ],
      "source": [
        "np_arr = np.append(np_arr, 4)\n",
        "np_arr"
      ]
    },
    {
      "cell_type": "code",
      "execution_count": 103,
      "metadata": {
        "colab": {
          "base_uri": "https://localhost:8080/"
        },
        "id": "lQv9cWoOOsuG",
        "outputId": "78ce5f21-6de2-42cd-8201-41dc4fc8aa30"
      },
      "outputs": [
        {
          "output_type": "execute_result",
          "data": {
            "text/plain": [
              "array([1, 2, 3, 4, 5, 6])"
            ]
          },
          "metadata": {},
          "execution_count": 103
        }
      ],
      "source": [
        "np_arr = np.append(np_arr, [5, 6])\n",
        "np_arr"
      ]
    },
    {
      "cell_type": "code",
      "execution_count": 104,
      "metadata": {
        "colab": {
          "base_uri": "https://localhost:8080/"
        },
        "id": "30b5wVQHO1Dl",
        "outputId": "64ad4b2f-ecc0-441f-bb8f-7c627beb5a5e"
      },
      "outputs": [
        {
          "output_type": "execute_result",
          "data": {
            "text/plain": [
              "array([1, 2, 3, 4, 5, 6, 7, 8])"
            ]
          },
          "metadata": {},
          "execution_count": 104
        }
      ],
      "source": [
        "np_arr = np.append(np_arr, np.array([7, 8]))\n",
        "np_arr"
      ]
    },
    {
      "cell_type": "markdown",
      "metadata": {
        "id": "Gv5_HFfYL_CS"
      },
      "source": [
        "### Example\n",
        "Removing elements from 1D arrays"
      ]
    },
    {
      "cell_type": "code",
      "execution_count": 105,
      "metadata": {
        "colab": {
          "base_uri": "https://localhost:8080/"
        },
        "id": "ODcX4xaiM_lJ",
        "outputId": "7254b832-5b80-44ba-d917-4d298a0f208e"
      },
      "outputs": [
        {
          "output_type": "execute_result",
          "data": {
            "text/plain": [
              "array([1, 2, 3, 4, 5, 6, 7, 8])"
            ]
          },
          "metadata": {},
          "execution_count": 105
        }
      ],
      "source": [
        "np_arr"
      ]
    },
    {
      "cell_type": "code",
      "execution_count": 106,
      "metadata": {
        "colab": {
          "base_uri": "https://localhost:8080/"
        },
        "id": "oUYbUW9xNA76",
        "outputId": "39254de1-69fb-4158-a9ee-f0bfa1fe2521"
      },
      "outputs": [
        {
          "output_type": "execute_result",
          "data": {
            "text/plain": [
              "array([1, 2, 4, 5, 6, 7, 8])"
            ]
          },
          "metadata": {},
          "execution_count": 106
        }
      ],
      "source": [
        "np.delete(arr = np_arr, obj = 2)"
      ]
    },
    {
      "cell_type": "markdown",
      "source": [
        "Notice that the `.delete()` method uses the index of the object to perform deletion."
      ],
      "metadata": {
        "id": "sal8bJUW_GNt"
      }
    },
    {
      "cell_type": "code",
      "execution_count": 107,
      "metadata": {
        "colab": {
          "base_uri": "https://localhost:8080/"
        },
        "id": "s_R_lh1PAd4a",
        "outputId": "4717e119-e016-406d-b4de-97589ec1a323"
      },
      "outputs": [
        {
          "output_type": "execute_result",
          "data": {
            "text/plain": [
              "array([1, 2, 3, 4, 5, 6, 7, 8])"
            ]
          },
          "metadata": {},
          "execution_count": 107
        }
      ],
      "source": [
        "np_arr"
      ]
    },
    {
      "cell_type": "markdown",
      "source": [
        "Also notice that the original array is unchanged. So, the `.delete()` method is not in-place."
      ],
      "metadata": {
        "id": "WKvtJmR4_Ofo"
      }
    },
    {
      "cell_type": "markdown",
      "metadata": {
        "id": "szUkLqhwNTC9"
      },
      "source": [
        "### Example\n",
        "Replacing elements in 1D arrays"
      ]
    },
    {
      "cell_type": "code",
      "execution_count": 108,
      "metadata": {
        "colab": {
          "base_uri": "https://localhost:8080/"
        },
        "id": "3iZLyH7YPqAe",
        "outputId": "689920dd-5e77-4b1e-9fed-86200ee70c4c"
      },
      "outputs": [
        {
          "output_type": "execute_result",
          "data": {
            "text/plain": [
              "array([ 0,  2,  4,  6,  8, 10, -8, -6, -4])"
            ]
          },
          "metadata": {},
          "execution_count": 108
        }
      ],
      "source": [
        "np_arr = np.array([0, 2, 4, 6, 8, 10, -8, -6, -4])\n",
        "np_arr"
      ]
    },
    {
      "cell_type": "code",
      "execution_count": 109,
      "metadata": {
        "colab": {
          "base_uri": "https://localhost:8080/"
        },
        "id": "Tj2kyA7aNalM",
        "outputId": "cda81eee-f887-44f7-98cc-d57520c70ce7"
      },
      "outputs": [
        {
          "output_type": "execute_result",
          "data": {
            "text/plain": [
              "array([ 0,  5,  4,  6,  8, 10, -8, -6, -4])"
            ]
          },
          "metadata": {},
          "execution_count": 109
        }
      ],
      "source": [
        "np_arr[1] = 5\n",
        "np_arr"
      ]
    },
    {
      "cell_type": "code",
      "source": [
        "# np_arr[1] = [-1, -2]"
      ],
      "metadata": {
        "id": "LfUX-bwq_YXp"
      },
      "execution_count": 110,
      "outputs": []
    },
    {
      "cell_type": "code",
      "execution_count": 111,
      "metadata": {
        "colab": {
          "base_uri": "https://localhost:8080/"
        },
        "id": "3ztN69baOfmn",
        "outputId": "6b4471b6-de23-4033-9363-a9ac75cca395"
      },
      "outputs": [
        {
          "output_type": "execute_result",
          "data": {
            "text/plain": [
              "array([-1, -2,  4,  6,  8, 10, -8, -6, -4])"
            ]
          },
          "metadata": {},
          "execution_count": 111
        }
      ],
      "source": [
        "np_arr[0:2] = [-1, -2]\n",
        "np_arr"
      ]
    },
    {
      "cell_type": "code",
      "execution_count": 112,
      "metadata": {
        "colab": {
          "base_uri": "https://localhost:8080/"
        },
        "id": "WmekyLEjP_sS",
        "outputId": "bf960290-3617-4e6a-f48a-88b102d9c2aa"
      },
      "outputs": [
        {
          "output_type": "execute_result",
          "data": {
            "text/plain": [
              "array([ -1,  -2,   4,   6,   8,  10,  -8, 100, 200])"
            ]
          },
          "metadata": {},
          "execution_count": 112
        }
      ],
      "source": [
        "np_arr[-2:] = np.array([100, 200])\n",
        "np_arr"
      ]
    },
    {
      "cell_type": "markdown",
      "metadata": {
        "id": "mct8RZcmAd4b"
      },
      "source": [
        "### Quiz\n",
        "Append `['banana', 'cherry']` to the array `np_arr = np.array(['apple', 'orange', 'lemon'])`."
      ]
    },
    {
      "cell_type": "code",
      "execution_count": 113,
      "metadata": {
        "id": "zbL_9W9aAd4b"
      },
      "outputs": [],
      "source": [
        "##### CODE HERE #####"
      ]
    },
    {
      "cell_type": "markdown",
      "metadata": {
        "id": "JIyvrZJSAd4b"
      },
      "source": [
        "### Quiz\n",
        "Delete `['apple', 'orange']` from the above array"
      ]
    },
    {
      "cell_type": "code",
      "execution_count": 114,
      "metadata": {
        "id": "la2T-AoeAd4b"
      },
      "outputs": [],
      "source": [
        "##### CODE HERE #####"
      ]
    },
    {
      "cell_type": "markdown",
      "metadata": {
        "id": "YDdf3QlvAd4b"
      },
      "source": [
        "### Quiz\n",
        "Replace `'cherry'` with `'grape'` in the above array"
      ]
    },
    {
      "cell_type": "code",
      "execution_count": 115,
      "metadata": {
        "id": "es_QMi8gAd4b"
      },
      "outputs": [],
      "source": [
        "##### CODE HERE #####"
      ]
    },
    {
      "cell_type": "markdown",
      "metadata": {
        "id": "hrASFX-JQfpD"
      },
      "source": [
        "### Example\n",
        "Adding elements to 2D arrays"
      ]
    },
    {
      "cell_type": "code",
      "execution_count": 116,
      "metadata": {
        "colab": {
          "base_uri": "https://localhost:8080/"
        },
        "id": "6rAks1G9QV0r",
        "outputId": "ef286ade-02b8-4830-a61b-9d4156285376"
      },
      "outputs": [
        {
          "output_type": "execute_result",
          "data": {
            "text/plain": [
              "array([[ 1,  2,  3,  4],\n",
              "       [-4, -3, -2, -1]])"
            ]
          },
          "metadata": {},
          "execution_count": 116
        }
      ],
      "source": [
        "np_arr = np.array([[1, 2, 3, 4], [-4, -3, -2, -1]])\n",
        "np_arr"
      ]
    },
    {
      "cell_type": "code",
      "execution_count": 117,
      "metadata": {
        "colab": {
          "base_uri": "https://localhost:8080/"
        },
        "id": "ul78jkRMAd4b",
        "outputId": "760613cd-326f-4be9-b682-b1a6296cb471"
      },
      "outputs": [
        {
          "output_type": "execute_result",
          "data": {
            "text/plain": [
              "(2, 4)"
            ]
          },
          "metadata": {},
          "execution_count": 117
        }
      ],
      "source": [
        "np_arr.shape"
      ]
    },
    {
      "cell_type": "code",
      "execution_count": 118,
      "metadata": {
        "id": "Skwtwjfu8ZTP",
        "outputId": "a490df00-c3d3-4811-b54f-d6326148a184",
        "colab": {
          "base_uri": "https://localhost:8080/"
        }
      },
      "outputs": [
        {
          "output_type": "execute_result",
          "data": {
            "text/plain": [
              "array([ 1,  2,  3,  4, -4, -3, -2, -1,  0])"
            ]
          },
          "metadata": {},
          "execution_count": 118
        }
      ],
      "source": [
        "np_arr = np.append(np_arr, 0)\n",
        "np_arr"
      ]
    },
    {
      "cell_type": "code",
      "execution_count": 119,
      "metadata": {
        "id": "L6wq3mUy8ZTQ",
        "outputId": "9cd4d68e-3510-4ca7-970f-898cc55432eb",
        "colab": {
          "base_uri": "https://localhost:8080/"
        }
      },
      "outputs": [
        {
          "output_type": "execute_result",
          "data": {
            "text/plain": [
              "(9,)"
            ]
          },
          "metadata": {},
          "execution_count": 119
        }
      ],
      "source": [
        "np_arr.shape"
      ]
    },
    {
      "cell_type": "code",
      "execution_count": 120,
      "metadata": {
        "id": "-f98GHfr8ZTQ",
        "outputId": "4fa28c87-fc4c-42a2-aaa1-b985240a2b87",
        "colab": {
          "base_uri": "https://localhost:8080/"
        }
      },
      "outputs": [
        {
          "output_type": "execute_result",
          "data": {
            "text/plain": [
              "array([[ 1,  2,  3,  4],\n",
              "       [-4, -3, -2, -1]])"
            ]
          },
          "metadata": {},
          "execution_count": 120
        }
      ],
      "source": [
        "np_arr = np.array([[1, 2, 3, 4], [-4, -3, -2, -1]])\n",
        "np_arr"
      ]
    },
    {
      "cell_type": "code",
      "execution_count": 121,
      "metadata": {
        "id": "i8eTh2MRAd4c"
      },
      "outputs": [],
      "source": [
        "# np.append(np_arr, 0, axis = 0)"
      ]
    },
    {
      "cell_type": "code",
      "execution_count": 122,
      "metadata": {
        "colab": {
          "base_uri": "https://localhost:8080/"
        },
        "id": "C5he19BNAd4c",
        "outputId": "5318a4d1-a8c7-4d64-be0b-12e125402d78"
      },
      "outputs": [
        {
          "output_type": "execute_result",
          "data": {
            "text/plain": [
              "array([-5,  2,  5,  7])"
            ]
          },
          "metadata": {},
          "execution_count": 122
        }
      ],
      "source": [
        "new_arr = np.array([-5, 2, 5, 7])\n",
        "new_arr"
      ]
    },
    {
      "cell_type": "code",
      "execution_count": 123,
      "metadata": {
        "id": "mtaQ_KLf8ZTR"
      },
      "outputs": [],
      "source": [
        "# np.append(np_arr, new_arr, axis = 0)"
      ]
    },
    {
      "cell_type": "markdown",
      "metadata": {
        "id": "BE03UEzWAd4c"
      },
      "source": [
        "We need to use methods such as `.reshape()` to handle some of these operations. You will learn more about it later in the session."
      ]
    },
    {
      "cell_type": "markdown",
      "metadata": {
        "id": "OHZ6RGy0Ad4g"
      },
      "source": [
        "### Example\n",
        "Deleting elements from 2D arrays"
      ]
    },
    {
      "cell_type": "code",
      "execution_count": 124,
      "metadata": {
        "colab": {
          "base_uri": "https://localhost:8080/"
        },
        "id": "pU3p4UaPAd4g",
        "outputId": "821698db-13b1-4cff-e629-b8d1fc239064"
      },
      "outputs": [
        {
          "output_type": "execute_result",
          "data": {
            "text/plain": [
              "array([[ 4.7,  1.4, -4.6],\n",
              "       [ 2.6, -1.2, -2. ],\n",
              "       [ 6.6, -3.2,  4.9]])"
            ]
          },
          "metadata": {},
          "execution_count": 124
        }
      ],
      "source": [
        "np_arr = np.array([[4.7, 1.4, -4.6], [2.6, -1.2, -2], [6.6, -3.2, 4.9]])\n",
        "np_arr"
      ]
    },
    {
      "cell_type": "code",
      "execution_count": 125,
      "metadata": {
        "colab": {
          "base_uri": "https://localhost:8080/"
        },
        "id": "9fPQ7plKAd4g",
        "outputId": "8cc6ea19-8724-4b25-8a23-6a25fff15f5f"
      },
      "outputs": [
        {
          "output_type": "execute_result",
          "data": {
            "text/plain": [
              "array([ 1.4, -4.6,  2.6, -1.2, -2. ,  6.6, -3.2,  4.9])"
            ]
          },
          "metadata": {},
          "execution_count": 125
        }
      ],
      "source": [
        "np.delete(np_arr, 0)"
      ]
    },
    {
      "cell_type": "markdown",
      "source": [
        "If you try to delete a subset from an array which is not similar in shape to the original array, then it cannot maintain its original shape."
      ],
      "metadata": {
        "id": "6uYFimvZAT_j"
      }
    },
    {
      "cell_type": "code",
      "execution_count": 126,
      "metadata": {
        "colab": {
          "base_uri": "https://localhost:8080/"
        },
        "id": "DzYqZkr-Ad4h",
        "outputId": "49d91534-0ae2-4be8-f270-73fc9791ae34"
      },
      "outputs": [
        {
          "output_type": "execute_result",
          "data": {
            "text/plain": [
              "array([[ 4.7,  1.4, -4.6],\n",
              "       [ 2.6, -1.2, -2. ],\n",
              "       [ 6.6, -3.2,  4.9]])"
            ]
          },
          "metadata": {},
          "execution_count": 126
        }
      ],
      "source": [
        "np_arr"
      ]
    },
    {
      "cell_type": "code",
      "execution_count": 127,
      "metadata": {
        "colab": {
          "base_uri": "https://localhost:8080/"
        },
        "id": "6dhhmRO0Ad4h",
        "outputId": "5cb89e09-6287-450b-815c-c555baf3e269"
      },
      "outputs": [
        {
          "output_type": "execute_result",
          "data": {
            "text/plain": [
              "array([[ 2.6, -1.2, -2. ],\n",
              "       [ 6.6, -3.2,  4.9]])"
            ]
          },
          "metadata": {},
          "execution_count": 127
        }
      ],
      "source": [
        "np.delete(np_arr, 0, axis = 0)"
      ]
    },
    {
      "cell_type": "code",
      "execution_count": 128,
      "metadata": {
        "colab": {
          "base_uri": "https://localhost:8080/"
        },
        "id": "2QTlcH7IAd4h",
        "outputId": "d6533f05-107d-4c1a-e560-314489e2fd84"
      },
      "outputs": [
        {
          "output_type": "execute_result",
          "data": {
            "text/plain": [
              "array([[ 4.7,  1.4, -4.6],\n",
              "       [ 2.6, -1.2, -2. ],\n",
              "       [ 6.6, -3.2,  4.9]])"
            ]
          },
          "metadata": {},
          "execution_count": 128
        }
      ],
      "source": [
        "np_arr"
      ]
    },
    {
      "cell_type": "code",
      "execution_count": 129,
      "metadata": {
        "id": "UjwZmje8Ad4h",
        "outputId": "39d14f50-2053-48e0-fc13-1899b9d0b67b",
        "colab": {
          "base_uri": "https://localhost:8080/"
        }
      },
      "outputs": [
        {
          "output_type": "execute_result",
          "data": {
            "text/plain": [
              "array([[ 2.6, -1.2, -2. ],\n",
              "       [ 6.6, -3.2,  4.9]])"
            ]
          },
          "metadata": {},
          "execution_count": 129
        }
      ],
      "source": [
        "np_arr = np.delete(np_arr, 0, axis = 0)\n",
        "np_arr"
      ]
    },
    {
      "cell_type": "code",
      "execution_count": 130,
      "metadata": {
        "colab": {
          "base_uri": "https://localhost:8080/"
        },
        "id": "rO1AZQGwAd4h",
        "outputId": "318f2e2d-e090-4f4e-f691-76f403f74011"
      },
      "outputs": [
        {
          "output_type": "execute_result",
          "data": {
            "text/plain": [
              "array([], shape=(0, 3), dtype=float64)"
            ]
          },
          "metadata": {},
          "execution_count": 130
        }
      ],
      "source": [
        "np_arr = np.delete(np_arr, [0, 1], axis = 0)\n",
        "np_arr"
      ]
    },
    {
      "cell_type": "code",
      "execution_count": 131,
      "metadata": {
        "colab": {
          "base_uri": "https://localhost:8080/"
        },
        "id": "d7ytS_duAd4h",
        "outputId": "701abf77-ae10-44e2-a4e8-953afb1cf407"
      },
      "outputs": [
        {
          "output_type": "execute_result",
          "data": {
            "text/plain": [
              "array([[ 4.7,  1.4, -4.6],\n",
              "       [ 2.6, -1.2, -2. ],\n",
              "       [ 6.6, -3.2,  4.9]])"
            ]
          },
          "metadata": {},
          "execution_count": 131
        }
      ],
      "source": [
        "np_arr = np.array([[4.7, 1.4, -4.6], [2.6, -1.2, -2], [6.6, -3.2, 4.9]])\n",
        "np_arr"
      ]
    },
    {
      "cell_type": "code",
      "execution_count": 132,
      "metadata": {
        "colab": {
          "base_uri": "https://localhost:8080/"
        },
        "id": "KbCxxQDmAd4h",
        "outputId": "c84a67b0-0087-4fc5-f3c4-7a428b62c173"
      },
      "outputs": [
        {
          "output_type": "execute_result",
          "data": {
            "text/plain": [
              "array([[ 4.7, -4.6],\n",
              "       [ 2.6, -2. ],\n",
              "       [ 6.6,  4.9]])"
            ]
          },
          "metadata": {},
          "execution_count": 132
        }
      ],
      "source": [
        "np_arr = np.delete(np_arr, 1, axis = 1)\n",
        "np_arr"
      ]
    },
    {
      "cell_type": "markdown",
      "metadata": {
        "id": "DueviqN8Ad4i"
      },
      "source": [
        "### Example\n",
        "Replacing elements in 2D arrays"
      ]
    },
    {
      "cell_type": "code",
      "execution_count": 133,
      "metadata": {
        "colab": {
          "base_uri": "https://localhost:8080/"
        },
        "id": "eXjW1V7FAd4i",
        "outputId": "8f0d0d29-3799-4e61-9dff-38c30623af1e"
      },
      "outputs": [
        {
          "output_type": "execute_result",
          "data": {
            "text/plain": [
              "array([['Abhinav', 'Bhaskar', 'Manisha'],\n",
              "       ['EMP0046', 'EMP1218', 'EMP9453'],\n",
              "       ['42', '34', '27']], dtype='<U21')"
            ]
          },
          "metadata": {},
          "execution_count": 133
        }
      ],
      "source": [
        "np_arr = np.array([['Abhinav', 'Bhaskar', 'Manisha'], ['EMP0046', 'EMP1218', 'EMP9453'], [42, 34, 27]])\n",
        "np_arr"
      ]
    },
    {
      "cell_type": "code",
      "execution_count": 134,
      "metadata": {
        "colab": {
          "base_uri": "https://localhost:8080/"
        },
        "id": "8S4jeYZjAd4i",
        "outputId": "0c9cb274-0c69-4259-d551-0df07fc8a0bd"
      },
      "outputs": [
        {
          "output_type": "execute_result",
          "data": {
            "text/plain": [
              "array([['Govinda', 'Jaspreet', 'Lavina'],\n",
              "       ['EMP0046', 'EMP1218', 'EMP9453'],\n",
              "       ['42', '34', '27']], dtype='<U21')"
            ]
          },
          "metadata": {},
          "execution_count": 134
        }
      ],
      "source": [
        "np_arr[0] = ['Govinda', 'Jaspreet', 'Lavina']\n",
        "np_arr"
      ]
    },
    {
      "cell_type": "code",
      "execution_count": 135,
      "metadata": {
        "colab": {
          "base_uri": "https://localhost:8080/"
        },
        "id": "txaaVxgvAd4i",
        "outputId": "50fc2f92-ae1f-42d2-b4a3-ad54fa67d20b"
      },
      "outputs": [
        {
          "output_type": "execute_result",
          "data": {
            "text/plain": [
              "array([['Himani', 'Jaspreet', 'Lavina'],\n",
              "       ['EMP1677', 'EMP1218', 'EMP9453'],\n",
              "       ['37', '34', '27']], dtype='<U21')"
            ]
          },
          "metadata": {},
          "execution_count": 135
        }
      ],
      "source": [
        "np_arr[:, 0] = ['Himani', 'EMP1677', 37]\n",
        "np_arr"
      ]
    },
    {
      "cell_type": "code",
      "execution_count": 136,
      "metadata": {
        "id": "zyRTWu-78ZT7",
        "outputId": "4ba3cd77-cda8-4b94-8342-16d0bf2d077d",
        "colab": {
          "base_uri": "https://localhost:8080/"
        }
      },
      "outputs": [
        {
          "output_type": "execute_result",
          "data": {
            "text/plain": [
              "array([['Jaspreet', 'Lavina'],\n",
              "       ['EMP1218', 'EMP9453'],\n",
              "       ['34', '27']], dtype='<U21')"
            ]
          },
          "metadata": {},
          "execution_count": 136
        }
      ],
      "source": [
        "np_arr[:, 1:]"
      ]
    },
    {
      "cell_type": "code",
      "execution_count": 137,
      "metadata": {
        "id": "IX77xJoBAd4i"
      },
      "outputs": [],
      "source": [
        "# np_arr[:, 1:] = [['Priya', 'EMP4251', 22], ['Rashid', 'EMP8576', 26]]"
      ]
    },
    {
      "cell_type": "markdown",
      "metadata": {
        "id": "MmTZ33P0Ad4i"
      },
      "source": [
        "We need to use methods such as `.reshape()` to work on advanced array manipulation tasks. You will learn how to solve this problem later in the session."
      ]
    },
    {
      "cell_type": "markdown",
      "metadata": {
        "id": "HtZa0bDwAd45"
      },
      "source": [
        "### Example\n",
        "Concatenating and splitting arrays"
      ]
    },
    {
      "cell_type": "code",
      "execution_count": 138,
      "metadata": {
        "colab": {
          "base_uri": "https://localhost:8080/"
        },
        "id": "zGLmOCzEAd45",
        "outputId": "08fe149a-8c12-411a-be97-5944990c0de9"
      },
      "outputs": [
        {
          "output_type": "execute_result",
          "data": {
            "text/plain": [
              "array([[ 1,  2],\n",
              "       [-4,  3],\n",
              "       [ 2, -5]])"
            ]
          },
          "metadata": {},
          "execution_count": 138
        }
      ],
      "source": [
        "arr_1 = np.array([[1, 2], [-4, 3], [2, -5]])\n",
        "arr_1"
      ]
    },
    {
      "cell_type": "code",
      "execution_count": 139,
      "metadata": {
        "colab": {
          "base_uri": "https://localhost:8080/"
        },
        "id": "S45GEoaRAd46",
        "outputId": "dcf34d3f-81f5-4e53-9067-877953f2a9eb"
      },
      "outputs": [
        {
          "output_type": "execute_result",
          "data": {
            "text/plain": [
              "array([[ 1,  2],\n",
              "       [-4,  3],\n",
              "       [ 2, -5]])"
            ]
          },
          "metadata": {},
          "execution_count": 139
        }
      ],
      "source": [
        "arr_2 = np.array([[1, 2], [-4, 3], [2, -5]])\n",
        "arr_2"
      ]
    },
    {
      "cell_type": "code",
      "execution_count": 140,
      "metadata": {
        "colab": {
          "base_uri": "https://localhost:8080/"
        },
        "id": "Z1h3WmwCAd46",
        "outputId": "2c7904d0-00c5-4888-9214-1bf5a7e85203"
      },
      "outputs": [
        {
          "output_type": "execute_result",
          "data": {
            "text/plain": [
              "array([[ 1,  2],\n",
              "       [-4,  3],\n",
              "       [ 2, -5],\n",
              "       [ 1,  2],\n",
              "       [-4,  3],\n",
              "       [ 2, -5]])"
            ]
          },
          "metadata": {},
          "execution_count": 140
        }
      ],
      "source": [
        "np.concatenate((arr_1, arr_2), axis = 0)"
      ]
    },
    {
      "cell_type": "code",
      "execution_count": 141,
      "metadata": {
        "colab": {
          "base_uri": "https://localhost:8080/"
        },
        "id": "wLoWwZ2aAd46",
        "outputId": "78697ac3-cc8e-4152-e4ea-26819af4b356"
      },
      "outputs": [
        {
          "output_type": "execute_result",
          "data": {
            "text/plain": [
              "array([[ 1,  2,  1,  2],\n",
              "       [-4,  3, -4,  3],\n",
              "       [ 2, -5,  2, -5]])"
            ]
          },
          "metadata": {},
          "execution_count": 141
        }
      ],
      "source": [
        "np.concatenate((arr_1, arr_2), axis = 1)"
      ]
    },
    {
      "cell_type": "code",
      "execution_count": 142,
      "metadata": {
        "colab": {
          "base_uri": "https://localhost:8080/"
        },
        "id": "xcVTo_6BAd46",
        "outputId": "1feb745d-58e5-496b-c8fe-0f9c46aa1828"
      },
      "outputs": [
        {
          "output_type": "execute_result",
          "data": {
            "text/plain": [
              "array([[ 1,  2,  1,  2],\n",
              "       [-4,  3, -4,  3],\n",
              "       [ 2, -5,  2, -5]])"
            ]
          },
          "metadata": {},
          "execution_count": 142
        }
      ],
      "source": [
        "np_arr = np.concatenate((arr_1, arr_2), axis = 1)\n",
        "np_arr"
      ]
    },
    {
      "cell_type": "code",
      "execution_count": 143,
      "metadata": {
        "colab": {
          "base_uri": "https://localhost:8080/"
        },
        "id": "0nv7WgtPAd46",
        "outputId": "dcce4d71-f209-424b-a0aa-8cf590e88572"
      },
      "outputs": [
        {
          "output_type": "execute_result",
          "data": {
            "text/plain": [
              "[array([[1, 2, 1, 2]]),\n",
              " array([[-4,  3, -4,  3],\n",
              "        [ 2, -5,  2, -5]])]"
            ]
          },
          "metadata": {},
          "execution_count": 143
        }
      ],
      "source": [
        "np.split(ary = np_arr, indices_or_sections = [1])"
      ]
    },
    {
      "cell_type": "markdown",
      "metadata": {
        "id": "zUwqp_oFAd4k"
      },
      "source": [
        "### Quiz\n",
        "You are given two $2$x$3$ NumPy arrays:\n",
        "```\n",
        "arr1 = np.array([[1, 2, 3], [4, 5, 6]])\n",
        "arr2 = np.array([[7, 8, 9], [10, 11, 12]])\n",
        "```\n",
        "Concatenate these arrays vertically to create a $4$x$3$ array"
      ]
    },
    {
      "cell_type": "code",
      "source": [
        "##### CODE HERE #####"
      ],
      "metadata": {
        "id": "4pPHHz-hBsMp"
      },
      "execution_count": 144,
      "outputs": []
    },
    {
      "cell_type": "code",
      "source": [
        "##### CODE HERE #####"
      ],
      "metadata": {
        "id": "rtGeGf98B4Uk"
      },
      "execution_count": 145,
      "outputs": []
    },
    {
      "cell_type": "markdown",
      "source": [
        "# Arithematic Operations\n",
        "\n",
        "This section involves mathematical operations applied to arrays, such as vector addition, multiplication."
      ],
      "metadata": {
        "id": "fnIdLhuRuUz7"
      }
    },
    {
      "cell_type": "markdown",
      "metadata": {
        "id": "fOxrYhhMNqrw"
      },
      "source": [
        "### Example\n",
        "Performing vector addition with arrays"
      ]
    },
    {
      "cell_type": "code",
      "execution_count": 146,
      "metadata": {
        "colab": {
          "base_uri": "https://localhost:8080/"
        },
        "id": "-9sFDSBHNL3k",
        "outputId": "badd3157-1228-44f9-b9b1-540a0b16f8cc"
      },
      "outputs": [
        {
          "output_type": "stream",
          "name": "stdout",
          "text": [
            "revenue generated in three company outlets in January = [2450.67 1872.34 1098.44]\n",
            "revenue generated in three company outlets in February = [2876.45 2110.98  640.78]\n"
          ]
        }
      ],
      "source": [
        "company_revenue_jan = np.array([2450.67, 1872.34, 1098.44])\n",
        "company_revenue_feb = np.array([2876.45, 2110.98, 640.78])\n",
        "print('revenue generated in three company outlets in January =', company_revenue_jan)\n",
        "print('revenue generated in three company outlets in February =', company_revenue_feb)"
      ]
    },
    {
      "cell_type": "code",
      "source": [
        "company_revenue_jan + company_revenue_feb"
      ],
      "metadata": {
        "colab": {
          "base_uri": "https://localhost:8080/"
        },
        "id": "jjtcDB5nKMST",
        "outputId": "47d11205-919b-4a90-aaec-4961d5ab167d"
      },
      "execution_count": 147,
      "outputs": [
        {
          "output_type": "execute_result",
          "data": {
            "text/plain": [
              "array([5327.12, 3983.32, 1739.22])"
            ]
          },
          "metadata": {},
          "execution_count": 147
        }
      ]
    },
    {
      "cell_type": "markdown",
      "source": [
        "Most of these arithmetic operations are not in-place. So, we need to assign the result to a new array if we want to save the result."
      ],
      "metadata": {
        "id": "GHPVQGqgKPzB"
      }
    },
    {
      "cell_type": "code",
      "execution_count": 148,
      "metadata": {
        "colab": {
          "base_uri": "https://localhost:8080/"
        },
        "id": "5PubGDEzNhPu",
        "outputId": "2002ac3d-05d2-489c-bf62-4cb10694959c"
      },
      "outputs": [
        {
          "output_type": "execute_result",
          "data": {
            "text/plain": [
              "array([5327.12, 3983.32, 1739.22])"
            ]
          },
          "metadata": {},
          "execution_count": 148
        }
      ],
      "source": [
        "sum_arr = company_revenue_jan + company_revenue_feb\n",
        "sum_arr"
      ]
    },
    {
      "cell_type": "code",
      "execution_count": 149,
      "metadata": {
        "colab": {
          "base_uri": "https://localhost:8080/"
        },
        "id": "uML67ilp_FGq",
        "outputId": "714cfbdd-96bb-4da1-c788-3090ceef56ea"
      },
      "outputs": [
        {
          "output_type": "execute_result",
          "data": {
            "text/plain": [
              "array([ 425.78,  238.64, -457.66])"
            ]
          },
          "metadata": {},
          "execution_count": 149
        }
      ],
      "source": [
        "diff_arr = company_revenue_feb - company_revenue_jan\n",
        "diff_arr"
      ]
    },
    {
      "cell_type": "code",
      "execution_count": 150,
      "metadata": {
        "colab": {
          "base_uri": "https://localhost:8080/"
        },
        "id": "bHBZ2IJMOAuz",
        "outputId": "7b979ecd-516e-4e67-fad8-5a6693d61c73"
      },
      "outputs": [
        {
          "output_type": "execute_result",
          "data": {
            "text/plain": [
              "array([2450.67, 1872.34, 1098.44])"
            ]
          },
          "metadata": {},
          "execution_count": 150
        }
      ],
      "source": [
        "company_revenue_jan"
      ]
    },
    {
      "cell_type": "code",
      "execution_count": 151,
      "metadata": {
        "colab": {
          "base_uri": "https://localhost:8080/"
        },
        "id": "VDJIUE5BOJo9",
        "outputId": "9669dca5-f132-4091-a987-03029011d930"
      },
      "outputs": [
        {
          "output_type": "execute_result",
          "data": {
            "text/plain": [
              "array([2950.67, 2372.34, 1598.44])"
            ]
          },
          "metadata": {},
          "execution_count": 151
        }
      ],
      "source": [
        "shifted_arr = company_revenue_jan + 500\n",
        "shifted_arr"
      ]
    },
    {
      "cell_type": "code",
      "execution_count": 152,
      "metadata": {
        "id": "yUtjKVUbP31a"
      },
      "outputs": [],
      "source": [
        "v1 = np.array([[5, -4], [-3, 2]])\n",
        "v2 = np.array([[3, -8], [-6, 0]])"
      ]
    },
    {
      "cell_type": "code",
      "execution_count": 153,
      "metadata": {
        "id": "nWkNOf2k_7RH",
        "outputId": "2a5b1fa4-0dd7-4c28-950a-a7d4335ec36b",
        "colab": {
          "base_uri": "https://localhost:8080/"
        }
      },
      "outputs": [
        {
          "output_type": "execute_result",
          "data": {
            "text/plain": [
              "array([[ 5, -4],\n",
              "       [-3,  2]])"
            ]
          },
          "metadata": {},
          "execution_count": 153
        }
      ],
      "source": [
        "v1"
      ]
    },
    {
      "cell_type": "code",
      "execution_count": 154,
      "metadata": {
        "id": "nrdeLYLw_7RJ",
        "outputId": "2386ce81-37bf-4499-8a5e-c1a55c3ce3a9",
        "colab": {
          "base_uri": "https://localhost:8080/"
        }
      },
      "outputs": [
        {
          "output_type": "execute_result",
          "data": {
            "text/plain": [
              "array([[ 3, -8],\n",
              "       [-6,  0]])"
            ]
          },
          "metadata": {},
          "execution_count": 154
        }
      ],
      "source": [
        "v2"
      ]
    },
    {
      "cell_type": "code",
      "execution_count": 155,
      "metadata": {
        "colab": {
          "base_uri": "https://localhost:8080/"
        },
        "id": "4JR7kQajqPJp",
        "outputId": "bbb34843-73bc-4cdd-9628-4b9e5cad093c"
      },
      "outputs": [
        {
          "output_type": "execute_result",
          "data": {
            "text/plain": [
              "array([[  8, -12],\n",
              "       [ -9,   2]])"
            ]
          },
          "metadata": {},
          "execution_count": 155
        }
      ],
      "source": [
        "sum_arr = v1 + v2\n",
        "sum_arr"
      ]
    },
    {
      "cell_type": "code",
      "execution_count": 156,
      "metadata": {
        "colab": {
          "base_uri": "https://localhost:8080/"
        },
        "id": "mArxpk-hAd4m",
        "outputId": "0c148d03-5e54-41d4-9078-82856d954141"
      },
      "outputs": [
        {
          "output_type": "execute_result",
          "data": {
            "text/plain": [
              "array([[2, 4],\n",
              "       [3, 2]])"
            ]
          },
          "metadata": {},
          "execution_count": 156
        }
      ],
      "source": [
        "diff_arr = v1 - v2\n",
        "diff_arr"
      ]
    },
    {
      "cell_type": "code",
      "execution_count": 157,
      "metadata": {
        "colab": {
          "base_uri": "https://localhost:8080/"
        },
        "id": "MK32nGThHXiw",
        "outputId": "033d536b-37da-4164-8ecc-d31706a3a83c"
      },
      "outputs": [
        {
          "output_type": "execute_result",
          "data": {
            "text/plain": [
              "array([[ 5, -4],\n",
              "       [-3,  2]])"
            ]
          },
          "metadata": {},
          "execution_count": 157
        }
      ],
      "source": [
        "v1"
      ]
    },
    {
      "cell_type": "code",
      "execution_count": 158,
      "metadata": {
        "colab": {
          "base_uri": "https://localhost:8080/"
        },
        "id": "Y1nEvPZjHdiO",
        "outputId": "00252392-9c6c-456c-8e04-5920d65be49e"
      },
      "outputs": [
        {
          "output_type": "execute_result",
          "data": {
            "text/plain": [
              "array([[13,  4],\n",
              "       [ 5, 10]])"
            ]
          },
          "metadata": {},
          "execution_count": 158
        }
      ],
      "source": [
        "sum_arr = v1 + 8\n",
        "sum_arr"
      ]
    },
    {
      "cell_type": "code",
      "execution_count": 159,
      "metadata": {
        "colab": {
          "base_uri": "https://localhost:8080/"
        },
        "id": "NXIM5gKkHji4",
        "outputId": "9008932a-a3ed-4862-bee4-5932db3edb75"
      },
      "outputs": [
        {
          "output_type": "execute_result",
          "data": {
            "text/plain": [
              "array([[16,  7],\n",
              "       [ 5, 10]])"
            ]
          },
          "metadata": {},
          "execution_count": 159
        }
      ],
      "source": [
        "sum_arr[0] = sum_arr[0] + 3\n",
        "sum_arr"
      ]
    },
    {
      "cell_type": "code",
      "execution_count": 160,
      "metadata": {
        "colab": {
          "base_uri": "https://localhost:8080/"
        },
        "id": "lt2x1vJhAd4n",
        "outputId": "38c532aa-ca12-4376-b49c-1f0fa2276a91"
      },
      "outputs": [
        {
          "output_type": "execute_result",
          "data": {
            "text/plain": [
              "array([[16,  2],\n",
              "       [ 5,  5]])"
            ]
          },
          "metadata": {},
          "execution_count": 160
        }
      ],
      "source": [
        "sum_arr[:, 1] = sum_arr[:, 1] - 5\n",
        "sum_arr"
      ]
    },
    {
      "cell_type": "code",
      "execution_count": 161,
      "metadata": {
        "colab": {
          "base_uri": "https://localhost:8080/"
        },
        "id": "lQhX6_jAAd4n",
        "outputId": "c8a2716a-f70c-45f9-e027-d77b2d577fd7"
      },
      "outputs": [
        {
          "output_type": "execute_result",
          "data": {
            "text/plain": [
              "array([[16,  5],\n",
              "       [ 5, 12]])"
            ]
          },
          "metadata": {},
          "execution_count": 161
        }
      ],
      "source": [
        "sum_arr[:, 1] = sum_arr[:, 1] + [3, 7]\n",
        "sum_arr"
      ]
    },
    {
      "cell_type": "markdown",
      "metadata": {
        "id": "sABhsyhyAd4r"
      },
      "source": [
        "### Example\n",
        "Performing multiplication and division with arrays"
      ]
    },
    {
      "cell_type": "code",
      "execution_count": 162,
      "metadata": {
        "colab": {
          "base_uri": "https://localhost:8080/"
        },
        "id": "9MqNfRQjAd4r",
        "outputId": "82a62237-bebc-44e2-d362-2cec384b0b03"
      },
      "outputs": [
        {
          "output_type": "execute_result",
          "data": {
            "text/plain": [
              "array([[ 0, 25, 45],\n",
              "       [10, 16,  8],\n",
              "       [ 4,  0, 12]])"
            ]
          },
          "metadata": {},
          "execution_count": 162
        }
      ],
      "source": [
        "new_arr = np.array([[0, 25, 45], [10, 16, 8], [4, 0, 12]])\n",
        "new_arr"
      ]
    },
    {
      "cell_type": "code",
      "execution_count": 163,
      "metadata": {
        "colab": {
          "base_uri": "https://localhost:8080/"
        },
        "id": "59NGokKRAd4r",
        "outputId": "6de396a4-ac80-4a28-8bb4-7694bcbd58df"
      },
      "outputs": [
        {
          "output_type": "execute_result",
          "data": {
            "text/plain": [
              "array([[ 0, 50, 90],\n",
              "       [20, 32, 16],\n",
              "       [ 8,  0, 24]])"
            ]
          },
          "metadata": {},
          "execution_count": 163
        }
      ],
      "source": [
        "new_arr = new_arr * 2\n",
        "new_arr"
      ]
    },
    {
      "cell_type": "code",
      "execution_count": 164,
      "metadata": {
        "id": "lGjNLo7c_7RU",
        "outputId": "0351fe48-8f12-4a83-ffd2-4cbeff231185",
        "colab": {
          "base_uri": "https://localhost:8080/"
        }
      },
      "outputs": [
        {
          "output_type": "execute_result",
          "data": {
            "text/plain": [
              "array([[  0, 100, 180],\n",
              "       [ 40,  64,  32],\n",
              "       [  8,   0,  24]])"
            ]
          },
          "metadata": {},
          "execution_count": 164
        }
      ],
      "source": [
        "new_arr[:2, :] = new_arr[:2, :] * 2\n",
        "new_arr"
      ]
    },
    {
      "cell_type": "code",
      "execution_count": 165,
      "metadata": {
        "colab": {
          "base_uri": "https://localhost:8080/"
        },
        "id": "pz3QUW6dAd4r",
        "outputId": "a4118be5-0875-4312-b9f0-9d741f57cd17"
      },
      "outputs": [
        {
          "output_type": "execute_result",
          "data": {
            "text/plain": [
              "array([[ 0. , 20. , 36. ],\n",
              "       [ 8. , 12.8,  6.4],\n",
              "       [ 1.6,  0. ,  4.8]])"
            ]
          },
          "metadata": {},
          "execution_count": 165
        }
      ],
      "source": [
        "new_arr / 5"
      ]
    },
    {
      "cell_type": "code",
      "execution_count": 166,
      "metadata": {
        "id": "99Yzn3oF_7RZ",
        "outputId": "42bb6a52-7267-4b94-8960-9e74ba4acfc8",
        "colab": {
          "base_uri": "https://localhost:8080/"
        }
      },
      "outputs": [
        {
          "output_type": "execute_result",
          "data": {
            "text/plain": [
              "array([12, 22, 35])"
            ]
          },
          "metadata": {},
          "execution_count": 166
        }
      ],
      "source": [
        "rates_of_items = np.array([12, 22, 35])\n",
        "rates_of_items"
      ]
    },
    {
      "cell_type": "code",
      "execution_count": 167,
      "metadata": {
        "id": "rHVvMHON_7RZ",
        "outputId": "2b0bca76-ebe3-40f6-e9f2-cfe69d4f4776",
        "colab": {
          "base_uri": "https://localhost:8080/"
        }
      },
      "outputs": [
        {
          "output_type": "execute_result",
          "data": {
            "text/plain": [
              "array([100,  50,  40])"
            ]
          },
          "metadata": {},
          "execution_count": 167
        }
      ],
      "source": [
        "number_of_items = np.array([100, 50, 40])\n",
        "number_of_items"
      ]
    },
    {
      "cell_type": "code",
      "execution_count": 168,
      "metadata": {
        "colab": {
          "base_uri": "https://localhost:8080/"
        },
        "id": "m7oqdC7kAd4s",
        "outputId": "74882c6f-8260-48b1-b6bd-ce949203bf61"
      },
      "outputs": [
        {
          "output_type": "execute_result",
          "data": {
            "text/plain": [
              "array([1200, 1100, 1400])"
            ]
          },
          "metadata": {},
          "execution_count": 168
        }
      ],
      "source": [
        "rates_of_items * number_of_items"
      ]
    },
    {
      "cell_type": "code",
      "execution_count": 169,
      "metadata": {
        "id": "KkGYAEU0_7Rm",
        "outputId": "3115ca87-ba5a-47fc-87b5-4939eb309b71",
        "colab": {
          "base_uri": "https://localhost:8080/"
        }
      },
      "outputs": [
        {
          "output_type": "execute_result",
          "data": {
            "text/plain": [
              "array([[ 5, -4],\n",
              "       [-3,  2]])"
            ]
          },
          "metadata": {},
          "execution_count": 169
        }
      ],
      "source": [
        "v1"
      ]
    },
    {
      "cell_type": "code",
      "execution_count": 170,
      "metadata": {
        "id": "Z1VdW0I0_7Rm",
        "outputId": "e2641e89-c6c2-4200-89d7-1af789c39281",
        "colab": {
          "base_uri": "https://localhost:8080/"
        }
      },
      "outputs": [
        {
          "output_type": "execute_result",
          "data": {
            "text/plain": [
              "array([[ 3, -8],\n",
              "       [-6,  0]])"
            ]
          },
          "metadata": {},
          "execution_count": 170
        }
      ],
      "source": [
        "v2"
      ]
    },
    {
      "cell_type": "code",
      "execution_count": 171,
      "metadata": {
        "id": "bmzUyljA_7Rp",
        "outputId": "304d5cbd-7e5c-4ebe-f588-5426bf37dbe2",
        "colab": {
          "base_uri": "https://localhost:8080/"
        }
      },
      "outputs": [
        {
          "output_type": "execute_result",
          "data": {
            "text/plain": [
              "array([[15, 32],\n",
              "       [18,  0]])"
            ]
          },
          "metadata": {},
          "execution_count": 171
        }
      ],
      "source": [
        "v1 * v2"
      ]
    },
    {
      "cell_type": "markdown",
      "metadata": {
        "id": "y3QvgzHdAd4s"
      },
      "source": [
        "### Example\n",
        "Let us consider the following example for array multiplication:\n",
        "```\n",
        "arr_1 = np.array([[1, 3], [-2, 5], [6, 7]])\n",
        "arr_2 = np.array([[1, -7], [0, 8], [4, -3]])\n",
        "```\n",
        "We will see how to multiply the two arrays to produce the following array:\n",
        "```\n",
        "np.array([[10, -210], [0, 400], [240, -210]])\n",
        "```\n",
        "We might need to scale up the values accordingly by multiplying by a factor"
      ]
    },
    {
      "cell_type": "code",
      "execution_count": 172,
      "metadata": {
        "colab": {
          "base_uri": "https://localhost:8080/"
        },
        "id": "Dbe3vq4MAd4s",
        "outputId": "ebb45aab-60f4-4f90-e84b-e323d3e26217"
      },
      "outputs": [
        {
          "output_type": "execute_result",
          "data": {
            "text/plain": [
              "array([[  10, -210],\n",
              "       [   0,  400],\n",
              "       [ 240, -210]])"
            ]
          },
          "metadata": {},
          "execution_count": 172
        }
      ],
      "source": [
        "arr_1 = np.array([[1, 3], [-2, 5], [6, 7]])\n",
        "arr_2 = np.array([[1, -7], [0, 8], [4, -3]])\n",
        "arr_1 * arr_2 * 10"
      ]
    },
    {
      "cell_type": "markdown",
      "metadata": {
        "id": "cJP0VRR6Ad4s"
      },
      "source": [
        "### Quiz\n",
        "Consider the arrays shown below:\n",
        "```\n",
        "arr_1 = np.array([[0, 4.5], [-2, 1], [-3, 2]])\n",
        "arr_2 = np.array([[1, -1], [0.5, 4.8], [9, -1.3]])\n",
        "```\n",
        "Multiply the two arrays to produce the following array:\n",
        "```\n",
        "np.array([[0, -0.9], [-0.2, 0.96], [-5.4, -0.52]])\n",
        "```\n",
        "Scale down the values accordingly by dividing by a factor"
      ]
    },
    {
      "cell_type": "code",
      "execution_count": 173,
      "metadata": {
        "id": "XKvrKscAAd4s"
      },
      "outputs": [],
      "source": [
        "##### CODE HERE #####"
      ]
    },
    {
      "cell_type": "markdown",
      "metadata": {
        "id": "NHT9e8LzAd4s"
      },
      "source": [
        "### Example\n",
        "Performing exponentiation with arrays"
      ]
    },
    {
      "cell_type": "code",
      "execution_count": 174,
      "metadata": {
        "colab": {
          "base_uri": "https://localhost:8080/"
        },
        "id": "U6kv2a_OAd4s",
        "outputId": "96575fba-711b-4349-d561-373c70f196c7"
      },
      "outputs": [
        {
          "output_type": "execute_result",
          "data": {
            "text/plain": [
              "array([[1. , 0. , 5. ],\n",
              "       [0.5, 3. , 7. ]])"
            ]
          },
          "metadata": {},
          "execution_count": 174
        }
      ],
      "source": [
        "np_arr = np.array([[1, 0, 5], [0.5, 3, 7]])\n",
        "np_arr"
      ]
    },
    {
      "cell_type": "code",
      "execution_count": 175,
      "metadata": {
        "colab": {
          "base_uri": "https://localhost:8080/"
        },
        "id": "7um5z2jQAd4t",
        "outputId": "f65d5f1b-dbc4-4abf-9fa5-cc081bdba786"
      },
      "outputs": [
        {
          "output_type": "execute_result",
          "data": {
            "text/plain": [
              "array([[ 1.  ,  0.  , 25.  ],\n",
              "       [ 0.25,  9.  , 49.  ]])"
            ]
          },
          "metadata": {},
          "execution_count": 175
        }
      ],
      "source": [
        "np_arr = np_arr ** 2\n",
        "np_arr"
      ]
    },
    {
      "cell_type": "code",
      "execution_count": 176,
      "metadata": {
        "colab": {
          "base_uri": "https://localhost:8080/"
        },
        "id": "Q2cA1cnkAd4t",
        "outputId": "6e54e5e7-51ee-4c57-e7a9-c2f6fbdf5d0c"
      },
      "outputs": [
        {
          "output_type": "execute_result",
          "data": {
            "text/plain": [
              "array([[1. , 0. , 5. ],\n",
              "       [0.5, 3. , 7. ]])"
            ]
          },
          "metadata": {},
          "execution_count": 176
        }
      ],
      "source": [
        "np_arr = np_arr ** 0.5\n",
        "np_arr"
      ]
    },
    {
      "cell_type": "code",
      "execution_count": 177,
      "metadata": {
        "colab": {
          "base_uri": "https://localhost:8080/"
        },
        "id": "Vqzqe8b7Ad4t",
        "outputId": "081e1f8c-ab6d-4fce-b10b-4f4d614d3243"
      },
      "outputs": [
        {
          "output_type": "execute_result",
          "data": {
            "text/plain": [
              "array([[ 1.  ,  0.  , 25.  ],\n",
              "       [ 0.25,  9.  , 49.  ]])"
            ]
          },
          "metadata": {},
          "execution_count": 177
        }
      ],
      "source": [
        "np_arr = np_arr ** 2\n",
        "np_arr"
      ]
    },
    {
      "cell_type": "code",
      "execution_count": 178,
      "metadata": {
        "colab": {
          "base_uri": "https://localhost:8080/"
        },
        "id": "MGeuGSlUAd4t",
        "outputId": "e0ffb48a-701f-42cd-904c-9e6c755ef03d"
      },
      "outputs": [
        {
          "output_type": "execute_result",
          "data": {
            "text/plain": [
              "array([[1. , 0. , 5. ],\n",
              "       [0.5, 3. , 7. ]])"
            ]
          },
          "metadata": {},
          "execution_count": 178
        }
      ],
      "source": [
        "np.sqrt(np_arr)"
      ]
    },
    {
      "cell_type": "markdown",
      "source": [
        "We have used a NumPy method here called `numpy.sqrt()`. You will learn more about NumPy functions later in the session."
      ],
      "metadata": {
        "id": "7n2YHSLPBbW8"
      }
    },
    {
      "cell_type": "markdown",
      "source": [
        "# Dimensional Operations\n",
        "This section involves performing operations on NumPy arrays that operate along its dimensions."
      ],
      "metadata": {
        "id": "HYTSVc6luhBx"
      }
    },
    {
      "cell_type": "markdown",
      "metadata": {
        "id": "lF-xR_54Ad4z"
      },
      "source": [
        "### Example\n",
        "Operations along axes"
      ]
    },
    {
      "cell_type": "code",
      "execution_count": 179,
      "metadata": {
        "colab": {
          "base_uri": "https://localhost:8080/"
        },
        "id": "RdfU_zCaAd4z",
        "outputId": "36b81ae5-6d86-4140-b0db-b344da4ac13f"
      },
      "outputs": [
        {
          "output_type": "execute_result",
          "data": {
            "text/plain": [
              "array([2450.67, 1872.34, 1098.44])"
            ]
          },
          "metadata": {},
          "execution_count": 179
        }
      ],
      "source": [
        "company_revenue_jan = np.array([2450.67, 1872.34, 1098.44])\n",
        "company_revenue_jan"
      ]
    },
    {
      "cell_type": "code",
      "execution_count": 180,
      "metadata": {
        "colab": {
          "base_uri": "https://localhost:8080/"
        },
        "id": "KazRZv74Ad4z",
        "outputId": "ce5bd575-8c61-4dd2-d131-41886af0b8a5"
      },
      "outputs": [
        {
          "output_type": "execute_result",
          "data": {
            "text/plain": [
              "5421.450000000001"
            ]
          },
          "metadata": {},
          "execution_count": 180
        }
      ],
      "source": [
        "company_revenue_jan.sum()"
      ]
    },
    {
      "cell_type": "code",
      "source": [
        "company_revenue_jan.mean()"
      ],
      "metadata": {
        "colab": {
          "base_uri": "https://localhost:8080/"
        },
        "id": "YJ535-2hcisA",
        "outputId": "2f390007-7090-412f-ea22-9b4ea9629d5d"
      },
      "execution_count": 181,
      "outputs": [
        {
          "output_type": "execute_result",
          "data": {
            "text/plain": [
              "1807.1500000000003"
            ]
          },
          "metadata": {},
          "execution_count": 181
        }
      ]
    },
    {
      "cell_type": "code",
      "execution_count": 182,
      "metadata": {
        "colab": {
          "base_uri": "https://localhost:8080/"
        },
        "id": "47F3hX0bAd4z",
        "outputId": "54ed2f76-d53f-431e-f69e-04e65cda575d"
      },
      "outputs": [
        {
          "output_type": "execute_result",
          "data": {
            "text/plain": [
              "array([[ 2, 25, 45],\n",
              "       [10, 16,  8],\n",
              "       [ 4,  3, 12]])"
            ]
          },
          "metadata": {},
          "execution_count": 182
        }
      ],
      "source": [
        "sample_array = np.array([[2, 25, 45], [10, 16, 8], [4, 3, 12]])\n",
        "sample_array"
      ]
    },
    {
      "cell_type": "code",
      "execution_count": 183,
      "metadata": {
        "colab": {
          "base_uri": "https://localhost:8080/"
        },
        "id": "OnYusBDNAd4z",
        "outputId": "bf6814fe-1aae-4ec6-b1ff-8225364d9f67"
      },
      "outputs": [
        {
          "output_type": "execute_result",
          "data": {
            "text/plain": [
              "125"
            ]
          },
          "metadata": {},
          "execution_count": 183
        }
      ],
      "source": [
        "sample_array.sum()"
      ]
    },
    {
      "cell_type": "code",
      "execution_count": 184,
      "metadata": {
        "colab": {
          "base_uri": "https://localhost:8080/"
        },
        "id": "pkTSZFdrAd4z",
        "outputId": "966530fa-afbb-4800-9cde-458293ae6a90"
      },
      "outputs": [
        {
          "output_type": "execute_result",
          "data": {
            "text/plain": [
              "array([16, 44, 65])"
            ]
          },
          "metadata": {},
          "execution_count": 184
        }
      ],
      "source": [
        "sample_array.sum(axis = 0)"
      ]
    },
    {
      "cell_type": "code",
      "execution_count": 185,
      "metadata": {
        "colab": {
          "base_uri": "https://localhost:8080/"
        },
        "id": "8MW3CI1QAd4z",
        "outputId": "ca0c2f46-ceb2-41cc-9447-88cb46544443"
      },
      "outputs": [
        {
          "output_type": "execute_result",
          "data": {
            "text/plain": [
              "array([72, 34, 19])"
            ]
          },
          "metadata": {},
          "execution_count": 185
        }
      ],
      "source": [
        "sample_array.sum(axis = 1)"
      ]
    },
    {
      "cell_type": "code",
      "execution_count": 186,
      "metadata": {
        "colab": {
          "base_uri": "https://localhost:8080/"
        },
        "id": "MBMXw1JRAd4z",
        "outputId": "f2b3a07a-dea3-4a3d-eae1-a8fecf9fdeb7"
      },
      "outputs": [
        {
          "output_type": "execute_result",
          "data": {
            "text/plain": [
              "array([[ 2, 25, 45],\n",
              "       [10, 16,  8],\n",
              "       [ 4,  3, 12]])"
            ]
          },
          "metadata": {},
          "execution_count": 186
        }
      ],
      "source": [
        "sample_array"
      ]
    },
    {
      "cell_type": "code",
      "execution_count": 187,
      "metadata": {
        "colab": {
          "base_uri": "https://localhost:8080/"
        },
        "id": "ApMRKbyPAd4z",
        "outputId": "312955eb-e1a5-41e5-bf4f-9fab441e0b65"
      },
      "outputs": [
        {
          "output_type": "execute_result",
          "data": {
            "text/plain": [
              "414720000"
            ]
          },
          "metadata": {},
          "execution_count": 187
        }
      ],
      "source": [
        "sample_array.prod()"
      ]
    },
    {
      "cell_type": "code",
      "execution_count": 188,
      "metadata": {
        "colab": {
          "base_uri": "https://localhost:8080/"
        },
        "id": "dK7BvzUaAd4z",
        "outputId": "a9d0c9f4-57b5-4584-b9b7-53ba50f1aa68"
      },
      "outputs": [
        {
          "output_type": "execute_result",
          "data": {
            "text/plain": [
              "array([  80, 1200, 4320])"
            ]
          },
          "metadata": {},
          "execution_count": 188
        }
      ],
      "source": [
        "sample_array.prod(axis = 0)"
      ]
    },
    {
      "cell_type": "code",
      "execution_count": 189,
      "metadata": {
        "colab": {
          "base_uri": "https://localhost:8080/"
        },
        "id": "2APgfpurAd40",
        "outputId": "79b88aca-c0ab-4a42-be73-4396d541e87a"
      },
      "outputs": [
        {
          "output_type": "execute_result",
          "data": {
            "text/plain": [
              "array([2250, 1280,  144])"
            ]
          },
          "metadata": {},
          "execution_count": 189
        }
      ],
      "source": [
        "sample_array.prod(axis = 1)"
      ]
    },
    {
      "cell_type": "code",
      "execution_count": 190,
      "metadata": {
        "colab": {
          "base_uri": "https://localhost:8080/"
        },
        "id": "bexLK6oTAd40",
        "outputId": "54daad11-829e-481b-bb7d-2be958650e24"
      },
      "outputs": [
        {
          "output_type": "execute_result",
          "data": {
            "text/plain": [
              "13.88888888888889"
            ]
          },
          "metadata": {},
          "execution_count": 190
        }
      ],
      "source": [
        "sample_array.mean()"
      ]
    },
    {
      "cell_type": "code",
      "execution_count": 191,
      "metadata": {
        "colab": {
          "base_uri": "https://localhost:8080/"
        },
        "id": "odLOpiY2Ad40",
        "outputId": "2042f669-f130-4577-da04-a5e97031df06"
      },
      "outputs": [
        {
          "output_type": "execute_result",
          "data": {
            "text/plain": [
              "array([ 5.33333333, 14.66666667, 21.66666667])"
            ]
          },
          "metadata": {},
          "execution_count": 191
        }
      ],
      "source": [
        "sample_array.mean(axis = 0)"
      ]
    },
    {
      "cell_type": "code",
      "execution_count": 192,
      "metadata": {
        "colab": {
          "base_uri": "https://localhost:8080/"
        },
        "id": "3TxBvUiFAd40",
        "outputId": "1266ba18-0ec9-4363-a931-e2d754420411"
      },
      "outputs": [
        {
          "output_type": "execute_result",
          "data": {
            "text/plain": [
              "array([24.        , 11.33333333,  6.33333333])"
            ]
          },
          "metadata": {},
          "execution_count": 192
        }
      ],
      "source": [
        "sample_array.mean(axis = 1)"
      ]
    },
    {
      "cell_type": "markdown",
      "metadata": {
        "id": "7pygGdkJAd40"
      },
      "source": [
        "### Quiz\n",
        "Suppose you have the coordinates of two points in 3D space as follows:\n",
        "```\n",
        "point1 = np.array([-2, 3, 5])\n",
        "point2 = np.array([1, 0, -4])\n",
        "```\n",
        "Find the distance between these points using the Euclidean distance. Feel free to use a combination of operations and methods to perform this task."
      ]
    },
    {
      "cell_type": "code",
      "execution_count": 193,
      "metadata": {
        "id": "a759dzPgAd40"
      },
      "outputs": [],
      "source": [
        "##### CODE HERE #####"
      ]
    },
    {
      "cell_type": "code",
      "execution_count": 194,
      "metadata": {
        "id": "n8l4mTjs_7SO"
      },
      "outputs": [],
      "source": [
        "##### CODE HERE #####"
      ]
    },
    {
      "cell_type": "code",
      "execution_count": 195,
      "metadata": {
        "id": "_fSxJreW_7SP"
      },
      "outputs": [],
      "source": [
        "##### CODE HERE #####"
      ]
    },
    {
      "cell_type": "markdown",
      "source": [
        "# Miscellaneous Methods\n",
        "This section included operations that demonstrate a variety of NumPy functionalities."
      ],
      "metadata": {
        "id": "_xhi9IZpuwxy"
      }
    },
    {
      "cell_type": "markdown",
      "metadata": {
        "id": "scuzwVXK50zU"
      },
      "source": [
        "### Example\n",
        "Importance of `.reshape()` and `.T` or `.transpose()` methods"
      ]
    },
    {
      "cell_type": "code",
      "execution_count": 196,
      "metadata": {
        "outputId": "2a999e1b-c7d5-4f07-8016-54308f3df0b8",
        "colab": {
          "base_uri": "https://localhost:8080/"
        },
        "id": "A1uiuweA50zb"
      },
      "outputs": [
        {
          "output_type": "execute_result",
          "data": {
            "text/plain": [
              "array([[ 1,  2,  3,  4],\n",
              "       [-4, -3, -2, -1]])"
            ]
          },
          "metadata": {},
          "execution_count": 196
        }
      ],
      "source": [
        "np_arr = np.array([[1, 2, 3, 4], [-4, -3, -2, -1]])\n",
        "np_arr"
      ]
    },
    {
      "cell_type": "code",
      "execution_count": 197,
      "metadata": {
        "id": "TsgKHQDL50zb"
      },
      "outputs": [],
      "source": [
        "# np.append(np_arr, 0, axis = 0)"
      ]
    },
    {
      "cell_type": "code",
      "execution_count": 198,
      "metadata": {
        "colab": {
          "base_uri": "https://localhost:8080/"
        },
        "outputId": "74453309-4f6e-4124-e691-9b5972fddb73",
        "id": "Gcki6Ltb50zc"
      },
      "outputs": [
        {
          "output_type": "execute_result",
          "data": {
            "text/plain": [
              "array([-5,  2,  5,  7])"
            ]
          },
          "metadata": {},
          "execution_count": 198
        }
      ],
      "source": [
        "new_arr = np.array([-5, 2, 5, 7])\n",
        "new_arr"
      ]
    },
    {
      "cell_type": "code",
      "execution_count": 199,
      "metadata": {
        "id": "1qS_OX3G50zc"
      },
      "outputs": [],
      "source": [
        "# np.append(np_arr, new_arr, axis = 0)"
      ]
    },
    {
      "cell_type": "code",
      "execution_count": 200,
      "metadata": {
        "colab": {
          "base_uri": "https://localhost:8080/"
        },
        "outputId": "fdc47138-34fd-4fc1-88ac-116c4e31597c",
        "id": "wB3_oaCJ50zc"
      },
      "outputs": [
        {
          "output_type": "execute_result",
          "data": {
            "text/plain": [
              "(4,)"
            ]
          },
          "metadata": {},
          "execution_count": 200
        }
      ],
      "source": [
        "new_arr.shape"
      ]
    },
    {
      "cell_type": "code",
      "source": [
        "np_arr.shape"
      ],
      "metadata": {
        "colab": {
          "base_uri": "https://localhost:8080/"
        },
        "id": "N4QBhXGPdx6P",
        "outputId": "033b4499-a47a-4169-b927-0a6c5ad5c940"
      },
      "execution_count": 201,
      "outputs": [
        {
          "output_type": "execute_result",
          "data": {
            "text/plain": [
              "(2, 4)"
            ]
          },
          "metadata": {},
          "execution_count": 201
        }
      ]
    },
    {
      "cell_type": "markdown",
      "metadata": {
        "id": "Fe329pnr50zc"
      },
      "source": [
        "We need to use the `.reshape()` method to handle this."
      ]
    },
    {
      "cell_type": "code",
      "execution_count": 202,
      "metadata": {
        "colab": {
          "base_uri": "https://localhost:8080/"
        },
        "outputId": "3bdf2c3b-68c3-4ec3-ad77-5eb79940c59f",
        "id": "aMny3E-W50zc"
      },
      "outputs": [
        {
          "output_type": "execute_result",
          "data": {
            "text/plain": [
              "array([[-5,  2,  5,  7]])"
            ]
          },
          "metadata": {},
          "execution_count": 202
        }
      ],
      "source": [
        "new_arr.reshape(1, 4)"
      ]
    },
    {
      "cell_type": "code",
      "execution_count": 203,
      "metadata": {
        "colab": {
          "base_uri": "https://localhost:8080/"
        },
        "outputId": "c8692ab6-9f53-4cb8-b549-476093c46aa8",
        "id": "xVsGOnUb50zc"
      },
      "outputs": [
        {
          "output_type": "execute_result",
          "data": {
            "text/plain": [
              "array([-5,  2,  5,  7])"
            ]
          },
          "metadata": {},
          "execution_count": 203
        }
      ],
      "source": [
        "new_arr"
      ]
    },
    {
      "cell_type": "markdown",
      "source": [
        "Notice that reshaping is not in-place."
      ],
      "metadata": {
        "id": "ERaOu7SAd_OD"
      }
    },
    {
      "cell_type": "code",
      "execution_count": 204,
      "metadata": {
        "colab": {
          "base_uri": "https://localhost:8080/"
        },
        "outputId": "6d74e76e-002d-401b-e90c-f35871cda560",
        "id": "ebWJL63D50zc"
      },
      "outputs": [
        {
          "output_type": "execute_result",
          "data": {
            "text/plain": [
              "array([[-5,  2,  5,  7]])"
            ]
          },
          "metadata": {},
          "execution_count": 204
        }
      ],
      "source": [
        "new_arr = new_arr.reshape(1, 4)\n",
        "new_arr"
      ]
    },
    {
      "cell_type": "code",
      "execution_count": 205,
      "metadata": {
        "colab": {
          "base_uri": "https://localhost:8080/"
        },
        "outputId": "5f7ace2c-7c1e-41fe-f06c-61d397b262d8",
        "id": "6CI2x5M450zc"
      },
      "outputs": [
        {
          "output_type": "execute_result",
          "data": {
            "text/plain": [
              "(1, 4)"
            ]
          },
          "metadata": {},
          "execution_count": 205
        }
      ],
      "source": [
        "new_arr.shape"
      ]
    },
    {
      "cell_type": "code",
      "execution_count": 206,
      "metadata": {
        "colab": {
          "base_uri": "https://localhost:8080/"
        },
        "outputId": "73cda40c-143d-4d53-d3b7-258197555b1d",
        "id": "S6wo_8a_50zd"
      },
      "outputs": [
        {
          "output_type": "execute_result",
          "data": {
            "text/plain": [
              "array([[ 1,  2,  3,  4],\n",
              "       [-4, -3, -2, -1],\n",
              "       [-5,  2,  5,  7]])"
            ]
          },
          "metadata": {},
          "execution_count": 206
        }
      ],
      "source": [
        "np_arr = np.append(np_arr, new_arr, axis = 0)\n",
        "np_arr"
      ]
    },
    {
      "cell_type": "code",
      "execution_count": 207,
      "metadata": {
        "colab": {
          "base_uri": "https://localhost:8080/"
        },
        "outputId": "a77be331-959d-4de5-e8a7-86af27a52f28",
        "id": "Xg_GzDpe50zd"
      },
      "outputs": [
        {
          "output_type": "execute_result",
          "data": {
            "text/plain": [
              "(3, 4)"
            ]
          },
          "metadata": {},
          "execution_count": 207
        }
      ],
      "source": [
        "np_arr.shape"
      ]
    },
    {
      "cell_type": "code",
      "execution_count": 208,
      "metadata": {
        "colab": {
          "base_uri": "https://localhost:8080/"
        },
        "outputId": "aef2a335-c9c8-4ac0-e409-972caf0c4235",
        "id": "4ZkjVuy-50zd"
      },
      "outputs": [
        {
          "output_type": "execute_result",
          "data": {
            "text/plain": [
              "array([[ 2],\n",
              "       [-3],\n",
              "       [ 4]])"
            ]
          },
          "metadata": {},
          "execution_count": 208
        }
      ],
      "source": [
        "new_arr = np.array([[2], [-3], [4]])\n",
        "new_arr"
      ]
    },
    {
      "cell_type": "code",
      "source": [
        "new_arr.shape"
      ],
      "metadata": {
        "colab": {
          "base_uri": "https://localhost:8080/"
        },
        "id": "ISxe3gHseGQ7",
        "outputId": "3ef49108-5d30-4fdb-d9a9-aaea183e3b60"
      },
      "execution_count": 209,
      "outputs": [
        {
          "output_type": "execute_result",
          "data": {
            "text/plain": [
              "(3, 1)"
            ]
          },
          "metadata": {},
          "execution_count": 209
        }
      ]
    },
    {
      "cell_type": "code",
      "execution_count": 210,
      "metadata": {
        "outputId": "8b5023d8-91a1-412c-a650-5e1a773d9df8",
        "colab": {
          "base_uri": "https://localhost:8080/"
        },
        "id": "IUWJG8CF50zd"
      },
      "outputs": [
        {
          "output_type": "execute_result",
          "data": {
            "text/plain": [
              "array([[ 1,  2,  3,  4,  2],\n",
              "       [-4, -3, -2, -1, -3],\n",
              "       [-5,  2,  5,  7,  4]])"
            ]
          },
          "metadata": {},
          "execution_count": 210
        }
      ],
      "source": [
        "np_arr = np.append(np_arr, new_arr, axis = 1)\n",
        "np_arr"
      ]
    },
    {
      "cell_type": "code",
      "execution_count": 211,
      "metadata": {
        "colab": {
          "base_uri": "https://localhost:8080/"
        },
        "outputId": "11c396ce-8b6e-486c-8e0f-cc1542bb2fd0",
        "id": "Xs21znGT50zd"
      },
      "outputs": [
        {
          "output_type": "execute_result",
          "data": {
            "text/plain": [
              "(3, 5)"
            ]
          },
          "metadata": {},
          "execution_count": 211
        }
      ],
      "source": [
        "np_arr.shape"
      ]
    },
    {
      "cell_type": "code",
      "execution_count": 212,
      "metadata": {
        "colab": {
          "base_uri": "https://localhost:8080/"
        },
        "outputId": "1f4e3188-3f3c-4226-9691-3e798e9b41b4",
        "id": "jomugT3G50zd"
      },
      "outputs": [
        {
          "output_type": "execute_result",
          "data": {
            "text/plain": [
              "array([[ 5,  9],\n",
              "       [-4, -2],\n",
              "       [ 7,  1]])"
            ]
          },
          "metadata": {},
          "execution_count": 212
        }
      ],
      "source": [
        "new_arr = np.array([[5, 9], [-4, -2], [7, 1]])\n",
        "new_arr"
      ]
    },
    {
      "cell_type": "code",
      "source": [
        "new_arr.shape"
      ],
      "metadata": {
        "colab": {
          "base_uri": "https://localhost:8080/"
        },
        "id": "kifmLsGjeKHM",
        "outputId": "2ee7e6c4-bf3b-4025-a6d7-3fb2afa8fdc0"
      },
      "execution_count": 213,
      "outputs": [
        {
          "output_type": "execute_result",
          "data": {
            "text/plain": [
              "(3, 2)"
            ]
          },
          "metadata": {},
          "execution_count": 213
        }
      ]
    },
    {
      "cell_type": "code",
      "execution_count": 214,
      "metadata": {
        "outputId": "755dd2d9-e3b9-4e56-88be-96bc7704f56d",
        "colab": {
          "base_uri": "https://localhost:8080/"
        },
        "id": "2WIrePQS50zd"
      },
      "outputs": [
        {
          "output_type": "execute_result",
          "data": {
            "text/plain": [
              "array([[ 1,  2,  3,  4,  2,  5,  9],\n",
              "       [-4, -3, -2, -1, -3, -4, -2],\n",
              "       [-5,  2,  5,  7,  4,  7,  1]])"
            ]
          },
          "metadata": {},
          "execution_count": 214
        }
      ],
      "source": [
        "np_arr = np.append(np_arr, new_arr, axis = 1)\n",
        "np_arr"
      ]
    },
    {
      "cell_type": "code",
      "execution_count": 215,
      "metadata": {
        "colab": {
          "base_uri": "https://localhost:8080/"
        },
        "outputId": "ebc2314e-b4e4-416d-d530-47c473e6e210",
        "id": "lxdWg23m50zd"
      },
      "outputs": [
        {
          "output_type": "execute_result",
          "data": {
            "text/plain": [
              "(3, 7)"
            ]
          },
          "metadata": {},
          "execution_count": 215
        }
      ],
      "source": [
        "np_arr.shape"
      ]
    },
    {
      "cell_type": "code",
      "execution_count": 216,
      "metadata": {
        "colab": {
          "base_uri": "https://localhost:8080/"
        },
        "outputId": "f53c6e00-8977-4968-8df7-a811d36b7a30",
        "id": "RPvvB5AI50zd"
      },
      "outputs": [
        {
          "output_type": "execute_result",
          "data": {
            "text/plain": [
              "array([[ 8,  4, -3,  4, -6,  8,  0],\n",
              "       [-4,  1,  1, -5,  7, -3, -2],\n",
              "       [-5,  2, -6,  3,  3,  4,  2]])"
            ]
          },
          "metadata": {},
          "execution_count": 216
        }
      ],
      "source": [
        "new_arr = np.array([[8, 4, -3, 4, -6, 8, 0], [-4, 1, 1, -5, 7, -3, -2], [-5, 2, -6, 3, 3, 4, 2]])\n",
        "new_arr"
      ]
    },
    {
      "cell_type": "code",
      "source": [
        "new_arr.shape"
      ],
      "metadata": {
        "colab": {
          "base_uri": "https://localhost:8080/"
        },
        "id": "hl8PAhTieOWZ",
        "outputId": "51c050a3-9fba-4a74-ddb6-8306e82ae872"
      },
      "execution_count": 217,
      "outputs": [
        {
          "output_type": "execute_result",
          "data": {
            "text/plain": [
              "(3, 7)"
            ]
          },
          "metadata": {},
          "execution_count": 217
        }
      ]
    },
    {
      "cell_type": "code",
      "execution_count": 218,
      "metadata": {
        "outputId": "d918cd1a-3e09-48af-f36d-9633a45a2d5e",
        "colab": {
          "base_uri": "https://localhost:8080/"
        },
        "id": "Rk6M11tG50ze"
      },
      "outputs": [
        {
          "output_type": "execute_result",
          "data": {
            "text/plain": [
              "array([[ 1,  2,  3,  4,  2,  5,  9],\n",
              "       [-4, -3, -2, -1, -3, -4, -2],\n",
              "       [-5,  2,  5,  7,  4,  7,  1],\n",
              "       [ 8,  4, -3,  4, -6,  8,  0],\n",
              "       [-4,  1,  1, -5,  7, -3, -2],\n",
              "       [-5,  2, -6,  3,  3,  4,  2]])"
            ]
          },
          "metadata": {},
          "execution_count": 218
        }
      ],
      "source": [
        "np_arr = np.append(np_arr, new_arr, axis = 0)\n",
        "np_arr"
      ]
    },
    {
      "cell_type": "code",
      "execution_count": 219,
      "metadata": {
        "colab": {
          "base_uri": "https://localhost:8080/"
        },
        "outputId": "84a8a753-b4f7-45a7-eccc-8fbaa8c4497c",
        "id": "iBRvUGMo50ze"
      },
      "outputs": [
        {
          "output_type": "execute_result",
          "data": {
            "text/plain": [
              "(6, 7)"
            ]
          },
          "metadata": {},
          "execution_count": 219
        }
      ],
      "source": [
        "np_arr.shape"
      ]
    },
    {
      "cell_type": "markdown",
      "metadata": {
        "id": "8Ro_1Mgb50ze"
      },
      "source": [
        "You are encouraged to study the `.reshape()` method in further detail along with the `shape` attribute. The shape of an array is arguably its most important attribute which forms the basis for all operations and methods built on top of arrays.\n",
        "\n",
        "Other methods of interest here are the `.transpose()` or the `.T` method, the `.flatten()` method, and other related methods."
      ]
    },
    {
      "cell_type": "markdown",
      "metadata": {
        "id": "GWRxazqPAd41"
      },
      "source": [
        "### Example\n",
        "Rounding"
      ]
    },
    {
      "cell_type": "code",
      "execution_count": 220,
      "metadata": {
        "colab": {
          "base_uri": "https://localhost:8080/"
        },
        "id": "0uh01MTKAd41",
        "outputId": "6bf84fed-2171-4e29-a092-851e07744220"
      },
      "outputs": [
        {
          "output_type": "execute_result",
          "data": {
            "text/plain": [
              "array([ 1.56  ,  2.765 , -3.33  ,  5.102 ,  6.6464])"
            ]
          },
          "metadata": {},
          "execution_count": 220
        }
      ],
      "source": [
        "np_arr = np.array([1.56, 2.765, -3.33, 5.102, 6.6464])\n",
        "np_arr"
      ]
    },
    {
      "cell_type": "code",
      "execution_count": 221,
      "metadata": {
        "colab": {
          "base_uri": "https://localhost:8080/"
        },
        "id": "Ao-heHGwAd41",
        "outputId": "4d79c999-a605-4bf6-a878-ddfa5168f2a5"
      },
      "outputs": [
        {
          "output_type": "execute_result",
          "data": {
            "text/plain": [
              "array([ 1.56,  2.76, -3.33,  5.1 ,  6.65])"
            ]
          },
          "metadata": {},
          "execution_count": 221
        }
      ],
      "source": [
        "np_arr = np.round(a = np_arr, decimals = 2)\n",
        "np_arr"
      ]
    },
    {
      "cell_type": "code",
      "execution_count": 222,
      "metadata": {
        "colab": {
          "base_uri": "https://localhost:8080/"
        },
        "id": "3wMu16ycAd41",
        "outputId": "804302d2-0a9d-4002-be1f-89de3e19824b"
      },
      "outputs": [
        {
          "output_type": "execute_result",
          "data": {
            "text/plain": [
              "array([ 2.,  3., -3.,  5.,  7.])"
            ]
          },
          "metadata": {},
          "execution_count": 222
        }
      ],
      "source": [
        "np_arr = np.round(np_arr)\n",
        "np_arr"
      ]
    },
    {
      "cell_type": "markdown",
      "metadata": {
        "id": "-5fp616DAd42"
      },
      "source": [
        "### Example\n",
        "Generating numerical pattern arrays"
      ]
    },
    {
      "cell_type": "code",
      "execution_count": 223,
      "metadata": {
        "colab": {
          "base_uri": "https://localhost:8080/"
        },
        "id": "OBMkG4R7Ad42",
        "outputId": "5a19df98-396b-4e7a-b188-8a7111abb1bb"
      },
      "outputs": [
        {
          "output_type": "execute_result",
          "data": {
            "text/plain": [
              "array([0, 1, 2, 3, 4])"
            ]
          },
          "metadata": {},
          "execution_count": 223
        }
      ],
      "source": [
        "np.arange(start = 0, stop = 5, step = 1)"
      ]
    },
    {
      "cell_type": "markdown",
      "source": [
        "The `numpy.arange()` method is similar to Python's built-in `range()` function but returns a NumPy array instead of a list. It generates values in a given range with a specified step size."
      ],
      "metadata": {
        "id": "2b_WHQpQmnMR"
      }
    },
    {
      "cell_type": "code",
      "execution_count": 224,
      "metadata": {
        "colab": {
          "base_uri": "https://localhost:8080/"
        },
        "id": "5nW1N1pMAd42",
        "outputId": "63c46c55-af11-4db2-a134-4599d9361a76"
      },
      "outputs": [
        {
          "output_type": "execute_result",
          "data": {
            "text/plain": [
              "array([-10. ,  -9.5,  -9. ,  -8.5,  -8. ,  -7.5,  -7. ,  -6.5,  -6. ,\n",
              "        -5.5,  -5. ,  -4.5,  -4. ,  -3.5,  -3. ,  -2.5,  -2. ,  -1.5,\n",
              "        -1. ,  -0.5])"
            ]
          },
          "metadata": {},
          "execution_count": 224
        }
      ],
      "source": [
        "np.arange(-10, 0, 0.5)"
      ]
    },
    {
      "cell_type": "code",
      "execution_count": 225,
      "metadata": {
        "colab": {
          "base_uri": "https://localhost:8080/"
        },
        "id": "OWiJVNZ4Ad42",
        "outputId": "5d6b95a9-9494-453e-b639-d30885a8a87d"
      },
      "outputs": [
        {
          "output_type": "execute_result",
          "data": {
            "text/plain": [
              "array([0, 1, 2, 3, 4])"
            ]
          },
          "metadata": {},
          "execution_count": 225
        }
      ],
      "source": [
        "np.arange(0, 5)"
      ]
    },
    {
      "cell_type": "code",
      "execution_count": 226,
      "metadata": {
        "colab": {
          "base_uri": "https://localhost:8080/"
        },
        "id": "0njj2WbeAd42",
        "outputId": "a5075aa4-c9f6-487c-bfaf-04c850fd3175"
      },
      "outputs": [
        {
          "output_type": "execute_result",
          "data": {
            "text/plain": [
              "array([0.  , 0.05, 0.1 , 0.15, 0.2 , 0.25, 0.3 , 0.35, 0.4 , 0.45, 0.5 ])"
            ]
          },
          "metadata": {},
          "execution_count": 226
        }
      ],
      "source": [
        "np.arange(0, 0.55, 0.05)"
      ]
    },
    {
      "cell_type": "code",
      "execution_count": 227,
      "metadata": {
        "colab": {
          "base_uri": "https://localhost:8080/"
        },
        "id": "SBwD3FPmAd42",
        "outputId": "3ee1d8b6-bab8-456c-9fe1-1a9c55c7fa0a"
      },
      "outputs": [
        {
          "output_type": "execute_result",
          "data": {
            "text/plain": [
              "array([0., 1.])"
            ]
          },
          "metadata": {},
          "execution_count": 227
        }
      ],
      "source": [
        "np.linspace(start = 0, stop = 1, num = 2)"
      ]
    },
    {
      "cell_type": "markdown",
      "source": [
        "The `numpy.linspace()` generates a specific number of evenly spaced values over a specified range. It is useful when you want to ensure that the range includes both the start and the end values."
      ],
      "metadata": {
        "id": "xGlP8vJAm1-b"
      }
    },
    {
      "cell_type": "code",
      "execution_count": 228,
      "metadata": {
        "colab": {
          "base_uri": "https://localhost:8080/"
        },
        "id": "uA6RGkzcAd42",
        "outputId": "b28ffe7c-80ec-4af8-d454-2c07b2953e2b"
      },
      "outputs": [
        {
          "output_type": "execute_result",
          "data": {
            "text/plain": [
              "array([0.  , 0.25, 0.5 , 0.75, 1.  ])"
            ]
          },
          "metadata": {},
          "execution_count": 228
        }
      ],
      "source": [
        "np.linspace(start = 0, stop = 1, num = 5)"
      ]
    },
    {
      "cell_type": "code",
      "execution_count": 229,
      "metadata": {
        "colab": {
          "base_uri": "https://localhost:8080/"
        },
        "id": "hzgtEi0UAd42",
        "outputId": "113fdaae-10da-463b-9670-c9b5c2ecb1af"
      },
      "outputs": [
        {
          "output_type": "execute_result",
          "data": {
            "text/plain": [
              "array([0.        , 0.02040816, 0.04081633, 0.06122449, 0.08163265,\n",
              "       0.10204082, 0.12244898, 0.14285714, 0.16326531, 0.18367347,\n",
              "       0.20408163, 0.2244898 , 0.24489796, 0.26530612, 0.28571429,\n",
              "       0.30612245, 0.32653061, 0.34693878, 0.36734694, 0.3877551 ,\n",
              "       0.40816327, 0.42857143, 0.44897959, 0.46938776, 0.48979592,\n",
              "       0.51020408, 0.53061224, 0.55102041, 0.57142857, 0.59183673,\n",
              "       0.6122449 , 0.63265306, 0.65306122, 0.67346939, 0.69387755,\n",
              "       0.71428571, 0.73469388, 0.75510204, 0.7755102 , 0.79591837,\n",
              "       0.81632653, 0.83673469, 0.85714286, 0.87755102, 0.89795918,\n",
              "       0.91836735, 0.93877551, 0.95918367, 0.97959184, 1.        ])"
            ]
          },
          "metadata": {},
          "execution_count": 229
        }
      ],
      "source": [
        "np.linspace(start = 0, stop = 1, num = 50)"
      ]
    },
    {
      "cell_type": "code",
      "execution_count": 230,
      "metadata": {
        "colab": {
          "base_uri": "https://localhost:8080/"
        },
        "id": "nMW2V0pQAd42",
        "outputId": "18b9840a-fbaf-4891-94c8-b4550d20dc8e"
      },
      "outputs": [
        {
          "output_type": "execute_result",
          "data": {
            "text/plain": [
              "array([0.  , 0.02, 0.04, 0.06, 0.08, 0.1 , 0.12, 0.14, 0.16, 0.18, 0.2 ,\n",
              "       0.22, 0.24, 0.26, 0.28, 0.3 , 0.32, 0.34, 0.36, 0.38, 0.4 , 0.42,\n",
              "       0.44, 0.46, 0.48, 0.5 , 0.52, 0.54, 0.56, 0.58, 0.6 , 0.62, 0.64,\n",
              "       0.66, 0.68, 0.7 , 0.72, 0.74, 0.76, 0.78, 0.8 , 0.82, 0.84, 0.86,\n",
              "       0.88, 0.9 , 0.92, 0.94, 0.96, 0.98, 1.  ])"
            ]
          },
          "metadata": {},
          "execution_count": 230
        }
      ],
      "source": [
        "np.linspace(start = 0, stop = 1, num = 51)"
      ]
    },
    {
      "cell_type": "markdown",
      "metadata": {
        "id": "K4Bvh8FlAd43"
      },
      "source": [
        "### Quiz\n",
        "Define a function called `show_ap()` that takes in the first term and the common difference of an arithmetic progression and prints the first $n$ terms of the sequence.\n",
        "\n",
        "Here is a test case to help you out:\n",
        "> The output of `show_ap(5, 3, 6)` should be `np.array([5, 8, 11, 14, 17, 20])`."
      ]
    },
    {
      "cell_type": "code",
      "execution_count": 231,
      "metadata": {
        "id": "KeYNnj2YAd43"
      },
      "outputs": [],
      "source": [
        "##### CODE HERE #####"
      ]
    },
    {
      "cell_type": "markdown",
      "metadata": {
        "id": "XUHNnFT9Ad43"
      },
      "source": [
        "### Example\n",
        "Random number generation"
      ]
    },
    {
      "cell_type": "code",
      "execution_count": 232,
      "metadata": {
        "colab": {
          "base_uri": "https://localhost:8080/"
        },
        "id": "o82vMHKhAd43",
        "outputId": "ba08501f-6e49-4221-f2f8-f770fdfb5c10"
      },
      "outputs": [
        {
          "output_type": "execute_result",
          "data": {
            "text/plain": [
              "array([2, 1, 1, 3, 2, 1, 3, 1, 1, 3])"
            ]
          },
          "metadata": {},
          "execution_count": 232
        }
      ],
      "source": [
        "np.random.randint(low = 1, high = 5, size = 10)"
      ]
    },
    {
      "cell_type": "code",
      "execution_count": 233,
      "metadata": {
        "colab": {
          "base_uri": "https://localhost:8080/"
        },
        "id": "aKMnM_TiAd44",
        "outputId": "8ea01bf1-1982-472f-eaab-ebb23949fb50"
      },
      "outputs": [
        {
          "output_type": "execute_result",
          "data": {
            "text/plain": [
              "array([14])"
            ]
          },
          "metadata": {},
          "execution_count": 233
        }
      ],
      "source": [
        "np.random.randint(low = -10, high = 16, size = 1)"
      ]
    },
    {
      "cell_type": "code",
      "execution_count": 234,
      "metadata": {
        "colab": {
          "base_uri": "https://localhost:8080/"
        },
        "id": "25cerd5LAd44",
        "outputId": "182a07e3-b471-4e0a-d89b-13f1dcf3d2d6"
      },
      "outputs": [
        {
          "output_type": "execute_result",
          "data": {
            "text/plain": [
              "0.32699475635873787"
            ]
          },
          "metadata": {},
          "execution_count": 234
        }
      ],
      "source": [
        "np.random.rand()"
      ]
    },
    {
      "cell_type": "code",
      "execution_count": 235,
      "metadata": {
        "colab": {
          "base_uri": "https://localhost:8080/"
        },
        "id": "iNWLwVPEAd44",
        "outputId": "7e873390-7538-47b4-f40d-8f30155af3db"
      },
      "outputs": [
        {
          "output_type": "execute_result",
          "data": {
            "text/plain": [
              "array([[0.22759433, 0.56946222, 0.75455709],\n",
              "       [0.4625302 , 0.97722661, 0.11742942]])"
            ]
          },
          "metadata": {},
          "execution_count": 235
        }
      ],
      "source": [
        "np.random.rand(2, 3)"
      ]
    },
    {
      "cell_type": "code",
      "execution_count": 236,
      "metadata": {
        "colab": {
          "base_uri": "https://localhost:8080/"
        },
        "id": "pwb5DB-pAd44",
        "outputId": "57f4e77b-7640-4120-9947-55247c2efde5"
      },
      "outputs": [
        {
          "output_type": "execute_result",
          "data": {
            "text/plain": [
              "array([[0.59975315, 0.90995785],\n",
              "       [0.88584981, 0.70828871],\n",
              "       [0.52620628, 0.63576759],\n",
              "       [0.60693562, 0.39796215]])"
            ]
          },
          "metadata": {},
          "execution_count": 236
        }
      ],
      "source": [
        "np.random.rand(4, 2)"
      ]
    },
    {
      "cell_type": "markdown",
      "metadata": {
        "id": "HR_IzAAw_7Sq"
      },
      "source": [
        "The random number generation methods within NumPy are vast and many. You are encouraged to explore this further on your own. You will also study distributions in greater detail later."
      ]
    },
    {
      "cell_type": "markdown",
      "metadata": {
        "id": "7fyaUPj1Ad44"
      },
      "source": [
        "### Example\n",
        "Maximum and minimum values"
      ]
    },
    {
      "cell_type": "code",
      "execution_count": 237,
      "metadata": {
        "colab": {
          "base_uri": "https://localhost:8080/"
        },
        "id": "M6T0f_j8Ad44",
        "outputId": "510cf41b-e950-4857-ce79-8eb1e536ecf0"
      },
      "outputs": [
        {
          "output_type": "execute_result",
          "data": {
            "text/plain": [
              "array([[ 0, 25, 45],\n",
              "       [10, 16,  8],\n",
              "       [ 4,  2, 12]])"
            ]
          },
          "metadata": {},
          "execution_count": 237
        }
      ],
      "source": [
        "monthly_rates = np.array([[0, 25, 45], [10, 16, 8], [4, 2, 12]])\n",
        "monthly_rates"
      ]
    },
    {
      "cell_type": "code",
      "execution_count": 238,
      "metadata": {
        "colab": {
          "base_uri": "https://localhost:8080/"
        },
        "id": "PY0CY37LAd44",
        "outputId": "22c4d82a-7070-4815-c9fc-ba6b4c9ea6e0"
      },
      "outputs": [
        {
          "output_type": "execute_result",
          "data": {
            "text/plain": [
              "45"
            ]
          },
          "metadata": {},
          "execution_count": 238
        }
      ],
      "source": [
        "monthly_rates.max()"
      ]
    },
    {
      "cell_type": "code",
      "execution_count": 239,
      "metadata": {
        "colab": {
          "base_uri": "https://localhost:8080/"
        },
        "id": "kGMROgXPAd45",
        "outputId": "14bf8e10-0911-48d0-d0e7-9cb30744f8d5"
      },
      "outputs": [
        {
          "output_type": "execute_result",
          "data": {
            "text/plain": [
              "0"
            ]
          },
          "metadata": {},
          "execution_count": 239
        }
      ],
      "source": [
        "monthly_rates.min()"
      ]
    },
    {
      "cell_type": "code",
      "execution_count": 240,
      "metadata": {
        "id": "Yd6-tNe5_7Sx",
        "outputId": "fed57ccb-4c6c-44d5-e46e-efa00adee5d3",
        "colab": {
          "base_uri": "https://localhost:8080/"
        }
      },
      "outputs": [
        {
          "output_type": "execute_result",
          "data": {
            "text/plain": [
              "0"
            ]
          },
          "metadata": {},
          "execution_count": 240
        }
      ],
      "source": [
        "monthly_rates[0].min()"
      ]
    },
    {
      "cell_type": "code",
      "execution_count": 241,
      "metadata": {
        "id": "OzqEPCf4_7Sy",
        "outputId": "2e200357-de46-493e-9970-ffb2513010b5",
        "colab": {
          "base_uri": "https://localhost:8080/"
        }
      },
      "outputs": [
        {
          "output_type": "execute_result",
          "data": {
            "text/plain": [
              "25"
            ]
          },
          "metadata": {},
          "execution_count": 241
        }
      ],
      "source": [
        "monthly_rates[:, 1].max()"
      ]
    },
    {
      "cell_type": "code",
      "execution_count": 242,
      "metadata": {
        "colab": {
          "base_uri": "https://localhost:8080/"
        },
        "id": "-1Zy_stIAd45",
        "outputId": "b3c9e22b-774b-42e5-e37d-269808f25df4"
      },
      "outputs": [
        {
          "output_type": "execute_result",
          "data": {
            "text/plain": [
              "array([10, 25, 45])"
            ]
          },
          "metadata": {},
          "execution_count": 242
        }
      ],
      "source": [
        "monthly_rates.max(axis = 0)"
      ]
    },
    {
      "cell_type": "code",
      "execution_count": 243,
      "metadata": {
        "colab": {
          "base_uri": "https://localhost:8080/"
        },
        "id": "lhZOPsSNAd45",
        "outputId": "0e79c540-7408-4483-f4ac-6bc1d79840d9"
      },
      "outputs": [
        {
          "output_type": "execute_result",
          "data": {
            "text/plain": [
              "array([0, 8, 2])"
            ]
          },
          "metadata": {},
          "execution_count": 243
        }
      ],
      "source": [
        "monthly_rates.min(axis = 1)"
      ]
    },
    {
      "cell_type": "code",
      "execution_count": 244,
      "metadata": {
        "id": "mkiN3CQA_7S1",
        "outputId": "58cdcef0-f0b3-4edd-d08c-3072dabb49f7",
        "colab": {
          "base_uri": "https://localhost:8080/"
        }
      },
      "outputs": [
        {
          "output_type": "execute_result",
          "data": {
            "text/plain": [
              "array([[ 0, 25, 45],\n",
              "       [10, 16,  8],\n",
              "       [ 4,  2, 12]])"
            ]
          },
          "metadata": {},
          "execution_count": 244
        }
      ],
      "source": [
        "monthly_rates"
      ]
    },
    {
      "cell_type": "code",
      "execution_count": 245,
      "metadata": {
        "id": "9th5FzAw_7S1",
        "outputId": "1fb76ba0-6a71-40ec-bdf9-276b0ce43882",
        "colab": {
          "base_uri": "https://localhost:8080/"
        }
      },
      "outputs": [
        {
          "output_type": "execute_result",
          "data": {
            "text/plain": [
              "2"
            ]
          },
          "metadata": {},
          "execution_count": 245
        }
      ],
      "source": [
        "np.argmax(monthly_rates)"
      ]
    },
    {
      "cell_type": "code",
      "execution_count": 246,
      "metadata": {
        "id": "yI7DpxWP_7S2",
        "outputId": "c8d49c4a-e759-428f-b812-fbbe80d9961a",
        "colab": {
          "base_uri": "https://localhost:8080/"
        }
      },
      "outputs": [
        {
          "output_type": "execute_result",
          "data": {
            "text/plain": [
              "array([0, 2, 1])"
            ]
          },
          "metadata": {},
          "execution_count": 246
        }
      ],
      "source": [
        "np.argmin(monthly_rates, axis = 0)"
      ]
    },
    {
      "cell_type": "code",
      "execution_count": 247,
      "metadata": {
        "id": "wIUrPaGH_7S2",
        "outputId": "cc43c427-9c92-4b17-e20c-62b5efd218bf",
        "colab": {
          "base_uri": "https://localhost:8080/"
        }
      },
      "outputs": [
        {
          "output_type": "execute_result",
          "data": {
            "text/plain": [
              "array([2, 1, 2])"
            ]
          },
          "metadata": {},
          "execution_count": 247
        }
      ],
      "source": [
        "np.argmax(monthly_rates, axis = 1)"
      ]
    },
    {
      "cell_type": "markdown",
      "metadata": {
        "id": "zWNsWu8pAd46"
      },
      "source": [
        "### Example\n",
        "Mathematical constants"
      ]
    },
    {
      "cell_type": "code",
      "execution_count": 248,
      "metadata": {
        "colab": {
          "base_uri": "https://localhost:8080/"
        },
        "id": "3pERc0tHAd46",
        "outputId": "c22dca3c-0cca-43fb-dbef-1d3cf2df3574"
      },
      "outputs": [
        {
          "output_type": "execute_result",
          "data": {
            "text/plain": [
              "3.141592653589793"
            ]
          },
          "metadata": {},
          "execution_count": 248
        }
      ],
      "source": [
        "np.pi"
      ]
    },
    {
      "cell_type": "code",
      "execution_count": 249,
      "metadata": {
        "colab": {
          "base_uri": "https://localhost:8080/"
        },
        "id": "yB0AKD6QAd46",
        "outputId": "2ddd84c2-f023-489c-b412-24473c0036c8"
      },
      "outputs": [
        {
          "output_type": "execute_result",
          "data": {
            "text/plain": [
              "2.718281828459045"
            ]
          },
          "metadata": {},
          "execution_count": 249
        }
      ],
      "source": [
        "np.e"
      ]
    },
    {
      "cell_type": "code",
      "execution_count": 250,
      "metadata": {
        "colab": {
          "base_uri": "https://localhost:8080/"
        },
        "id": "q_4A9ruCAd46",
        "outputId": "ab1dd1ff-4901-4f64-a22a-5312e9e3d98e"
      },
      "outputs": [
        {
          "output_type": "execute_result",
          "data": {
            "text/plain": [
              "nan"
            ]
          },
          "metadata": {},
          "execution_count": 250
        }
      ],
      "source": [
        "np.nan"
      ]
    },
    {
      "cell_type": "markdown",
      "metadata": {
        "id": "hDukZeQnAd47"
      },
      "source": [
        "In this section, we looked at some basic and important operations involving NumPy arrays, such as mathematical and statistical operations. Another thing to note is that NumPy does offer a `numpy.matrix()` class, but `numpy.array()` does everything that `numpy.matrix()` does and more, so it is the more popular choice. To learn more about `numpy.matrix()`, you can checkout the offical documentation [link](https://https://numpy.org/doc/stable/reference/generated/numpy.matrix.html)."
      ]
    }
  ],
  "metadata": {
    "colab": {
      "provenance": [],
      "toc_visible": true
    },
    "kernelspec": {
      "display_name": "Python 3 (ipykernel)",
      "language": "python",
      "name": "python3"
    },
    "language_info": {
      "codemirror_mode": {
        "name": "ipython",
        "version": 3
      },
      "file_extension": ".py",
      "mimetype": "text/x-python",
      "name": "python",
      "nbconvert_exporter": "python",
      "pygments_lexer": "ipython3",
      "version": "3.11.4"
    }
  },
  "nbformat": 4,
  "nbformat_minor": 0
}