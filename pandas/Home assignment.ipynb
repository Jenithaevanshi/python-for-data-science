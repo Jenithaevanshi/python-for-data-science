{
 "cells": [
  {
   "cell_type": "code",
   "execution_count": null,
   "id": "e72b8ff2-5f2c-4e09-9eaf-3251e9424bcc",
   "metadata": {},
   "outputs": [],
   "source": [
    "### `1.` Create an array of integers from 25 to 2 with step of -2"
   ]
  },
  {
   "cell_type": "code",
   "execution_count": 3,
   "id": "7966bf70-6389-49e8-9527-3e6ef3bab52a",
   "metadata": {},
   "outputs": [
    {
     "data": {
      "text/plain": [
       "array([25, 23, 21, 19, 17, 15, 13, 11,  9,  7,  5,  3])"
      ]
     },
     "execution_count": 3,
     "metadata": {},
     "output_type": "execute_result"
    }
   ],
   "source": [
    "import numpy as np\n",
    "arr=np.arange(25,1,-2)\n",
    "arr"
   ]
  },
  {
   "cell_type": "code",
   "execution_count": null,
   "id": "984805d4-2bd1-4ff3-8fff-08b91ed0f3c0",
   "metadata": {},
   "outputs": [],
   "source": [
    "### `2.` Find the minium value along each of the rows."
   ]
  },
  {
   "cell_type": "code",
   "execution_count": 5,
   "id": "dca7ed21-f387-496d-aaee-9f31479d9934",
   "metadata": {},
   "outputs": [],
   "source": [
    "num_array = np.random.randint(100, 200,12).reshape(4,3)"
   ]
  },
  {
   "cell_type": "code",
   "execution_count": 7,
   "id": "e6fcdfac-6786-4e4b-850d-1d1be2b0dc02",
   "metadata": {},
   "outputs": [
    {
     "data": {
      "text/plain": [
       "array([[186, 111, 148],\n",
       "       [103, 136, 199],\n",
       "       [194, 193, 193],\n",
       "       [107, 121, 175]])"
      ]
     },
     "execution_count": 7,
     "metadata": {},
     "output_type": "execute_result"
    }
   ],
   "source": [
    "num_array"
   ]
  },
  {
   "cell_type": "code",
   "execution_count": 31,
   "id": "15b5abe7-451e-42a7-897d-801ce672ad63",
   "metadata": {},
   "outputs": [
    {
     "name": "stdout",
     "output_type": "stream",
     "text": [
      "[111 103 193 107]\n"
     ]
    }
   ],
   "source": [
    "# Find the minimum along each row\n",
    "row_minima = np.min(num_array, axis=1)\n",
    "\n",
    "print(row_minima)\n"
   ]
  },
  {
   "cell_type": "code",
   "execution_count": null,
   "id": "932b4715-43a2-464c-8faa-69028cad8722",
   "metadata": {},
   "outputs": [],
   "source": [
    "### `3.` Replace all odd number in the array with -2 (Create an array by yoursefl)"
   ]
  },
  {
   "cell_type": "code",
   "execution_count": 53,
   "id": "cff62700-4c8e-47ef-a2e0-34187ac1f136",
   "metadata": {},
   "outputs": [
    {
     "name": "stdout",
     "output_type": "stream",
     "text": [
      "[-2  2 -2  4 -2  6 -2  8 -2 10 -2 12 -2 14 -2 16 -2 18 -2 20 -2 22 -2 24]\n"
     ]
    },
    {
     "data": {
      "text/plain": [
       "24"
      ]
     },
     "execution_count": 53,
     "metadata": {},
     "output_type": "execute_result"
    }
   ],
   "source": [
    "custom_array=np.arange(1,25)\n",
    "custom_array\n",
    "# Replace odd numbers with -2\n",
    "custom_array[custom_array % 2 != 0] = -2\n",
    "print(custom_array)\n"
   ]
  },
  {
   "cell_type": "code",
   "execution_count": null,
   "id": "69d4c7f3-867c-4f38-b801-f98d048d6c0b",
   "metadata": {},
   "outputs": [],
   "source": [
    "### `4.` Stack two array vertically (Create an array by yourself)"
   ]
  },
  {
   "cell_type": "code",
   "execution_count": 65,
   "id": "eb0fe99d-a555-465c-8998-fd1514a59014",
   "metadata": {},
   "outputs": [
    {
     "name": "stdout",
     "output_type": "stream",
     "text": [
      "[[17  2 12]\n",
      " [14 16  1]]\n",
      "[[16 16 15]\n",
      " [16 19 13]]\n",
      "the vertically stacked array is:\n",
      "[[17  2 12]\n",
      " [14 16  1]\n",
      " [16 16 15]\n",
      " [16 19 13]]\n"
     ]
    }
   ],
   "source": [
    "import numpy as np\n",
    "\n",
    "# Create random arrays\n",
    "array1 = np.random.randint(1, 20, size=(2, 3))\n",
    "array2 = np.random.randint(10, 20, size=(2, 3))\n",
    "stacked_array = np.vstack((array1, array2))\n",
    "print(array1)\n",
    "print(array2)\n",
    "print(\"the vertically stacked array is:\")\n",
    "print(stacked_array)"
   ]
  },
  {
   "cell_type": "code",
   "execution_count": null,
   "id": "ee08bf5b-fedb-4ef8-9454-88cb5679e934",
   "metadata": {},
   "outputs": [],
   "source": [
    "### `5.` Remove all the elements from first array that are present in second array."
   ]
  },
  {
   "cell_type": "code",
   "execution_count": 81,
   "id": "57b570d1-4ecd-4ffe-b9a1-1f7bc6e3ba82",
   "metadata": {},
   "outputs": [
    {
     "name": "stdout",
     "output_type": "stream",
     "text": [
      "Array 1: [1 2 3 4 5 6]\n",
      "Array 2: [2 4 6]\n",
      "Result after removal: [1 3 5]\n"
     ]
    }
   ],
   "source": [
    "import numpy as np\n",
    "\n",
    "# Create two arrays (example)\n",
    "array1 = np.array([1, 2, 3, 4, 5, 6])\n",
    "array2 = np.array([2, 4, 6])\n",
    "\n",
    "# Remove elements of array2 from array1\n",
    "result = np.setdiff1d(array1, array2)\n",
    "\n",
    "print(\"Array 1:\", array1)\n",
    "print(\"Array 2:\", array2)\n",
    "print(\"Result after removal:\", result)"
   ]
  },
  {
   "cell_type": "code",
   "execution_count": null,
   "id": "87390271-059e-4bd2-90b8-f7c65953a951",
   "metadata": {},
   "outputs": [],
   "source": [
    "### `6.` Get the position where elements of two arrays match"
   ]
  },
  {
   "cell_type": "code",
   "execution_count": 83,
   "id": "bef1680f-37f4-4341-8446-7a92aeeb6178",
   "metadata": {},
   "outputs": [
    {
     "name": "stdout",
     "output_type": "stream",
     "text": [
      "Array 1: [1 2 3 4 5]\n",
      "Array 2: [5 2 3 8 1]\n",
      "Matching indices: [1 2]\n"
     ]
    }
   ],
   "source": [
    "import numpy as np\n",
    "\n",
    "# Create two arrays (example)\n",
    "array1 = np.array([1, 2, 3, 4, 5])\n",
    "array2 = np.array([5, 2, 3, 8, 1])\n",
    "\n",
    "# Find positions where elements match\n",
    "matching_indices = np.where(array1 == array2)[0]\n",
    "\n",
    "print(\"Array 1:\", array1)\n",
    "print(\"Array 2:\", array2)\n",
    "print(\"Matching indices:\", matching_indices)"
   ]
  },
  {
   "cell_type": "code",
   "execution_count": null,
   "id": "b259f755-ea23-4868-9eba-7bbd078ae076",
   "metadata": {},
   "outputs": [],
   "source": [
    "### `7.` Reverse each of the rows of the 2D array"
   ]
  },
  {
   "cell_type": "code",
   "execution_count": 93,
   "id": "3c440eaa-64dc-4ad6-b449-78045cf804c4",
   "metadata": {},
   "outputs": [
    {
     "name": "stdout",
     "output_type": "stream",
     "text": [
      "Original array:\n",
      "[[1 2 3]\n",
      " [4 5 6]]\n",
      "\n",
      "Reversed rows:\n",
      "[[3 2 1]\n",
      " [6 5 4]]\n"
     ]
    }
   ],
   "source": [
    "import numpy as np\n",
    "\n",
    "arr = np.arange(1,7).reshape(2,3)\n",
    "print(\"Original array:\")\n",
    "print(arr)\n",
    "\n",
    "# Reverse each row\n",
    "reverse_rows = arr[:, ::-1]  # Correct way\n",
    "\n",
    "print(\"\\nReversed rows:\")\n",
    "print(reverse_rows)"
   ]
  },
  {
   "cell_type": "code",
   "execution_count": null,
   "id": "76193a75-ef53-4a4b-86a3-f87e820088b3",
   "metadata": {},
   "outputs": [],
   "source": [
    "### `8.` Swap row 1 and row2 in given array"
   ]
  },
  {
   "cell_type": "code",
   "execution_count": 97,
   "id": "4d9e4a09-e8dc-4b22-b307-3659666e32a7",
   "metadata": {},
   "outputs": [
    {
     "data": {
      "text/plain": [
       "array([[0, 1, 2],\n",
       "       [3, 4, 5],\n",
       "       [6, 7, 8]])"
      ]
     },
     "execution_count": 97,
     "metadata": {},
     "output_type": "execute_result"
    }
   ],
   "source": [
    "num_array = np.arange(9).reshape(3,3)\n",
    "num_array"
   ]
  },
  {
   "cell_type": "code",
   "execution_count": 99,
   "id": "d08797cc-41ea-493b-ac9e-f657ba8a8de1",
   "metadata": {},
   "outputs": [
    {
     "name": "stdout",
     "output_type": "stream",
     "text": [
      "\n",
      "Array after swapping Row 1 and Row 2:\n",
      "[[0 1 2]\n",
      " [6 7 8]\n",
      " [3 4 5]]\n"
     ]
    }
   ],
   "source": [
    "# Swap Row 1 and Row 2\n",
    "num_array[[1, 2]] = num_array[[2, 1]]\n",
    "\n",
    "print(\"\\nArray after swapping Row 1 and Row 2:\")\n",
    "print(num_array)"
   ]
  },
  {
   "cell_type": "code",
   "execution_count": null,
   "id": "33bc6245-3668-4d6c-89a8-7b3b08f0c61b",
   "metadata": {},
   "outputs": [],
   "source": [
    "### `9.` WAP to add a new column ([10,11]) at the last position in the array given below."
   ]
  },
  {
   "cell_type": "code",
   "execution_count": null,
   "id": "190a2e79-e8df-4951-92e7-57df9327e9e9",
   "metadata": {},
   "outputs": [],
   "source": [
    "arra = [[[3,4],[4,5],[7,8],[5,6]]]"
   ]
  },
  {
   "cell_type": "code",
   "execution_count": null,
   "id": "59146162-a149-4eb1-94f2-d5a74bc17e42",
   "metadata": {},
   "outputs": [],
   "source": []
  },
  {
   "cell_type": "code",
   "execution_count": null,
   "id": "e475c2bf-1a62-49b9-bd96-1e73bbb23089",
   "metadata": {},
   "outputs": [],
   "source": [
    "### `10.` How to combine the two array horizontally. Create any two array with 2D."
   ]
  },
  {
   "cell_type": "code",
   "execution_count": null,
   "id": "75fa693e-815b-4f9e-b652-d8465658adef",
   "metadata": {},
   "outputs": [],
   "source": [
    "\n",
    "\n",
    "\n",
    "import numpy as np\n",
    "\n",
    "\n",
    "\n",
    "#data for student performance\n",
    "\n",
    "modules_completed = np.array([12, 15, 18, 20, 14, 16, 22, 10, 13, 17, 19, 21, 14, 12, 16, 18, 20, 14, 16, 19])\n",
    "\n",
    "quiz_scores = np.array([85, 90, 78, 92, 88, 76, 95, 80, 89, 94, 81, 87, 93, 79, 91, 84, 88, 75, 82, 96])\n",
    "#count=np.sum(modules_completed>15)\n",
    "#print(count)\n",
    "#avg=np.mean(quiz_scores)\n",
    "#print(avg)\n",
    "#What percentage of students scored below 80 in the quiz?\n",
    "below_quiz=np.percentage(quiz_scores<80)\n",
    "print(below_quiz)"
   ]
  },
  {
   "cell_type": "code",
   "execution_count": null,
   "id": "ec194aaa-ce28-4fc2-bd3b-4da55d777c7f",
   "metadata": {},
   "outputs": [],
   "source": []
  }
 ],
 "metadata": {
  "kernelspec": {
   "display_name": "Python [conda env:base] *",
   "language": "python",
   "name": "conda-base-py"
  },
  "language_info": {
   "codemirror_mode": {
    "name": "ipython",
    "version": 3
   },
   "file_extension": ".py",
   "mimetype": "text/x-python",
   "name": "python",
   "nbconvert_exporter": "python",
   "pygments_lexer": "ipython3",
   "version": "3.12.7"
  }
 },
 "nbformat": 4,
 "nbformat_minor": 5
}
