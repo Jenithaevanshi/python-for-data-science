{
 "cells": [
  {
   "cell_type": "markdown",
   "id": "jp_nhSojr209",
   "metadata": {
    "id": "jp_nhSojr209"
   },
   "source": [
    "#Titanic Survival"
   ]
  },
  {
   "cell_type": "markdown",
   "id": "eJ1M2c5OqcGl",
   "metadata": {
    "id": "eJ1M2c5OqcGl"
   },
   "source": [
    "# Problem Statement\n",
    "\n",
    "The dataset includes various types of features that can be categorised into demographic (e.g., Age, Sex), social (e.g., SibSp, Parch), and economic indicators (e.g., Pclass, Fare, Embarked). Perform a univariate analysis of the Titanic dataset to explore the individual characteristics of passengers, such as age distribution, passenger class composition, gender ratio, and survival rates. The objective is to understand the general patterns and trends within each variable."
   ]
  },
  {
   "cell_type": "markdown",
   "id": "e9bBdsN2LyHM",
   "metadata": {
    "id": "e9bBdsN2LyHM"
   },
   "source": [
    "Key Variables for Analysis:\n",
    "\n",
    "Dependent Variable:\n",
    "- Survived (whether a passenger survived or not)\n",
    "\n",
    "Independent Variables:\n",
    "- Pclass (Passenger class: socio-economic status)\n",
    "- Sex (Gender)\n",
    "- Age\n",
    "- SibSp (Number of siblings/spouses aboard)\n",
    "- Parch (Number of parents/children aboard)\n",
    "- Fare\n",
    "- Embarked (Port of embarkation)"
   ]
  },
  {
   "cell_type": "markdown",
   "id": "2TJMQbkoh_6e",
   "metadata": {
    "id": "2TJMQbkoh_6e"
   },
   "source": [
    "###Assessing structure of the dataset"
   ]
  },
  {
   "cell_type": "code",
   "execution_count": 1,
   "id": "87cc5090",
   "metadata": {
    "id": "87cc5090"
   },
   "outputs": [],
   "source": [
    "import numpy as np\n",
    "import pandas as pd\n",
    "\n",
    "import matplotlib.pyplot as plt\n",
    "import seaborn as sns\n",
    "\n",
    "import warnings\n",
    "warnings.filterwarnings(action=\"ignore\")"
   ]
  },
  {
   "cell_type": "code",
   "execution_count": 3,
   "id": "820f2717",
   "metadata": {
    "_cell_guid": "cc67b041-a52d-461d-9039-d28e182d94fa",
    "_uuid": "dd06df984ddcd00c3a2b4e97a844794407088489",
    "id": "820f2717",
    "scrolled": true
   },
   "outputs": [],
   "source": [
    "df=pd.read_csv('titanic_dataset.csv')"
   ]
  },
  {
   "cell_type": "code",
   "execution_count": 5,
   "id": "8888bb09",
   "metadata": {
    "_cell_guid": "3fdca55c-7dcb-4eb0-b7da-b140f943a646",
    "_uuid": "d195d7ce719c98f9fd27398fda67f09c48d4e035",
    "colab": {
     "base_uri": "https://localhost:8080/"
    },
    "id": "8888bb09",
    "outputId": "33f88e6d-9041-485f-f6cf-235be7a39c67"
   },
   "outputs": [
    {
     "data": {
      "text/plain": [
       "(891, 12)"
      ]
     },
     "execution_count": 5,
     "metadata": {},
     "output_type": "execute_result"
    }
   ],
   "source": [
    "df.shape"
   ]
  },
  {
   "cell_type": "code",
   "execution_count": 7,
   "id": "7637ed75",
   "metadata": {
    "_cell_guid": "9f87a7d4-11a6-47d7-a604-8fc6e4963a14",
    "_uuid": "92f7bbb6010c4f1d6b32b00750cd9ea7555cea38",
    "colab": {
     "base_uri": "https://localhost:8080/",
     "height": 921
    },
    "id": "7637ed75",
    "outputId": "08b8f6f8-dde4-4b3c-d9bc-d0479c2610e0",
    "scrolled": true
   },
   "outputs": [
    {
     "data": {
      "text/html": [
       "<div>\n",
       "<style scoped>\n",
       "    .dataframe tbody tr th:only-of-type {\n",
       "        vertical-align: middle;\n",
       "    }\n",
       "\n",
       "    .dataframe tbody tr th {\n",
       "        vertical-align: top;\n",
       "    }\n",
       "\n",
       "    .dataframe thead th {\n",
       "        text-align: right;\n",
       "    }\n",
       "</style>\n",
       "<table border=\"1\" class=\"dataframe\">\n",
       "  <thead>\n",
       "    <tr style=\"text-align: right;\">\n",
       "      <th></th>\n",
       "      <th>PassengerId</th>\n",
       "      <th>Survived</th>\n",
       "      <th>Pclass</th>\n",
       "      <th>Name</th>\n",
       "      <th>Sex</th>\n",
       "      <th>Age</th>\n",
       "      <th>SibSp</th>\n",
       "      <th>Parch</th>\n",
       "      <th>Ticket</th>\n",
       "      <th>Fare</th>\n",
       "      <th>Cabin</th>\n",
       "      <th>Embarked</th>\n",
       "    </tr>\n",
       "  </thead>\n",
       "  <tbody>\n",
       "    <tr>\n",
       "      <th>0</th>\n",
       "      <td>1</td>\n",
       "      <td>0</td>\n",
       "      <td>3</td>\n",
       "      <td>Braund, Mr. Owen Harris</td>\n",
       "      <td>male</td>\n",
       "      <td>22.0</td>\n",
       "      <td>1</td>\n",
       "      <td>0</td>\n",
       "      <td>A/5 21171</td>\n",
       "      <td>7.2500</td>\n",
       "      <td>NaN</td>\n",
       "      <td>S</td>\n",
       "    </tr>\n",
       "    <tr>\n",
       "      <th>1</th>\n",
       "      <td>2</td>\n",
       "      <td>1</td>\n",
       "      <td>1</td>\n",
       "      <td>Cumings, Mrs. John Bradley (Florence Briggs Th...</td>\n",
       "      <td>female</td>\n",
       "      <td>38.0</td>\n",
       "      <td>1</td>\n",
       "      <td>0</td>\n",
       "      <td>PC 17599</td>\n",
       "      <td>71.2833</td>\n",
       "      <td>C85</td>\n",
       "      <td>C</td>\n",
       "    </tr>\n",
       "    <tr>\n",
       "      <th>2</th>\n",
       "      <td>3</td>\n",
       "      <td>1</td>\n",
       "      <td>3</td>\n",
       "      <td>Heikkinen, Miss. Laina</td>\n",
       "      <td>female</td>\n",
       "      <td>26.0</td>\n",
       "      <td>0</td>\n",
       "      <td>0</td>\n",
       "      <td>STON/O2. 3101282</td>\n",
       "      <td>7.9250</td>\n",
       "      <td>NaN</td>\n",
       "      <td>S</td>\n",
       "    </tr>\n",
       "    <tr>\n",
       "      <th>3</th>\n",
       "      <td>4</td>\n",
       "      <td>1</td>\n",
       "      <td>1</td>\n",
       "      <td>Futrelle, Mrs. Jacques Heath (Lily May Peel)</td>\n",
       "      <td>female</td>\n",
       "      <td>35.0</td>\n",
       "      <td>1</td>\n",
       "      <td>0</td>\n",
       "      <td>113803</td>\n",
       "      <td>53.1000</td>\n",
       "      <td>C123</td>\n",
       "      <td>S</td>\n",
       "    </tr>\n",
       "    <tr>\n",
       "      <th>4</th>\n",
       "      <td>5</td>\n",
       "      <td>0</td>\n",
       "      <td>3</td>\n",
       "      <td>Allen, Mr. William Henry</td>\n",
       "      <td>male</td>\n",
       "      <td>35.0</td>\n",
       "      <td>0</td>\n",
       "      <td>0</td>\n",
       "      <td>373450</td>\n",
       "      <td>8.0500</td>\n",
       "      <td>NaN</td>\n",
       "      <td>S</td>\n",
       "    </tr>\n",
       "    <tr>\n",
       "      <th>5</th>\n",
       "      <td>6</td>\n",
       "      <td>0</td>\n",
       "      <td>3</td>\n",
       "      <td>Moran, Mr. James</td>\n",
       "      <td>male</td>\n",
       "      <td>NaN</td>\n",
       "      <td>0</td>\n",
       "      <td>0</td>\n",
       "      <td>330877</td>\n",
       "      <td>8.4583</td>\n",
       "      <td>NaN</td>\n",
       "      <td>Q</td>\n",
       "    </tr>\n",
       "    <tr>\n",
       "      <th>6</th>\n",
       "      <td>7</td>\n",
       "      <td>0</td>\n",
       "      <td>1</td>\n",
       "      <td>McCarthy, Mr. Timothy J</td>\n",
       "      <td>male</td>\n",
       "      <td>54.0</td>\n",
       "      <td>0</td>\n",
       "      <td>0</td>\n",
       "      <td>17463</td>\n",
       "      <td>51.8625</td>\n",
       "      <td>E46</td>\n",
       "      <td>S</td>\n",
       "    </tr>\n",
       "    <tr>\n",
       "      <th>7</th>\n",
       "      <td>8</td>\n",
       "      <td>0</td>\n",
       "      <td>3</td>\n",
       "      <td>Palsson, Master. Gosta Leonard</td>\n",
       "      <td>male</td>\n",
       "      <td>2.0</td>\n",
       "      <td>3</td>\n",
       "      <td>1</td>\n",
       "      <td>349909</td>\n",
       "      <td>21.0750</td>\n",
       "      <td>NaN</td>\n",
       "      <td>S</td>\n",
       "    </tr>\n",
       "    <tr>\n",
       "      <th>8</th>\n",
       "      <td>9</td>\n",
       "      <td>1</td>\n",
       "      <td>3</td>\n",
       "      <td>Johnson, Mrs. Oscar W (Elisabeth Vilhelmina Berg)</td>\n",
       "      <td>female</td>\n",
       "      <td>27.0</td>\n",
       "      <td>0</td>\n",
       "      <td>2</td>\n",
       "      <td>347742</td>\n",
       "      <td>11.1333</td>\n",
       "      <td>NaN</td>\n",
       "      <td>S</td>\n",
       "    </tr>\n",
       "    <tr>\n",
       "      <th>9</th>\n",
       "      <td>10</td>\n",
       "      <td>1</td>\n",
       "      <td>2</td>\n",
       "      <td>Nasser, Mrs. Nicholas (Adele Achem)</td>\n",
       "      <td>female</td>\n",
       "      <td>14.0</td>\n",
       "      <td>1</td>\n",
       "      <td>0</td>\n",
       "      <td>237736</td>\n",
       "      <td>30.0708</td>\n",
       "      <td>NaN</td>\n",
       "      <td>C</td>\n",
       "    </tr>\n",
       "  </tbody>\n",
       "</table>\n",
       "</div>"
      ],
      "text/plain": [
       "   PassengerId  Survived  Pclass  \\\n",
       "0            1         0       3   \n",
       "1            2         1       1   \n",
       "2            3         1       3   \n",
       "3            4         1       1   \n",
       "4            5         0       3   \n",
       "5            6         0       3   \n",
       "6            7         0       1   \n",
       "7            8         0       3   \n",
       "8            9         1       3   \n",
       "9           10         1       2   \n",
       "\n",
       "                                                Name     Sex   Age  SibSp  \\\n",
       "0                            Braund, Mr. Owen Harris    male  22.0      1   \n",
       "1  Cumings, Mrs. John Bradley (Florence Briggs Th...  female  38.0      1   \n",
       "2                             Heikkinen, Miss. Laina  female  26.0      0   \n",
       "3       Futrelle, Mrs. Jacques Heath (Lily May Peel)  female  35.0      1   \n",
       "4                           Allen, Mr. William Henry    male  35.0      0   \n",
       "5                                   Moran, Mr. James    male   NaN      0   \n",
       "6                            McCarthy, Mr. Timothy J    male  54.0      0   \n",
       "7                     Palsson, Master. Gosta Leonard    male   2.0      3   \n",
       "8  Johnson, Mrs. Oscar W (Elisabeth Vilhelmina Berg)  female  27.0      0   \n",
       "9                Nasser, Mrs. Nicholas (Adele Achem)  female  14.0      1   \n",
       "\n",
       "   Parch            Ticket     Fare Cabin Embarked  \n",
       "0      0         A/5 21171   7.2500   NaN        S  \n",
       "1      0          PC 17599  71.2833   C85        C  \n",
       "2      0  STON/O2. 3101282   7.9250   NaN        S  \n",
       "3      0            113803  53.1000  C123        S  \n",
       "4      0            373450   8.0500   NaN        S  \n",
       "5      0            330877   8.4583   NaN        Q  \n",
       "6      0             17463  51.8625   E46        S  \n",
       "7      1            349909  21.0750   NaN        S  \n",
       "8      2            347742  11.1333   NaN        S  \n",
       "9      0            237736  30.0708   NaN        C  "
      ]
     },
     "execution_count": 7,
     "metadata": {},
     "output_type": "execute_result"
    }
   ],
   "source": [
    "df.head(10)"
   ]
  },
  {
   "cell_type": "markdown",
   "id": "7678e76f",
   "metadata": {
    "id": "7678e76f"
   },
   "source": [
    "#### Poll Question 1\n",
    "\n",
    "Choose the correct code option to print the null count in every column:\n",
    "\n",
    "(a) df.isnull().count()\n",
    "\n",
    "(b) df.isnull.count()\n",
    "\n",
    "(c) df.isnull().sum()  ans:\n",
    "\n",
    "(d) df.isnull.sum()"
   ]
  },
  {
   "cell_type": "code",
   "execution_count": 9,
   "id": "8b6cab22-fd0f-46c8-950a-7b6f48f67ab8",
   "metadata": {},
   "outputs": [
    {
     "data": {
      "text/plain": [
       "PassengerId      0\n",
       "Survived         0\n",
       "Pclass           0\n",
       "Name             0\n",
       "Sex              0\n",
       "Age            177\n",
       "SibSp            0\n",
       "Parch            0\n",
       "Ticket           0\n",
       "Fare             0\n",
       "Cabin          687\n",
       "Embarked         2\n",
       "dtype: int64"
      ]
     },
     "execution_count": 9,
     "metadata": {},
     "output_type": "execute_result"
    }
   ],
   "source": [
    "#additionally added\n",
    "#print the null count in every column:\n",
    "df.isnull().sum()"
   ]
  },
  {
   "cell_type": "code",
   "execution_count": 11,
   "id": "585b164e",
   "metadata": {
    "_cell_guid": "e43a6271-1b69-43d7-a45b-f8b84c940dad",
    "_uuid": "a7b00e3add28398149621d710b28cfd43a7e8315",
    "colab": {
     "base_uri": "https://localhost:8080/",
     "height": 460
    },
    "id": "585b164e",
    "outputId": "26fd7d0a-bffa-409a-cab3-e8c5c8cc6229"
   },
   "outputs": [
    {
     "data": {
      "text/plain": [
       "PassengerId    0.000000\n",
       "Survived       0.000000\n",
       "Pclass         0.000000\n",
       "Name           0.000000\n",
       "Sex            0.000000\n",
       "Age            0.198653\n",
       "SibSp          0.000000\n",
       "Parch          0.000000\n",
       "Ticket         0.000000\n",
       "Fare           0.000000\n",
       "Cabin          0.771044\n",
       "Embarked       0.002245\n",
       "dtype: float64"
      ]
     },
     "execution_count": 11,
     "metadata": {},
     "output_type": "execute_result"
    }
   ],
   "source": [
    "#Used to calculate the percentage of missing values in each column.\n",
    "df.isnull().mean()"
   ]
  },
  {
   "cell_type": "code",
   "execution_count": 13,
   "id": "014106b8",
   "metadata": {
    "id": "014106b8"
   },
   "outputs": [],
   "source": [
    "#Dropping this column.\n",
    "df=df.drop(\"Cabin\",axis=1)"
   ]
  },
  {
   "cell_type": "code",
   "execution_count": 15,
   "id": "badd3c5f",
   "metadata": {
    "colab": {
     "base_uri": "https://localhost:8080/",
     "height": 429
    },
    "id": "badd3c5f",
    "outputId": "cf82d6ef-caa9-42f0-a36e-2fc34dd4cfb8"
   },
   "outputs": [
    {
     "data": {
      "text/plain": [
       "PassengerId    0.000000\n",
       "Survived       0.000000\n",
       "Pclass         0.000000\n",
       "Name           0.000000\n",
       "Sex            0.000000\n",
       "Age            0.198653\n",
       "SibSp          0.000000\n",
       "Parch          0.000000\n",
       "Ticket         0.000000\n",
       "Fare           0.000000\n",
       "Embarked       0.002245\n",
       "dtype: float64"
      ]
     },
     "execution_count": 15,
     "metadata": {},
     "output_type": "execute_result"
    }
   ],
   "source": [
    "df.isnull().mean()"
   ]
  },
  {
   "cell_type": "code",
   "execution_count": 17,
   "id": "8877c859",
   "metadata": {
    "id": "8877c859"
   },
   "outputs": [],
   "source": [
    "#Age column is filled with the median of the column to avoid any biases caused by extreme values.\n",
    "df[\"Age\"]=df[\"Age\"].fillna(df[\"Age\"].median())"
   ]
  },
  {
   "cell_type": "code",
   "execution_count": 19,
   "id": "1f177cc8",
   "metadata": {
    "colab": {
     "base_uri": "https://localhost:8080/",
     "height": 429
    },
    "id": "1f177cc8",
    "outputId": "01a92cfa-9a39-416d-f851-ffc16866b8b3"
   },
   "outputs": [
    {
     "data": {
      "text/plain": [
       "PassengerId    0\n",
       "Survived       0\n",
       "Pclass         0\n",
       "Name           0\n",
       "Sex            0\n",
       "Age            0\n",
       "SibSp          0\n",
       "Parch          0\n",
       "Ticket         0\n",
       "Fare           0\n",
       "Embarked       2\n",
       "dtype: int64"
      ]
     },
     "execution_count": 19,
     "metadata": {},
     "output_type": "execute_result"
    }
   ],
   "source": [
    "#Checking for null values\n",
    "df.isnull().sum()"
   ]
  },
  {
   "cell_type": "markdown",
   "id": "Rn10NPcZwx0K",
   "metadata": {
    "id": "Rn10NPcZwx0K"
   },
   "source": [
    "After dropping `Cabin`, the proportion of missing values is checked again.\n",
    "Missing values in the `Age` column are filled with the median of the column to avoid any biases caused by extreme values:"
   ]
  },
  {
   "cell_type": "code",
   "execution_count": 21,
   "id": "211baec3",
   "metadata": {
    "id": "211baec3"
   },
   "outputs": [],
   "source": [
    "# Remaining rows with any missing values are dropped with\n",
    "df=df.dropna()"
   ]
  },
  {
   "cell_type": "code",
   "execution_count": 23,
   "id": "8cef8a98",
   "metadata": {
    "colab": {
     "base_uri": "https://localhost:8080/",
     "height": 429
    },
    "id": "8cef8a98",
    "outputId": "a5c1d1ab-7876-40c9-ba95-ff945fbf41f9"
   },
   "outputs": [
    {
     "data": {
      "text/plain": [
       "PassengerId    0.0\n",
       "Survived       0.0\n",
       "Pclass         0.0\n",
       "Name           0.0\n",
       "Sex            0.0\n",
       "Age            0.0\n",
       "SibSp          0.0\n",
       "Parch          0.0\n",
       "Ticket         0.0\n",
       "Fare           0.0\n",
       "Embarked       0.0\n",
       "dtype: float64"
      ]
     },
     "execution_count": 23,
     "metadata": {},
     "output_type": "execute_result"
    }
   ],
   "source": [
    "#Verify that all missing values have been successfully removed\n",
    "df.isnull().mean()"
   ]
  },
  {
   "cell_type": "code",
   "execution_count": 25,
   "id": "33909f03",
   "metadata": {
    "colab": {
     "base_uri": "https://localhost:8080/",
     "height": 504
    },
    "id": "33909f03",
    "outputId": "60ceb348-5e6f-4d8a-f844-e4241fffae3e"
   },
   "outputs": [
    {
     "data": {
      "text/html": [
       "<div>\n",
       "<style scoped>\n",
       "    .dataframe tbody tr th:only-of-type {\n",
       "        vertical-align: middle;\n",
       "    }\n",
       "\n",
       "    .dataframe tbody tr th {\n",
       "        vertical-align: top;\n",
       "    }\n",
       "\n",
       "    .dataframe thead th {\n",
       "        text-align: right;\n",
       "    }\n",
       "</style>\n",
       "<table border=\"1\" class=\"dataframe\">\n",
       "  <thead>\n",
       "    <tr style=\"text-align: right;\">\n",
       "      <th></th>\n",
       "      <th>PassengerId</th>\n",
       "      <th>Survived</th>\n",
       "      <th>Pclass</th>\n",
       "      <th>Name</th>\n",
       "      <th>Sex</th>\n",
       "      <th>Age</th>\n",
       "      <th>SibSp</th>\n",
       "      <th>Parch</th>\n",
       "      <th>Ticket</th>\n",
       "      <th>Fare</th>\n",
       "      <th>Embarked</th>\n",
       "    </tr>\n",
       "  </thead>\n",
       "  <tbody>\n",
       "    <tr>\n",
       "      <th>0</th>\n",
       "      <td>1</td>\n",
       "      <td>0</td>\n",
       "      <td>3</td>\n",
       "      <td>Braund, Mr. Owen Harris</td>\n",
       "      <td>male</td>\n",
       "      <td>22.0</td>\n",
       "      <td>1</td>\n",
       "      <td>0</td>\n",
       "      <td>A/5 21171</td>\n",
       "      <td>7.2500</td>\n",
       "      <td>S</td>\n",
       "    </tr>\n",
       "    <tr>\n",
       "      <th>1</th>\n",
       "      <td>2</td>\n",
       "      <td>1</td>\n",
       "      <td>1</td>\n",
       "      <td>Cumings, Mrs. John Bradley (Florence Briggs Th...</td>\n",
       "      <td>female</td>\n",
       "      <td>38.0</td>\n",
       "      <td>1</td>\n",
       "      <td>0</td>\n",
       "      <td>PC 17599</td>\n",
       "      <td>71.2833</td>\n",
       "      <td>C</td>\n",
       "    </tr>\n",
       "    <tr>\n",
       "      <th>2</th>\n",
       "      <td>3</td>\n",
       "      <td>1</td>\n",
       "      <td>3</td>\n",
       "      <td>Heikkinen, Miss. Laina</td>\n",
       "      <td>female</td>\n",
       "      <td>26.0</td>\n",
       "      <td>0</td>\n",
       "      <td>0</td>\n",
       "      <td>STON/O2. 3101282</td>\n",
       "      <td>7.9250</td>\n",
       "      <td>S</td>\n",
       "    </tr>\n",
       "    <tr>\n",
       "      <th>3</th>\n",
       "      <td>4</td>\n",
       "      <td>1</td>\n",
       "      <td>1</td>\n",
       "      <td>Futrelle, Mrs. Jacques Heath (Lily May Peel)</td>\n",
       "      <td>female</td>\n",
       "      <td>35.0</td>\n",
       "      <td>1</td>\n",
       "      <td>0</td>\n",
       "      <td>113803</td>\n",
       "      <td>53.1000</td>\n",
       "      <td>S</td>\n",
       "    </tr>\n",
       "    <tr>\n",
       "      <th>4</th>\n",
       "      <td>5</td>\n",
       "      <td>0</td>\n",
       "      <td>3</td>\n",
       "      <td>Allen, Mr. William Henry</td>\n",
       "      <td>male</td>\n",
       "      <td>35.0</td>\n",
       "      <td>0</td>\n",
       "      <td>0</td>\n",
       "      <td>373450</td>\n",
       "      <td>8.0500</td>\n",
       "      <td>S</td>\n",
       "    </tr>\n",
       "  </tbody>\n",
       "</table>\n",
       "</div>"
      ],
      "text/plain": [
       "   PassengerId  Survived  Pclass  \\\n",
       "0            1         0       3   \n",
       "1            2         1       1   \n",
       "2            3         1       3   \n",
       "3            4         1       1   \n",
       "4            5         0       3   \n",
       "\n",
       "                                                Name     Sex   Age  SibSp  \\\n",
       "0                            Braund, Mr. Owen Harris    male  22.0      1   \n",
       "1  Cumings, Mrs. John Bradley (Florence Briggs Th...  female  38.0      1   \n",
       "2                             Heikkinen, Miss. Laina  female  26.0      0   \n",
       "3       Futrelle, Mrs. Jacques Heath (Lily May Peel)  female  35.0      1   \n",
       "4                           Allen, Mr. William Henry    male  35.0      0   \n",
       "\n",
       "   Parch            Ticket     Fare Embarked  \n",
       "0      0         A/5 21171   7.2500        S  \n",
       "1      0          PC 17599  71.2833        C  \n",
       "2      0  STON/O2. 3101282   7.9250        S  \n",
       "3      0            113803  53.1000        S  \n",
       "4      0            373450   8.0500        S  "
      ]
     },
     "execution_count": 25,
     "metadata": {},
     "output_type": "execute_result"
    }
   ],
   "source": [
    "# View the cleaned dataset.\n",
    "df.head()"
   ]
  },
  {
   "cell_type": "code",
   "execution_count": 27,
   "id": "f160f1db",
   "metadata": {
    "colab": {
     "base_uri": "https://localhost:8080/",
     "height": 429
    },
    "id": "f160f1db",
    "outputId": "fec7812d-7875-43e7-a94a-59ad714c91df"
   },
   "outputs": [
    {
     "data": {
      "text/plain": [
       "PassengerId    889\n",
       "Survived         2\n",
       "Pclass           3\n",
       "Name           889\n",
       "Sex              2\n",
       "Age             88\n",
       "SibSp            7\n",
       "Parch            7\n",
       "Ticket         680\n",
       "Fare           247\n",
       "Embarked         3\n",
       "dtype: int64"
      ]
     },
     "execution_count": 27,
     "metadata": {},
     "output_type": "execute_result"
    }
   ],
   "source": [
    "#Check the number of unique values for each feature to better understand categorical and continuous variables.\n",
    "df.nunique()"
   ]
  },
  {
   "cell_type": "code",
   "execution_count": 31,
   "id": "a99f6b7c",
   "metadata": {
    "colab": {
     "base_uri": "https://localhost:8080/"
    },
    "id": "a99f6b7c",
    "outputId": "021da94f-189b-496d-9285-d2660c358a61"
   },
   "outputs": [
    {
     "data": {
      "text/plain": [
       "(889, 11)"
      ]
     },
     "execution_count": 31,
     "metadata": {},
     "output_type": "execute_result"
    }
   ],
   "source": [
    "#Confirm the new dimensions of the cleaned dataset.\n",
    "df.shape"
   ]
  },
  {
   "cell_type": "code",
   "execution_count": 33,
   "id": "nBlHCNB9Sy1K",
   "metadata": {
    "id": "nBlHCNB9Sy1K"
   },
   "outputs": [],
   "source": [
    "# Save the DataFrame to a CSV file\n",
    "df.to_csv('titanic_dataset_cleaned.csv')"
   ]
  },
  {
   "cell_type": "markdown",
   "id": "t38X5ryf2nzg",
   "metadata": {
    "id": "t38X5ryf2nzg"
   },
   "source": [
    "The cleaned version of the `Titanic` dataset with no missing values."
   ]
  },
  {
   "cell_type": "code",
   "execution_count": null,
   "id": "11db1319",
   "metadata": {
    "id": "11db1319"
   },
   "outputs": [],
   "source": [
    "# List of continuous (numerical) columns in the dataset\n",
    "cont_cols = [\"Fare\", \"Age\"]\n",
    "\n",
    "# List of categorical columns in the dataset\n",
    "# Survived, Pclass, Sex, SibSp, Parch, and Embarked are categorical variables\n",
    "cat_cols = [\"Survived\", \"Pclass\", \"Sex\", \"SibSp\", \"Parch\", \"Embarked\"]\n",
    "\n",
    "# List of identifier columns in the dataset\n",
    "# These columns uniquely identify passengers but do not contribute to the analysis\n",
    "id_cols = [\"PassengerId\", \"Name\", \"Ticket\"]"
   ]
  },
  {
   "cell_type": "markdown",
   "id": "238c4612",
   "metadata": {
    "id": "238c4612"
   },
   "source": [
    "## Univariate Analysis"
   ]
  },
  {
   "cell_type": "code",
   "execution_count": 39,
   "id": "HTJ6kMaOpC5n",
   "metadata": {
    "colab": {
     "base_uri": "https://localhost:8080/",
     "height": 210
    },
    "id": "HTJ6kMaOpC5n",
    "outputId": "ee0bdbf9-e33e-4633-a0dc-3faba9f8e0d0"
   },
   "outputs": [
    {
     "data": {
      "text/plain": [
       "Embarked\n",
       "S    644\n",
       "C    168\n",
       "Q     77\n",
       "Name: count, dtype: int64"
      ]
     },
     "execution_count": 39,
     "metadata": {},
     "output_type": "execute_result"
    }
   ],
   "source": [
    "df['Embarked'].value_counts()"
   ]
  },
  {
   "cell_type": "markdown",
   "id": "1NMCQuD_2bsG",
   "metadata": {
    "id": "1NMCQuD_2bsG"
   },
   "source": [
    " The letters represent the port names (C = Cherbourg, Q = Queenstown, S = Southampton) - from the table, we can observe that most passengers boarded from the Southampton port."
   ]
  },
  {
   "cell_type": "markdown",
   "id": "c_YmLB8io4sb",
   "metadata": {
    "id": "c_YmLB8io4sb"
   },
   "source": [
    "Categorical variables consist of discrete categories, such as labels or groups. Common plots for categorical data include:"
   ]
  },
  {
   "cell_type": "markdown",
   "id": "VBNcWSO2VhmL",
   "metadata": {
    "id": "VBNcWSO2VhmL"
   },
   "source": [
    "####Barplot"
   ]
  },
  {
   "cell_type": "code",
   "execution_count": 45,
   "id": "7EJG9tqvpI4K",
   "metadata": {
    "colab": {
     "base_uri": "https://localhost:8080/",
     "height": 461
    },
    "id": "7EJG9tqvpI4K",
    "outputId": "fefec825-1c6f-4ca9-e154-4ac8efc02c9c"
   },
   "outputs": [
    {
     "data": {
      "text/plain": [
       "<Axes: xlabel='Pclass'>"
      ]
     },
     "execution_count": 45,
     "metadata": {},
     "output_type": "execute_result"
    },
    {
     "data": {
      "image/png": "[encoded data removed]",
      "text/plain": [
       "<Figure size 640x480 with 1 Axes>"
      ]
     },
     "metadata": {},
     "output_type": "display_data"
    }
   ],
   "source": [
    "df['Pclass'].value_counts().plot(kind='bar')"
   ]
  },
  {
   "cell_type": "markdown",
   "id": "GvlyV4aYYZ2d",
   "metadata": {
    "id": "GvlyV4aYYZ2d"
   },
   "source": [
    "The bar plot provides a simple and clear visual representation of how many passengers belong to each passenger class (1st, 2nd, or 3rd)."
   ]
  },
  {
   "cell_type": "markdown",
   "id": "qa9TpfTU3kZp",
   "metadata": {
    "id": "qa9TpfTU3kZp"
   },
   "source": [
    "It gives a clear overview of the passenger composition by class, indicating that 3rd class had the most passengers, which helps in understanding both the socio-economic diversity of the passengers and provides a potential link to survival analysis, as passenger class was a significant factor affecting survival."
   ]
  },
  {
   "cell_type": "markdown",
   "id": "HWZlM9kaVnsm",
   "metadata": {
    "id": "HWZlM9kaVnsm"
   },
   "source": [
    "####Piechart"
   ]
  },
  {
   "cell_type": "code",
   "execution_count": 51,
   "id": "D6OA4vaMvfgs",
   "metadata": {
    "colab": {
     "base_uri": "https://localhost:8080/",
     "height": 423
    },
    "id": "D6OA4vaMvfgs",
    "outputId": "3d0bdd17-5221-4006-e5fb-cfb05c15b597"
   },
   "outputs": [
    {
     "data": {
      "text/plain": [
       "<Axes: ylabel='count'>"
      ]
     },
     "execution_count": 51,
     "metadata": {},
     "output_type": "execute_result"
    },
    {
     "data": {
      "image/png": "[encoded data removed]",
      "text/plain": [
       "<Figure size 640x480 with 1 Axes>"
      ]
     },
     "metadata": {},
     "output_type": "display_data"
    }
   ],
   "source": [
    "df['Embarked'].value_counts().plot(kind='pie', autopct='%1.1f%%')"
   ]
  },
  {
   "cell_type": "markdown",
   "id": "ifFMc55jYlnk",
   "metadata": {
    "id": "ifFMc55jYlnk"
   },
   "source": [
    "A pie chart is used for displaying the proportion of categories as parts of a whole. In this case, it helps you easily see the percentage of passengers that embarked from different ports (C = Cherbourg, Q = Queenstown, S = Southampton).\n",
    "\n",
    "The autopct=`%1.1f%%` parameter automatically labels each slice with the percentage of the total, making it easy to interpret the data."
   ]
  },
  {
   "cell_type": "markdown",
   "id": "pUIUgP3P4xwi",
   "metadata": {
    "id": "pUIUgP3P4xwi"
   },
   "source": [
    "The chart's labels make it easy to see that the majority of passengers embarked from Southampton, which makes sense given that it was the ship's main point of origin."
   ]
  },
  {
   "cell_type": "markdown",
   "id": "A8cT21T2AeoO",
   "metadata": {
    "id": "A8cT21T2AeoO"
   },
   "source": [
    "###Countplot"
   ]
  },
  {
   "cell_type": "code",
   "execution_count": null,
   "id": "3KhZ40Ym_av9",
   "metadata": {
    "colab": {
     "base_uri": "https://localhost:8080/",
     "height": 466
    },
    "id": "3KhZ40Ym_av9",
    "outputId": "e1a78e86-178d-4716-bb51-62e55afcee44"
   },
   "outputs": [
    {
     "data": {
      "text/plain": [
       "<Axes: xlabel='Embarked', ylabel='count'>"
      ]
     },
     "execution_count": 57,
     "metadata": {},
     "output_type": "execute_result"
    },
    {
     "data": {
      "image/png": "[encoded data removed]",
      "text/plain": [
       "<Figure size 640x480 with 1 Axes>"
      ]
     },
     "metadata": {},
     "output_type": "display_data"
    }
   ],
   "source": [
    "sns.countplot(x=df[\"Embarked\"]) #A countplot is a type of bar plot in data visualization that shows the frequency distribution of categorical data. It is commonly used in Python with the seaborn library, though it can also be created using matplotlib or pandas."
   ]
  },
  {
   "cell_type": "markdown",
   "id": "h9F23Nhy_nE8",
   "metadata": {
    "id": "h9F23Nhy_nE8"
   },
   "source": [
    "For the Titanic dataset, `sns.countplot(x=df[\"Embarked\"])` will display the count of passengers  embarked from different ports (C = Cherbourg, Q = Queenstown, S = Southampton).\n"
   ]
  },
  {
   "cell_type": "markdown",
   "id": "wGVQnB9k6ZiC",
   "metadata": {
    "id": "wGVQnB9k6ZiC"
   },
   "source": [
    "The bar for Southampton (S) is typically the tallest, indicating that the majority of passengers boarded the Titanic at Southampton."
   ]
  },
  {
   "cell_type": "markdown",
   "id": "dFr3BGgm5BE4",
   "metadata": {
    "id": "dFr3BGgm5BE4"
   },
   "source": [
    "#A count plot and a bar plot are similar in the sense that they are both used to visualise categorical data. A countplot counts the number of observations per category, while a barplot may sometimes estimates a summary statistic per category, such as the average."
   ]
  },
  {
   "cell_type": "markdown",
   "id": "_v9pt1MbpEtf",
   "metadata": {
    "id": "_v9pt1MbpEtf"
   },
   "source": [
    "Moving on, numerical data can either be continuous or discrete. The following plots are typically used for analysing the distribution and spread of continuous variables."
   ]
  },
  {
   "cell_type": "markdown",
   "id": "geGLjoYNVr5V",
   "metadata": {
    "id": "geGLjoYNVr5V"
   },
   "source": [
    "###Kernel Density Plot"
   ]
  },
  {
   "cell_type": "code",
   "execution_count": 53,
   "id": "7YYRRoNZvrpQ",
   "metadata": {
    "colab": {
     "base_uri": "https://localhost:8080/",
     "height": 450
    },
    "id": "7YYRRoNZvrpQ",
    "outputId": "47ee6518-7be7-4c6b-905a-e7d4aac3deea",
    "scrolled": true
   },
   "outputs": [
    {
     "data": {
      "text/plain": [
       "<Axes: ylabel='Density'>"
      ]
     },
     "execution_count": 53,
     "metadata": {},
     "output_type": "execute_result"
    },
    {
     "data": {
      "image/png": "[encoded data removed]",
      "text/plain": [
       "<Figure size 640x480 with 1 Axes>"
      ]
     },
     "metadata": {},
     "output_type": "display_data"
    }
   ],
   "source": [
    "df['Age'].plot(kind='kde')"
   ]
  },
  {
   "cell_type": "markdown",
   "id": "FPmAidVJZRSQ",
   "metadata": {
    "id": "FPmAidVJZRSQ"
   },
   "source": [
    "A KDE plot gives a smooth estimate of the **probability density function (PDF)** of the variable. It’s useful for understanding how the data is distributed in terms of where most values lie.\n",
    "\n",
    "In this case, it shows the distribution of passenger's ages, helping identify age ranges where there are more passengers."
   ]
  },
  {
   "cell_type": "markdown",
   "id": "5-jFaKQe6ni3",
   "metadata": {
    "id": "5-jFaKQe6ni3"
   },
   "source": [
    "In the case of the Titanic dataset, the KDE plot for age generally shows a higher density for young adults (ages around 20-40), suggesting that this age group had the largest number of passengers."
   ]
  },
  {
   "cell_type": "code",
   "execution_count": null,
   "id": "9oVmpqQqpQnW",
   "metadata": {
    "colab": {
     "base_uri": "https://localhost:8080/",
     "height": 335
    },
    "id": "9oVmpqQqpQnW",
    "outputId": "61541498-69c9-4a4f-acf2-795fe5399573"
   },
   "outputs": [
    {
     "data": {
      "text/html": [
       "<div>\n",
       "<style scoped>\n",
       "    .dataframe tbody tr th:only-of-type {\n",
       "        vertical-align: middle;\n",
       "    }\n",
       "\n",
       "    .dataframe tbody tr th {\n",
       "        vertical-align: top;\n",
       "    }\n",
       "\n",
       "    .dataframe thead th {\n",
       "        text-align: right;\n",
       "    }\n",
       "</style>\n",
       "<table border=\"1\" class=\"dataframe\">\n",
       "  <thead>\n",
       "    <tr style=\"text-align: right;\">\n",
       "      <th></th>\n",
       "      <th>SibSp</th>\n",
       "    </tr>\n",
       "  </thead>\n",
       "  <tbody>\n",
       "    <tr>\n",
       "      <th>count</th>\n",
       "      <td>889.000000</td>\n",
       "    </tr>\n",
       "    <tr>\n",
       "      <th>mean</th>\n",
       "      <td>0.524184</td>\n",
       "    </tr>\n",
       "    <tr>\n",
       "      <th>std</th>\n",
       "      <td>1.103705</td>\n",
       "    </tr>\n",
       "    <tr>\n",
       "      <th>min</th>\n",
       "      <td>0.000000</td>\n",
       "    </tr>\n",
       "    <tr>\n",
       "      <th>25%</th>\n",
       "      <td>0.000000</td>\n",
       "    </tr>\n",
       "    <tr>\n",
       "      <th>50%</th>\n",
       "      <td>0.000000</td>\n",
       "    </tr>\n",
       "    <tr>\n",
       "      <th>75%</th>\n",
       "      <td>1.000000</td>\n",
       "    </tr>\n",
       "    <tr>\n",
       "      <th>max</th>\n",
       "      <td>8.000000</td>\n",
       "    </tr>\n",
       "  </tbody>\n",
       "</table>\n",
       "</div><br><label><b>dtype:</b> float64</label>"
      ],
      "text/plain": [
       "count    889.000000\n",
       "mean       0.524184\n",
       "std        1.103705\n",
       "min        0.000000\n",
       "25%        0.000000\n",
       "50%        0.000000\n",
       "75%        1.000000\n",
       "max        8.000000\n",
       "Name: SibSp, dtype: float64"
      ]
     },
     "execution_count": 59,
     "metadata": {},
     "output_type": "execute_result"
    }
   ],
   "source": [
    "df['SibSp'].describe()"
   ]
  },
  {
   "cell_type": "markdown",
   "id": "c5f1ea1a",
   "metadata": {
    "id": "c5f1ea1a"
   },
   "source": [
    "### Histogram\n",
    "\n",
    "It is used to see the bucket-wise distribution of a continuous variable."
   ]
  },
  {
   "cell_type": "markdown",
   "id": "ca38aadb",
   "metadata": {
    "id": "ca38aadb"
   },
   "source": [
    "### Poll Question 2:\n",
    "\n",
    "Choose the correct code option to make the histogram using seaborn:\n",
    "\n",
    "(a) plt.hist(df[\"Fare\"])    ANS:   sns.histplot(df[\"Fare\"])  \n",
    "\n",
    "(b) plt.histplot(df[\"Fare\"])\n",
    "\n",
    "(c) plt.plot(df[\"Fare\"]\n",
    "\n",
    "(d) plt.histogram(df[\"Fare\"]"
   ]
  },
  {
   "cell_type": "code",
   "execution_count": 56,
   "id": "2b1c4aa0-9685-4c2c-9932-b29abe2a9f5e",
   "metadata": {},
   "outputs": [
    {
     "data": {
      "text/plain": [
       "(array([732., 104.,  31.,   2.,  11.,   6.,   0.,   0.,   0.,   3.]),\n",
       " array([  0.     ,  51.23292, 102.46584, 153.69876, 204.93168, 256.1646 ,\n",
       "        307.39752, 358.63044, 409.86336, 461.09628, 512.3292 ]),\n",
       " <BarContainer object of 10 artists>)"
      ]
     },
     "execution_count": 56,
     "metadata": {},
     "output_type": "execute_result"
    },
    {
     "data": {
      "image/png": "[encoded data removed]",
      "text/plain": [
       "<Figure size 640x480 with 1 Axes>"
      ]
     },
     "metadata": {},
     "output_type": "display_data"
    }
   ],
   "source": [
    "plt.hist(df[\"Fare\"])  "
   ]
  },
  {
   "cell_type": "code",
   "execution_count": 64,
   "id": "93c54e23",
   "metadata": {
    "colab": {
     "base_uri": "https://localhost:8080/",
     "height": 916
    },
    "id": "93c54e23",
    "outputId": "bffee32a-9ceb-4443-cfaf-702730171308"
   },
   "outputs": [
    {
     "name": "stdout",
     "output_type": "stream",
     "text": [
      "Fare\n"
     ]
    },
    {
     "data": {
      "image/png": "[encoded data removed]",
      "text/plain": [
       "<Figure size 640x480 with 1 Axes>"
      ]
     },
     "metadata": {},
     "output_type": "display_data"
    },
    {
     "name": "stdout",
     "output_type": "stream",
     "text": [
      "Age\n"
     ]
    },
    {
     "data": {
      "image/png": "[encoded data removed]",
      "text/plain": [
       "<Figure size 640x480 with 1 Axes>"
      ]
     },
     "metadata": {},
     "output_type": "display_data"
    }
   ],
   "source": [
    "# Looping through each column in the continuous columns list (cont_cols)\n",
    "for i in cont_cols:\n",
    "\n",
    "    # Print the name of the current continuous column being processed\n",
    "    print(i)\n",
    "\n",
    "    # Plot a histogram for the current column using seaborn's histplot\n",
    "    sns.histplot(df[i])\n",
    "\n",
    "    # Display the plot after generating the histogram for the current column\n",
    "    plt.show()"
   ]
  },
  {
   "cell_type": "markdown",
   "id": "IVrNlE8f8ql9",
   "metadata": {
    "id": "IVrNlE8f8ql9"
   },
   "source": [
    " The `Fare` histogram often displays a right-skewed distribution, with a majority of passengers paying lower fares and a few paying significantly higher fares."
   ]
  },
  {
   "cell_type": "markdown",
   "id": "X8QkTXEZ8gBk",
   "metadata": {
    "id": "X8QkTXEZ8gBk"
   },
   "source": [
    "The `Age` histogram typically displays a somewhat normal distribution, with a peak around $20-40$ years. This suggests that most passengers on the Titanic were young adults."
   ]
  },
  {
   "cell_type": "markdown",
   "id": "d9b36f22",
   "metadata": {
    "id": "d9b36f22"
   },
   "source": [
    "### Boxplot"
   ]
  },
  {
   "cell_type": "code",
   "execution_count": 66,
   "id": "0276eeff",
   "metadata": {
    "colab": {
     "base_uri": "https://localhost:8080/",
     "height": 428
    },
    "id": "0276eeff",
    "outputId": "dd91ff12-bf91-4038-e00f-d27b5b7e16e8"
   },
   "outputs": [
    {
     "data": {
      "text/plain": [
       "<Axes: ylabel='Fare'>"
      ]
     },
     "execution_count": 66,
     "metadata": {},
     "output_type": "execute_result"
    },
    {
     "data": {
      "image/png": "[encoded data removed]",
      "text/plain": [
       "<Figure size 640x480 with 1 Axes>"
      ]
     },
     "metadata": {},
     "output_type": "display_data"
    }
   ],
   "source": [
    "sns.boxplot(df[\"Fare\"])"
   ]
  },
  {
   "cell_type": "markdown",
   "id": "12263b1e",
   "metadata": {
    "id": "12263b1e"
   },
   "source": [
    "- It is used to see the quartile-wise distribution of a continuous variable.\n",
    "\n",
    "- It is also used to see the outliers present in the data.\n",
    "\n",
    "- Boxplots are also used to see the quartile-wise distribution of a continuous variable against categorical variables (e.g. distribution of sales across various categories)."
   ]
  },
  {
   "cell_type": "markdown",
   "id": "2-YL1FtG9jHY",
   "metadata": {
    "id": "2-YL1FtG9jHY"
   },
   "source": [
    "Observations -\n",
    "\n",
    "- Significant number of passengers paid\n",
    "low fares, suggesting they were mostly third-class passengers.\n",
    "\n",
    "- There are many outliers indicating high fare values, representing first-class passengers.\n",
    "\n",
    "- The skewness in the boxplot highlights a disparity in ticket fares, with a small number of wealthy individuals paying significantly more compared to the rest of the passengers."
   ]
  },
  {
   "cell_type": "code",
   "execution_count": 68,
   "id": "103fd33c",
   "metadata": {
    "colab": {
     "base_uri": "https://localhost:8080/",
     "height": 335
    },
    "id": "103fd33c",
    "outputId": "588d5fa3-cdcd-407e-a2c8-9b775b634590"
   },
   "outputs": [
    {
     "data": {
      "text/plain": [
       "count    889.000000\n",
       "mean      32.096681\n",
       "std       49.697504\n",
       "min        0.000000\n",
       "25%        7.895800\n",
       "50%       14.454200\n",
       "75%       31.000000\n",
       "max      512.329200\n",
       "Name: Fare, dtype: float64"
      ]
     },
     "execution_count": 68,
     "metadata": {},
     "output_type": "execute_result"
    }
   ],
   "source": [
    "df[\"Fare\"].describe()"
   ]
  },
  {
   "cell_type": "markdown",
   "id": "e8wuozYp_5Ak",
   "metadata": {
    "id": "e8wuozYp_5Ak"
   },
   "source": [
    "###Scatterplot"
   ]
  },
  {
   "cell_type": "code",
   "execution_count": 70,
   "id": "P1VFpIsB7pCD",
   "metadata": {
    "colab": {
     "base_uri": "https://localhost:8080/",
     "height": 447
    },
    "id": "P1VFpIsB7pCD",
    "outputId": "3cd68b16-41c0-41d8-f233-c7ac0c5a6f40"
   },
   "outputs": [
    {
     "data": {
      "text/plain": [
       "<Axes: ylabel='Age'>"
      ]
     },
     "execution_count": 70,
     "metadata": {},
     "output_type": "execute_result"
    },
    {
     "data": {
      "image/png": "[encoded data removed]",
      "text/plain": [
       "<Figure size 640x480 with 1 Axes>"
      ]
     },
     "metadata": {},
     "output_type": "display_data"
    }
   ],
   "source": [
    "sns.scatterplot(df[\"Age\"])"
   ]
  },
  {
   "cell_type": "markdown",
   "id": "q5PqNf8RAHug",
   "metadata": {
    "id": "q5PqNf8RAHug"
   },
   "source": [
    "For the Titanic dataset, `sns.scatterplot(x=df[\"Age\"])` will display the distribution of passengers across different age classes. Scatter plot is generally used for depicting relation between two numerical variables but it can also be used to plot a single numerical variable. It is also known as jittered dot plot."
   ]
  },
  {
   "cell_type": "markdown",
   "id": "QuPw9cdX-nMh",
   "metadata": {
    "id": "QuPw9cdX-nMh"
   },
   "source": [
    "The `x-axis` represents the index of the DataFrame, which is essentially the row number or the order of the passengers.\n",
    "The `y-axis` represents the Age of each passenger, giving an overview of how passenger ages are distributed.\n",
    "\n",
    "\n",
    "From the scatter plot, we can make the following observations:\n",
    "- Young adults (ages $20-40$) make up the majority of the passengers, as indicated by the dense clustering of points.\n",
    "\n",
    "- There are fewer passengers in the extreme age ranges (i.e., infants and elderly)."
   ]
  },
  {
   "cell_type": "markdown",
   "id": "9bb63e05",
   "metadata": {
    "id": "9bb63e05"
   },
   "source": [
    "# E-Commerce Sales"
   ]
  },
  {
   "cell_type": "markdown",
   "id": "191972e9",
   "metadata": {
    "id": "191972e9"
   },
   "source": [
    "### Problem Statement\n",
    "\n",
    "The e-commerce platform aims to bolster its sales and improve customer satisfaction. To achieve these goals, performing a thorough univariate analysis of the available data is essential. This analysis will focus on identifying patterns and insights within individual variables that could inform strategic decisions."
   ]
  },
  {
   "cell_type": "markdown",
   "id": "55617651",
   "metadata": {
    "id": "55617651"
   },
   "source": [
    "### Dataset Description\n",
    "The dataset in question is a comprehensive collection of data from an e-commerce platform, containing 500 records that illustrate the interplay between customers, orders, and products. This rich dataset provides a holistic view of the e-commerce operations, highlighting key aspects such as product offerings, customer demographics, and purchasing behaviors. Here are the core attributes included:\n",
    "\n",
    "**OrderID**: Unique identifier for each transaction, allowing for detailed tracking of orders.\n",
    "\n",
    "**CustomerID**: Identifies each customer, potentially showing repeat business and customer loyalty.\n",
    "\n",
    "**ProductID**: Marks each product, indicating the range of items sold on the platform.\n",
    "\n",
    "**Price**: Reflects the cost of products, from budget-friendly items to more premium offerings.\n",
    "\n",
    "**Ratings**: A measure of customer satisfaction, rated on a scale from 1 to 5.\n",
    "\n",
    "**Number_of_Reviews**: Indicates the popularity and customer engagement of products based on the volume of reviews.\n",
    "\n",
    "**CategoryID**: Categorizes products into different segments, demonstrating the platform's product diversity.\n",
    "\n",
    "**Age**: Provides insight into the customer base's demographic profile.\n",
    "\n",
    "**Gender**: Indicates the gender distribution among the platform's customers.\n",
    "\n",
    "**Location**: Shows the geographical distribution of customers, specifically within Indian cities in this case.\n",
    "\n",
    "**Order_Date**: Dates of transactions, useful for analyzing sales trends over time."
   ]
  },
  {
   "cell_type": "markdown",
   "id": "a2809de3",
   "metadata": {
    "id": "a2809de3"
   },
   "source": [
    "## Importing the Libraries"
   ]
  },
  {
   "cell_type": "code",
   "execution_count": 72,
   "id": "6eee3894",
   "metadata": {
    "id": "6eee3894"
   },
   "outputs": [],
   "source": [
    "## 1 - Import the libraries used for data manipulation in Python\n",
    "import numpy as np\n",
    "import pandas as pd"
   ]
  },
  {
   "cell_type": "markdown",
   "id": "ac7bc0a0",
   "metadata": {
    "id": "ac7bc0a0"
   },
   "source": [
    "## Reading the Dataset"
   ]
  },
  {
   "cell_type": "code",
   "execution_count": 74,
   "id": "85bd38a2",
   "metadata": {
    "id": "85bd38a2"
   },
   "outputs": [],
   "source": [
    "## 1 - Read the first dataset named \"univariate_analysis_guided_practice.csv\"\n",
    "df_quiz = pd.read_csv(\"univariate_analysis_quiz.csv\")"
   ]
  },
  {
   "cell_type": "code",
   "execution_count": 78,
   "id": "cb96dacf-f506-4199-aa4f-c8cbeed5128e",
   "metadata": {},
   "outputs": [
    {
     "data": {
      "text/html": [
       "<div>\n",
       "<style scoped>\n",
       "    .dataframe tbody tr th:only-of-type {\n",
       "        vertical-align: middle;\n",
       "    }\n",
       "\n",
       "    .dataframe tbody tr th {\n",
       "        vertical-align: top;\n",
       "    }\n",
       "\n",
       "    .dataframe thead th {\n",
       "        text-align: right;\n",
       "    }\n",
       "</style>\n",
       "<table border=\"1\" class=\"dataframe\">\n",
       "  <thead>\n",
       "    <tr style=\"text-align: right;\">\n",
       "      <th></th>\n",
       "      <th>OrderID</th>\n",
       "      <th>CustomerID</th>\n",
       "      <th>ProductID</th>\n",
       "      <th>Price</th>\n",
       "      <th>Ratings</th>\n",
       "      <th>Number_of_Reviews</th>\n",
       "      <th>CategoryID</th>\n",
       "      <th>Age</th>\n",
       "      <th>Gender</th>\n",
       "      <th>Location</th>\n",
       "      <th>Order_Date</th>\n",
       "    </tr>\n",
       "  </thead>\n",
       "  <tbody>\n",
       "    <tr>\n",
       "      <th>0</th>\n",
       "      <td>1</td>\n",
       "      <td>54</td>\n",
       "      <td>73</td>\n",
       "      <td>487.25</td>\n",
       "      <td>1.65</td>\n",
       "      <td>308</td>\n",
       "      <td>7</td>\n",
       "      <td>31</td>\n",
       "      <td>Other</td>\n",
       "      <td>Mumbai</td>\n",
       "      <td>2023-10-15</td>\n",
       "    </tr>\n",
       "    <tr>\n",
       "      <th>1</th>\n",
       "      <td>2</td>\n",
       "      <td>116</td>\n",
       "      <td>85</td>\n",
       "      <td>51.67</td>\n",
       "      <td>2.52</td>\n",
       "      <td>352</td>\n",
       "      <td>19</td>\n",
       "      <td>47</td>\n",
       "      <td>Other</td>\n",
       "      <td>Surat</td>\n",
       "      <td>2023-08-22</td>\n",
       "    </tr>\n",
       "    <tr>\n",
       "      <th>2</th>\n",
       "      <td>3</td>\n",
       "      <td>118</td>\n",
       "      <td>80</td>\n",
       "      <td>609.13</td>\n",
       "      <td>2.68</td>\n",
       "      <td>133</td>\n",
       "      <td>11</td>\n",
       "      <td>34</td>\n",
       "      <td>Male</td>\n",
       "      <td>Kolkata</td>\n",
       "      <td>2023-04-29</td>\n",
       "    </tr>\n",
       "    <tr>\n",
       "      <th>3</th>\n",
       "      <td>4</td>\n",
       "      <td>128</td>\n",
       "      <td>36</td>\n",
       "      <td>816.86</td>\n",
       "      <td>1.19</td>\n",
       "      <td>37</td>\n",
       "      <td>19</td>\n",
       "      <td>58</td>\n",
       "      <td>Other</td>\n",
       "      <td>Surat</td>\n",
       "      <td>2023-05-20</td>\n",
       "    </tr>\n",
       "    <tr>\n",
       "      <th>4</th>\n",
       "      <td>5</td>\n",
       "      <td>75</td>\n",
       "      <td>51</td>\n",
       "      <td>84.29</td>\n",
       "      <td>4.20</td>\n",
       "      <td>356</td>\n",
       "      <td>1</td>\n",
       "      <td>41</td>\n",
       "      <td>Male</td>\n",
       "      <td>Pune</td>\n",
       "      <td>2022-10-19</td>\n",
       "    </tr>\n",
       "  </tbody>\n",
       "</table>\n",
       "</div>"
      ],
      "text/plain": [
       "   OrderID  CustomerID  ProductID   Price  Ratings  Number_of_Reviews  \\\n",
       "0        1          54         73  487.25     1.65                308   \n",
       "1        2         116         85   51.67     2.52                352   \n",
       "2        3         118         80  609.13     2.68                133   \n",
       "3        4         128         36  816.86     1.19                 37   \n",
       "4        5          75         51   84.29     4.20                356   \n",
       "\n",
       "   CategoryID  Age Gender Location  Order_Date  \n",
       "0           7   31  Other   Mumbai  2023-10-15  \n",
       "1          19   47  Other    Surat  2023-08-22  \n",
       "2          11   34   Male  Kolkata  2023-04-29  \n",
       "3          19   58  Other    Surat  2023-05-20  \n",
       "4           1   41   Male     Pune  2022-10-19  "
      ]
     },
     "execution_count": 78,
     "metadata": {},
     "output_type": "execute_result"
    }
   ],
   "source": [
    "df_quiz.head()"
   ]
  },
  {
   "cell_type": "markdown",
   "id": "9bbb49c3",
   "metadata": {
    "id": "9bbb49c3"
   },
   "source": [
    "### Task - 1 (Histogram)\n",
    "\n",
    "1 - Import the libraries necessary for Data Visualization.\n",
    "\n",
    "2 - Set the size of the figure to (10 , 6).\n",
    "\n",
    "3 - Create a histogram for the \"Price\" feature.\n",
    "\n",
    "4 - Define the title, x & y label.\n",
    "\n",
    "5 - Display the plot and note your observations.\n",
    "\n",
    "6 - Set the size of the figure to (10 , 6).\n",
    "\n",
    "7 - Create a histogram for the \"Age\" feature.\n",
    "\n",
    "8 - Define the title, x & y label.\n",
    "\n",
    "9 - Display the plot and note your observations."
   ]
  },
  {
   "cell_type": "code",
   "execution_count": 76,
   "id": "Ye_A3MuMgFfI",
   "metadata": {
    "id": "Ye_A3MuMgFfI"
   },
   "outputs": [],
   "source": [
    "# Code here\n",
    "import matplotlib.pyplot as plt\n",
    "import seaborn as sns\n",
    "\n",
    "import warnings\n",
    "warnings.filterwarnings(action=\"ignore\")"
   ]
  },
  {
   "cell_type": "code",
   "execution_count": 86,
   "id": "kC5Dm8-UgIFu",
   "metadata": {
    "id": "kC5Dm8-UgIFu"
   },
   "outputs": [
    {
     "data": {
      "image/png": "[encoded data removed]",
      "text/plain": [
       "<Figure size 1000x600 with 1 Axes>"
      ]
     },
     "metadata": {},
     "output_type": "display_data"
    }
   ],
   "source": [
    "\n",
    "#Code here\n",
    "plt.figure(figsize=(10,6))\n",
    "sns.histplot(x=df_quiz['Price'])\n",
    "plt.title('quiz')\n",
    "plt.xlabel('Price of the product')\n",
    "plt.ylabel('product')\n",
    "plt.show()\n"
   ]
  },
  {
   "cell_type": "code",
   "execution_count": 88,
   "id": "429c4321-a92c-4e0c-8adc-8f17cbe2a287",
   "metadata": {},
   "outputs": [
    {
     "data": {
      "image/png": "[encoded data removed]",
      "text/plain": [
       "<Figure size 1000x600 with 1 Axes>"
      ]
     },
     "metadata": {},
     "output_type": "display_data"
    }
   ],
   "source": [
    "plt.figure(figsize=(10,6))\n",
    "sns.histplot(x=df_quiz['Age'])\n",
    "plt.title('Age grouped who purchased the product')\n",
    "plt.xlabel('Age group')\n",
    "plt.ylabel('product')\n",
    "plt.show()"
   ]
  },
  {
   "cell_type": "markdown",
   "id": "6fffe184",
   "metadata": {
    "id": "6fffe184"
   },
   "source": [
    "### Task - 2 (Box Plots)\n",
    "\n",
    "1 - Set the size of the figure to (10 , 6).\n",
    "\n",
    "2 - Create a box plot for \"Ratings\".\n",
    "\n",
    "3 - Define the title, x & y label.\n",
    "\n",
    "4 - Display the plot and note your observations.\n",
    "\n",
    "5 - Set the size of the figure to (10 , 6).\n",
    "\n",
    "6 - Create a box plot for \"Age\".\n",
    "\n",
    "7 - Define the title, x & y label.\n",
    "\n",
    "8 - Display the plot and note your observations."
   ]
  },
  {
   "cell_type": "code",
   "execution_count": 92,
   "id": "78d53012",
   "metadata": {
    "id": "78d53012"
   },
   "outputs": [
    {
     "data": {
      "image/png": "[encoded data removed]",
      "text/plain": [
       "<Figure size 1000x600 with 1 Axes>"
      ]
     },
     "metadata": {},
     "output_type": "display_data"
    }
   ],
   "source": [
    "#Code here\n",
    "plt.figure(figsize=(10,6))\n",
    "sns.boxplot(x=df_quiz['Ratings'])\n",
    "plt.title('rating assigned on each product')\n",
    "plt.xlabel('Ratings')\n",
    "plt.ylabel('product')\n",
    "plt.show()"
   ]
  },
  {
   "cell_type": "code",
   "execution_count": 100,
   "id": "4721262c",
   "metadata": {
    "id": "4721262c"
   },
   "outputs": [
    {
     "data": {
      "image/png": "[encoded data removed]",
      "text/plain": [
       "<Figure size 1000x600 with 1 Axes>"
      ]
     },
     "metadata": {},
     "output_type": "display_data"
    }
   ],
   "source": [
    "#Code here\n",
    "plt.figure(figsize=(10,6))\n",
    "sns.boxplot(x=df_quiz['Age'])\n",
    "plt.title('Age grouped who purchased the product')\n",
    "plt.xlabel('Age group')\n",
    "plt.ylabel('product')\n",
    "plt.show()"
   ]
  },
  {
   "cell_type": "markdown",
   "id": "69675019",
   "metadata": {
    "id": "69675019"
   },
   "source": [
    "### Task - 3 (Bar Plots)\n",
    "1 - Set the size of the figure to (10 , 6).\n",
    "\n",
    "2 - Create a df to get the count of all the Categories inside the \"Gender\" feature.\n",
    "\n",
    "3 - Create an instance of a bar plot for plotting these Categories.\n",
    "\n",
    "4 - Define the title, x & y label.\n",
    "\n",
    "5 - Display the plot and note your observations.\n",
    "\n",
    "6 - Set the size of the figure to (10 , 6).\n",
    "\n",
    "7 - Create a df to get the count of all the Categories inside the \"CategoryID\" feature.\n",
    "\n",
    "8 - Create an instance of a bar plot for plotting these Categories.\n",
    "\n",
    "9 - Define the title, x & y label.\n",
    "\n",
    "10 - Display the plot and note your observations."
   ]
  },
  {
   "cell_type": "code",
   "execution_count": 126,
   "id": "3d871513-bef3-420c-8276-26c44cbfe768",
   "metadata": {},
   "outputs": [
    {
     "data": {
      "text/plain": [
       "Gender\n",
       "Other     0.366\n",
       "Male      0.332\n",
       "Female    0.302\n",
       "Name: proportion, dtype: float64"
      ]
     },
     "execution_count": 126,
     "metadata": {},
     "output_type": "execute_result"
    }
   ],
   "source": [
    "gender_value=df_quiz.Gender.value_counts(normalize= True)\n",
    "gender_value\n",
    "#inp0.Season.value_counts(normalize= True)"
   ]
  },
  {
   "cell_type": "code",
   "execution_count": 130,
   "id": "58b8f18b",
   "metadata": {
    "id": "58b8f18b"
   },
   "outputs": [
    {
     "data": {
      "image/png": "[encoded data removed]",
      "text/plain": [
       "<Figure size 1000x600 with 1 Axes>"
      ]
     },
     "metadata": {},
     "output_type": "display_data"
    }
   ],
   "source": [
    "#Code here\n",
    "\n",
    "plt.figure(figsize=(10,6))\n",
    "#plt.plot(df_quiz['Gender'],kind='barh')\n",
    "gender_value.plot(kind='bar')\n",
    "plt.title('male vs female ratio')\n",
    "plt.xlabel('gender')\n",
    "plt.ylabel('product')\n",
    "plt.show()"
   ]
  },
  {
   "cell_type": "code",
   "execution_count": 132,
   "id": "25b5ba3d-b7fb-40ad-becb-c7cd24ee5b4e",
   "metadata": {},
   "outputs": [
    {
     "data": {
      "text/plain": [
       "CategoryID\n",
       "13    0.070\n",
       "12    0.068\n",
       "2     0.064\n",
       "20    0.064\n",
       "15    0.058\n",
       "8     0.058\n",
       "9     0.056\n",
       "19    0.056\n",
       "6     0.052\n",
       "3     0.050\n",
       "18    0.046\n",
       "10    0.046\n",
       "7     0.044\n",
       "5     0.044\n",
       "4     0.042\n",
       "1     0.042\n",
       "11    0.042\n",
       "14    0.040\n",
       "16    0.032\n",
       "17    0.026\n",
       "Name: proportion, dtype: float64"
      ]
     },
     "execution_count": 132,
     "metadata": {},
     "output_type": "execute_result"
    }
   ],
   "source": [
    "category_value=df_quiz.CategoryID.value_counts(normalize= True)\n",
    "category_value"
   ]
  },
  {
   "cell_type": "code",
   "execution_count": 134,
   "id": "e24f7e06",
   "metadata": {
    "id": "e24f7e06"
   },
   "outputs": [
    {
     "data": {
      "image/png": "[encoded data removed]",
      "text/plain": [
       "<Figure size 1000x600 with 1 Axes>"
      ]
     },
     "metadata": {},
     "output_type": "display_data"
    }
   ],
   "source": [
    "#Code here\n",
    "plt.figure(figsize=(10,6))\n",
    "category_value.plot(kind='bar')\n",
    "plt.title('category_value who purchased the product')\n",
    "plt.xlabel('categoty Id ')\n",
    "plt.ylabel('no of products')\n",
    "plt.show()"
   ]
  },
  {
   "cell_type": "markdown",
   "id": "Ct3w_c5R-Qfy",
   "metadata": {
    "id": "Ct3w_c5R-Qfy"
   },
   "source": [
    "In this session, you learnt how to perform univariate analysis, which is an essential first step in understanding a dataset. Univariate analysis focused on one variable at a time, and it helped us identify key characteristics such as the distribution, central tendency, spread, and presence of outliers in the Titanic and E-Commerce Sales dataset."
   ]
  }
 ],
 "metadata": {
  "colab": {
   "provenance": [],
   "toc_visible": true
  },
  "kernelspec": {
   "display_name": "Python [conda env:base] *",
   "language": "python",
   "name": "conda-base-py"
  },
  "language_info": {
   "codemirror_mode": {
    "name": "ipython",
    "version": 3
   },
   "file_extension": ".py",
   "mimetype": "text/x-python",
   "name": "python",
   "nbconvert_exporter": "python",
   "pygments_lexer": "ipython3",
   "version": "3.12.7"
  }
 },
 "nbformat": 4,
 "nbformat_minor": 5
}
